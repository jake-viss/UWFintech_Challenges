{
 "cells": [
  {
   "cell_type": "markdown",
   "metadata": {},
   "source": [
    "# Financial Planning with APIs and Simulations\n",
    "\n",
    "In this Challenge, you’ll create two financial analysis tools by using a single Jupyter notebook:\n",
    "\n",
    "Part 1: A financial planner for emergencies. The members will be able to use this tool to visualize their current savings. The members can then determine if they have enough reserves for an emergency fund.\n",
    "\n",
    "Part 2: A financial planner for retirement. This tool will forecast the performance of their retirement portfolio in 30 years. To do this, the tool will make an Alpaca API call via the Alpaca SDK to get historical price data for use in Monte Carlo simulations.\n",
    "\n",
    "You’ll use the information from the Monte Carlo simulation to answer questions about the portfolio in your Jupyter notebook.\n",
    "\n"
   ]
  },
  {
   "cell_type": "code",
   "execution_count": 1,
   "metadata": {},
   "outputs": [],
   "source": [
    "# Import the required libraries and dependencies\n",
    "import os\n",
    "import requests\n",
    "import json\n",
    "import pandas as pd\n",
    "from dotenv import load_dotenv\n",
    "import alpaca_trade_api as tradeapi\n",
    "from MCForecastTools import MCSimulation\n",
    "\n",
    "%matplotlib inline"
   ]
  },
  {
   "cell_type": "code",
   "execution_count": 2,
   "metadata": {},
   "outputs": [
    {
     "data": {
      "text/plain": [
       "True"
      ]
     },
     "execution_count": 2,
     "metadata": {},
     "output_type": "execute_result"
    }
   ],
   "source": [
    "# Load the environment variables from the .env file\n",
    "#by calling the load_dotenv function\n",
    "load_dotenv()"
   ]
  },
  {
   "cell_type": "markdown",
   "metadata": {},
   "source": [
    "## Part 1: Create a Financial Planner for Emergencies"
   ]
  },
  {
   "cell_type": "markdown",
   "metadata": {},
   "source": [
    "### Evaluate the Cryptocurrency Wallet by Using the Requests Library\n",
    "\n",
    "In this section, you’ll determine the current value of a member’s cryptocurrency wallet. You’ll collect the current prices for the Bitcoin and Ethereum cryptocurrencies by using the Python Requests library. For the prototype, you’ll assume that the member holds the 1.2 Bitcoins (BTC) and 5.3 Ethereum coins (ETH). To do all this, complete the following steps:\n",
    "\n",
    "1. Create a variable named `monthly_income`, and set its value to `12000`.\n",
    "\n",
    "2. Use the Requests library to get the current price (in US dollars) of Bitcoin (BTC) and Ethereum (ETH) by using the API endpoints that the starter code supplies.\n",
    "\n",
    "3. Navigate the JSON response object to access the current price of each coin, and store each in a variable.\n",
    "\n",
    "    > **Hint** Note the specific identifier for each cryptocurrency in the API JSON response. The Bitcoin identifier is `1`, and the Ethereum identifier is `1027`.\n",
    "\n",
    "4. Calculate the value, in US dollars, of the current amount of each cryptocurrency and of the entire cryptocurrency wallet.\n",
    "\n"
   ]
  },
  {
   "cell_type": "code",
   "execution_count": 3,
   "metadata": {},
   "outputs": [],
   "source": [
    "# The current number of coins for each cryptocurrency asset held in the portfolio.\n",
    "btc_coins = 1.2\n",
    "eth_coins = 5.3"
   ]
  },
  {
   "cell_type": "markdown",
   "metadata": {},
   "source": [
    "#### Step 1: Create a variable named `monthly_income`, and set its value to `12000`."
   ]
  },
  {
   "cell_type": "code",
   "execution_count": 4,
   "metadata": {},
   "outputs": [],
   "source": [
    "# The monthly amount for the member's household income\n",
    "monthly_income = 12000\n"
   ]
  },
  {
   "cell_type": "markdown",
   "metadata": {},
   "source": [
    "#### Review the endpoint URLs for the API calls to Free Crypto API in order to get the current pricing information for both BTC and ETH."
   ]
  },
  {
   "cell_type": "code",
   "execution_count": 5,
   "metadata": {},
   "outputs": [],
   "source": [
    "# The Free Crypto API Call endpoint URLs for the held cryptocurrency assets\n",
    "btc_url = \"https://api.alternative.me/v2/ticker/Bitcoin/?convert=USD\"\n",
    "eth_url = \"https://api.alternative.me/v2/ticker/Ethereum/?convert=USD\""
   ]
  },
  {
   "cell_type": "markdown",
   "metadata": {},
   "source": [
    "#### Step 2. Use the Requests library to get the current price (in US dollars) of Bitcoin (BTC) and Ethereum (ETH) by using the API endpoints that the starter code supplied."
   ]
  },
  {
   "cell_type": "code",
   "execution_count": 6,
   "metadata": {},
   "outputs": [
    {
     "name": "stdout",
     "output_type": "stream",
     "text": [
      "{\n",
      "    \"data\": {\n",
      "        \"1\": {\n",
      "            \"circulating_supply\": 18823418,\n",
      "            \"id\": 1,\n",
      "            \"last_updated\": 1632354540,\n",
      "            \"max_supply\": 21000000,\n",
      "            \"name\": \"Bitcoin\",\n",
      "            \"quotes\": {\n",
      "                \"USD\": {\n",
      "                    \"market_cap\": 820234106996,\n",
      "                    \"percent_change_1h\": 0.0195167829939601,\n",
      "                    \"percent_change_24h\": 8.16200307256758,\n",
      "                    \"percent_change_7d\": -7.60673009815742,\n",
      "                    \"percentage_change_1h\": 0.0195167829939601,\n",
      "                    \"percentage_change_24h\": 8.16200307256758,\n",
      "                    \"percentage_change_7d\": -7.60673009815742,\n",
      "                    \"price\": 43550.0,\n",
      "                    \"volume_24h\": 36641899599\n",
      "                }\n",
      "            },\n",
      "            \"rank\": 1,\n",
      "            \"symbol\": \"BTC\",\n",
      "            \"total_supply\": 18823418,\n",
      "            \"website_slug\": \"bitcoin\"\n",
      "        }\n",
      "    },\n",
      "    \"metadata\": {\n",
      "        \"error\": null,\n",
      "        \"num_cryptocurrencies\": 3105,\n",
      "        \"timestamp\": 1632354540\n",
      "    }\n",
      "}\n"
     ]
    }
   ],
   "source": [
    "# Using the Python requests library, make an API call to access the current price of BTC\n",
    "btc_response = requests.get(btc_url).json()\n",
    "\n",
    "# Use the json.dumps function to review the response data from the API call\n",
    "# Use the indent and sort_keys parameters to make the response object readable\n",
    "print(json.dumps(btc_response, indent=4, sort_keys=True))\n"
   ]
  },
  {
   "cell_type": "code",
   "execution_count": 7,
   "metadata": {},
   "outputs": [
    {
     "name": "stdout",
     "output_type": "stream",
     "text": [
      "{\n",
      "    \"data\": {\n",
      "        \"1027\": {\n",
      "            \"circulating_supply\": 117634423,\n",
      "            \"id\": 1027,\n",
      "            \"last_updated\": 1632354551,\n",
      "            \"max_supply\": 0,\n",
      "            \"name\": \"Ethereum\",\n",
      "            \"quotes\": {\n",
      "                \"USD\": {\n",
      "                    \"market_cap\": 360128836088,\n",
      "                    \"percent_change_1h\": -0.530690894114307,\n",
      "                    \"percent_change_24h\": 11.8908806152694,\n",
      "                    \"percent_change_7d\": -10.6934498760537,\n",
      "                    \"percentage_change_1h\": -0.530690894114307,\n",
      "                    \"percentage_change_24h\": 11.8908806152694,\n",
      "                    \"percentage_change_7d\": -10.6934498760537,\n",
      "                    \"price\": 3058.97,\n",
      "                    \"volume_24h\": 27014374729\n",
      "                }\n",
      "            },\n",
      "            \"rank\": 2,\n",
      "            \"symbol\": \"ETH\",\n",
      "            \"total_supply\": 117634423,\n",
      "            \"website_slug\": \"ethereum\"\n",
      "        }\n",
      "    },\n",
      "    \"metadata\": {\n",
      "        \"error\": null,\n",
      "        \"num_cryptocurrencies\": 3105,\n",
      "        \"timestamp\": 1632354551\n",
      "    }\n",
      "}\n"
     ]
    }
   ],
   "source": [
    "# Using the Python requests library, make an API call to access the current price ETH\n",
    "eth_response = requests.get(eth_url).json()\n",
    "\n",
    "# Use the json.dumps function to review the response data from the API call\n",
    "# Use the indent and sort_keys parameters to make the response object readable\n",
    "print(json.dumps(eth_response, indent=4, sort_keys=True))\n"
   ]
  },
  {
   "cell_type": "markdown",
   "metadata": {},
   "source": [
    "#### Step 3: Navigate the JSON response object to access the current price of each coin, and store each in a variable."
   ]
  },
  {
   "cell_type": "code",
   "execution_count": 8,
   "metadata": {},
   "outputs": [
    {
     "name": "stdout",
     "output_type": "stream",
     "text": [
      "43550.0\n"
     ]
    }
   ],
   "source": [
    "# Navigate the BTC response object to access the current price of BTC\n",
    "btc_price = btc_response[\"data\"][\"1\"][\"quotes\"][\"USD\"][\"price\"]\n",
    "\n",
    "# Print the current price of BTC\n",
    "print(btc_price)\n"
   ]
  },
  {
   "cell_type": "code",
   "execution_count": 9,
   "metadata": {},
   "outputs": [
    {
     "name": "stdout",
     "output_type": "stream",
     "text": [
      "3058.97\n"
     ]
    }
   ],
   "source": [
    "# Navigate the BTC response object to access the current price of ETH\n",
    "eth_price = eth_response[\"data\"][\"1027\"][\"quotes\"][\"USD\"][\"price\"]\n",
    "\n",
    "# Print the current price of ETH\n",
    "print(eth_price)"
   ]
  },
  {
   "cell_type": "markdown",
   "metadata": {},
   "source": [
    "### Step 4: Calculate the value, in US dollars, of the current amount of each cryptocurrency and of the entire cryptocurrency wallet."
   ]
  },
  {
   "cell_type": "code",
   "execution_count": 10,
   "metadata": {},
   "outputs": [
    {
     "name": "stdout",
     "output_type": "stream",
     "text": [
      "52260.0\n"
     ]
    }
   ],
   "source": [
    "# Compute the current value of the BTC holding \n",
    "btc_value = btc_price * btc_coins\n",
    "\n",
    "# Print current value of your holding in BTC\n",
    "print(btc_value)\n"
   ]
  },
  {
   "cell_type": "code",
   "execution_count": 11,
   "metadata": {},
   "outputs": [
    {
     "name": "stdout",
     "output_type": "stream",
     "text": [
      "16212.541\n"
     ]
    }
   ],
   "source": [
    "# Compute the current value of the ETH holding \n",
    "eth_value = eth_price * eth_coins\n",
    "\n",
    "# Print current value of your holding in ETH\n",
    "print(eth_value)\n"
   ]
  },
  {
   "cell_type": "code",
   "execution_count": 12,
   "metadata": {},
   "outputs": [
    {
     "name": "stdout",
     "output_type": "stream",
     "text": [
      "68472.541\n"
     ]
    }
   ],
   "source": [
    "# Compute the total value of the cryptocurrency wallet\n",
    "# Add the value of the BTC holding to the value of the ETH holding\n",
    "total_crypto_wallet = eth_value + btc_value\n",
    "\n",
    "# Print current cryptocurrency wallet balance\n",
    "print(total_crypto_wallet)\n"
   ]
  },
  {
   "cell_type": "markdown",
   "metadata": {},
   "source": [
    "### Evaluate the Stock and Bond Holdings by Using the Alpaca SDK\n",
    "\n",
    "In this section, you’ll determine the current value of a member’s stock and bond holdings. You’ll make an API call to Alpaca via the Alpaca SDK to get the current closing prices of the SPDR S&P 500 ETF Trust (ticker: SPY) and of the iShares Core US Aggregate Bond ETF (ticker: AGG). For the prototype, assume that the member holds 110 shares of SPY, which represents the stock portion of their portfolio, and 200 shares of AGG, which represents the bond portion. To do all this, complete the following steps:\n",
    "\n",
    "1. In the `Starter_Code` folder, create an environment file (`.env`) to store the values of your Alpaca API key and Alpaca secret key.\n",
    "\n",
    "2. Set the variables for the Alpaca API and secret keys. Using the Alpaca SDK, create the Alpaca `tradeapi.REST` object. In this object, include the parameters for the Alpaca API key, the secret key, and the version number.\n",
    "\n",
    "3. Set the following parameters for the Alpaca API call:\n",
    "\n",
    "    - `tickers`: Use the tickers for the member’s stock and bond holdings.\n",
    "\n",
    "    - `timeframe`: Use a time frame of one day.\n",
    "\n",
    "    - `start_date` and `end_date`: Use the same date for these parameters, and format them with the date of the previous weekday (or `2020-08-07`). This is because you want the one closing price for the most-recent trading day.\n",
    "\n",
    "4. Get the current closing prices for `SPY` and `AGG` by using the Alpaca `get_barset` function. Format the response as a Pandas DataFrame by including the `df` property at the end of the `get_barset` function.\n",
    "\n",
    "5. Navigating the Alpaca response DataFrame, select the `SPY` and `AGG` closing prices, and store them as variables.\n",
    "\n",
    "6. Calculate the value, in US dollars, of the current amount of shares in each of the stock and bond portions of the portfolio, and print the results.\n"
   ]
  },
  {
   "cell_type": "markdown",
   "metadata": {},
   "source": [
    "#### Review the total number of shares held in both (SPY) and (AGG)."
   ]
  },
  {
   "cell_type": "code",
   "execution_count": 13,
   "metadata": {},
   "outputs": [],
   "source": [
    "# Current amount of shares held in both the stock (SPY) and bond (AGG) portion of the portfolio.\n",
    "spy_shares = 110\n",
    "agg_shares = 200\n"
   ]
  },
  {
   "cell_type": "markdown",
   "metadata": {},
   "source": [
    "#### Step 1: In the `Starter_Code` folder, create an environment file (`.env`) to store the values of your Alpaca API key and Alpaca secret key."
   ]
  },
  {
   "cell_type": "markdown",
   "metadata": {},
   "source": [
    "#### Step 2: Set the variables for the Alpaca API and secret keys. Using the Alpaca SDK, create the Alpaca `tradeapi.REST` object. In this object, include the parameters for the Alpaca API key, the secret key, and the version number."
   ]
  },
  {
   "cell_type": "code",
   "execution_count": 14,
   "metadata": {},
   "outputs": [
    {
     "data": {
      "text/plain": [
       "20"
      ]
     },
     "metadata": {},
     "output_type": "display_data"
    },
    {
     "data": {
      "text/plain": [
       "40"
      ]
     },
     "metadata": {},
     "output_type": "display_data"
    }
   ],
   "source": [
    "# Set the variables for the Alpaca API and secret keys\n",
    "alpaca_api_key = os.getenv(\"ALPACA_API_KEY\")\n",
    "alpaca_secret_key = os.getenv(\"ALPACA_SECRET_KEY\")\n",
    "\n",
    "# Verify keys imported correctly.\n",
    "display(len(alpaca_api_key))\n",
    "display(len(alpaca_secret_key))\n",
    "\n",
    "# Create the Alpaca tradeapi.REST object\n",
    "alpaca = tradeapi.REST(\n",
    "    alpaca_api_key,\n",
    "    alpaca_secret_key,\n",
    "    api_version=\"v2\")\n"
   ]
  },
  {
   "cell_type": "markdown",
   "metadata": {},
   "source": [
    "#### Step 3: Set the following parameters for the Alpaca API call:\n",
    "\n",
    "- `tickers`: Use the tickers for the member’s stock and bond holdings.\n",
    "\n",
    "- `timeframe`: Use a time frame of one day.\n",
    "\n",
    "- `start_date` and `end_date`: Use the same date for these parameters, and format them with the date of the previous weekday (or `2020-08-07`). This is because you want the one closing price for the most-recent trading day.\n"
   ]
  },
  {
   "cell_type": "code",
   "execution_count": 15,
   "metadata": {},
   "outputs": [],
   "source": [
    "# Set the tickers for both the bond and stock portion of the portfolio\n",
    "tickers = [\"SPY\",\"AGG\"]\n",
    "\n",
    "# Set timeframe to 1D \n",
    "timeframe = \"1D\"\n",
    "\n",
    "# Format current date as ISO format\n",
    "# Set both the start and end date at the date of your prior weekday \n",
    "# This will give you the closing price of the previous trading day\n",
    "# Alternatively you can use a start and end date of 2020-08-07\n",
    "start_date = pd.Timestamp(\"2021-09-17\",tz=\"America/New_York\").isoformat()\n",
    "end_date = pd.Timestamp(\"2021-09-17\",tz=\"America/New_York\").isoformat()\n"
   ]
  },
  {
   "cell_type": "markdown",
   "metadata": {},
   "source": [
    "#### Step 4: Get the current closing prices for `SPY` and `AGG` by using the Alpaca `get_barset` function. Format the response as a Pandas DataFrame by including the `df` property at the end of the `get_barset` function."
   ]
  },
  {
   "cell_type": "code",
   "execution_count": 16,
   "metadata": {},
   "outputs": [
    {
     "data": {
      "text/html": [
       "<div>\n",
       "<style scoped>\n",
       "    .dataframe tbody tr th:only-of-type {\n",
       "        vertical-align: middle;\n",
       "    }\n",
       "\n",
       "    .dataframe tbody tr th {\n",
       "        vertical-align: top;\n",
       "    }\n",
       "\n",
       "    .dataframe thead tr th {\n",
       "        text-align: left;\n",
       "    }\n",
       "\n",
       "    .dataframe thead tr:last-of-type th {\n",
       "        text-align: right;\n",
       "    }\n",
       "</style>\n",
       "<table border=\"1\" class=\"dataframe\">\n",
       "  <thead>\n",
       "    <tr>\n",
       "      <th></th>\n",
       "      <th colspan=\"5\" halign=\"left\">AGG</th>\n",
       "      <th colspan=\"5\" halign=\"left\">SPY</th>\n",
       "    </tr>\n",
       "    <tr>\n",
       "      <th></th>\n",
       "      <th>open</th>\n",
       "      <th>high</th>\n",
       "      <th>low</th>\n",
       "      <th>close</th>\n",
       "      <th>volume</th>\n",
       "      <th>open</th>\n",
       "      <th>high</th>\n",
       "      <th>low</th>\n",
       "      <th>close</th>\n",
       "      <th>volume</th>\n",
       "    </tr>\n",
       "    <tr>\n",
       "      <th>time</th>\n",
       "      <th></th>\n",
       "      <th></th>\n",
       "      <th></th>\n",
       "      <th></th>\n",
       "      <th></th>\n",
       "      <th></th>\n",
       "      <th></th>\n",
       "      <th></th>\n",
       "      <th></th>\n",
       "      <th></th>\n",
       "    </tr>\n",
       "  </thead>\n",
       "  <tbody>\n",
       "    <tr>\n",
       "      <th>2021-09-17 00:00:00-04:00</th>\n",
       "      <td>115.8</td>\n",
       "      <td>115.875</td>\n",
       "      <td>115.7428</td>\n",
       "      <td>115.85</td>\n",
       "      <td>4662040</td>\n",
       "      <td>444.92</td>\n",
       "      <td>445.37</td>\n",
       "      <td>441.02</td>\n",
       "      <td>441.41</td>\n",
       "      <td>100861596</td>\n",
       "    </tr>\n",
       "  </tbody>\n",
       "</table>\n",
       "</div>"
      ],
      "text/plain": [
       "                             AGG                                         SPY  \\\n",
       "                            open     high       low   close   volume    open   \n",
       "time                                                                           \n",
       "2021-09-17 00:00:00-04:00  115.8  115.875  115.7428  115.85  4662040  444.92   \n",
       "\n",
       "                                                              \n",
       "                             high     low   close     volume  \n",
       "time                                                          \n",
       "2021-09-17 00:00:00-04:00  445.37  441.02  441.41  100861596  "
      ]
     },
     "execution_count": 16,
     "metadata": {},
     "output_type": "execute_result"
    }
   ],
   "source": [
    "# Use the Alpaca get_barset function to get current closing prices the portfolio\n",
    "# Be sure to set the `df` property after the function to format the response object as a DataFrame\n",
    "df_closing_prices = alpaca.get_barset(\n",
    "    tickers,\n",
    "    timeframe,\n",
    "    start = start_date,\n",
    "    end = end_date).df\n",
    "\n",
    "# Review the first 5 rows of the Alpaca DataFrame\n",
    "df_closing_prices.head()\n"
   ]
  },
  {
   "cell_type": "markdown",
   "metadata": {},
   "source": [
    "#### Step 5: Navigating the Alpaca response DataFrame, select the `SPY` and `AGG` closing prices, and store them as variables."
   ]
  },
  {
   "cell_type": "code",
   "execution_count": 17,
   "metadata": {},
   "outputs": [
    {
     "name": "stdout",
     "output_type": "stream",
     "text": [
      "115.85\n"
     ]
    }
   ],
   "source": [
    "# Access the closing price for AGG from the Alpaca DataFrame\n",
    "# Converting the value to a floating point number\n",
    "agg_close_price = float(df_closing_prices[\"AGG\"][\"close\"])\n",
    "\n",
    "# Print the AGG closing price\n",
    "print(agg_close_price)\n"
   ]
  },
  {
   "cell_type": "code",
   "execution_count": 18,
   "metadata": {},
   "outputs": [
    {
     "name": "stdout",
     "output_type": "stream",
     "text": [
      "441.41\n"
     ]
    }
   ],
   "source": [
    "# Access the closing price for SPY from the Alpaca DataFrame\n",
    "# Converting the value to a floating point number\n",
    "spy_close_price = float(df_closing_prices[\"SPY\"][\"close\"])\n",
    "\n",
    "# Print the SPY closing price\n",
    "print(spy_close_price)\n"
   ]
  },
  {
   "cell_type": "markdown",
   "metadata": {},
   "source": [
    "#### Step 6: Calculate the value, in US dollars, of the current amount of shares in each of the stock and bond portions of the portfolio, and print the results."
   ]
  },
  {
   "cell_type": "code",
   "execution_count": 19,
   "metadata": {},
   "outputs": [
    {
     "name": "stdout",
     "output_type": "stream",
     "text": [
      "23170.0\n"
     ]
    }
   ],
   "source": [
    "# Calculate the current value of the bond portion of the portfolio\n",
    "agg_value = agg_shares * agg_close_price\n",
    "\n",
    "# Print the current value of the bond portfolio\n",
    "print(agg_value)\n"
   ]
  },
  {
   "cell_type": "code",
   "execution_count": 20,
   "metadata": {},
   "outputs": [
    {
     "name": "stdout",
     "output_type": "stream",
     "text": [
      "48555.100000000006\n"
     ]
    }
   ],
   "source": [
    "# Calculate the current value of the stock portion of the portfolio\n",
    "spy_value = spy_shares * spy_close_price\n",
    "\n",
    "# Print the current value of the stock portfolio\n",
    "print(spy_value)"
   ]
  },
  {
   "cell_type": "code",
   "execution_count": 21,
   "metadata": {},
   "outputs": [
    {
     "name": "stdout",
     "output_type": "stream",
     "text": [
      "71725.1\n"
     ]
    }
   ],
   "source": [
    "# Calculate the total value of the stock and bond portion of the portfolio\n",
    "total_stocks_bonds = spy_value + agg_value\n",
    "\n",
    "# Print the current balance of the stock and bond portion of the portfolio\n",
    "print(total_stocks_bonds)"
   ]
  },
  {
   "cell_type": "code",
   "execution_count": 22,
   "metadata": {},
   "outputs": [
    {
     "name": "stdout",
     "output_type": "stream",
     "text": [
      "$ 140197.64\n"
     ]
    }
   ],
   "source": [
    "# Calculate the total value of the member's entire savings portfolio\n",
    "# Add the value of the cryptocurrency walled to the value of the total stocks and bonds\n",
    "total_portfolio = total_crypto_wallet + total_stocks_bonds\n",
    "\n",
    "# Print current cryptocurrency wallet balance\n",
    "print(f\"${total_portfolio: .2f}\")"
   ]
  },
  {
   "cell_type": "markdown",
   "metadata": {},
   "source": [
    "### Evaluate the Emergency Fund\n",
    "\n",
    "In this section, you’ll use the valuations for the cryptocurrency wallet and for the stock and bond portions of the portfolio to determine if the credit union member has enough savings to build an emergency fund into their financial plan. To do this, complete the following steps:\n",
    "\n",
    "1. Create a Python list named `savings_data` that has two elements. The first element contains the total value of the cryptocurrency wallet. The second element contains the total value of the stock and bond portions of the portfolio.\n",
    "\n",
    "2. Use the `savings_data` list to create a Pandas DataFrame named `savings_df`, and then display this DataFrame. The function to create the DataFrame should take the following three parameters:\n",
    "\n",
    "    - `savings_data`: Use the list that you just created.\n",
    "\n",
    "    - `columns`: Set this parameter equal to a Python list with a single value called `amount`.\n",
    "\n",
    "    - `index`: Set this parameter equal to a Python list with the values of `crypto` and `stock/bond`.\n",
    "\n",
    "3. Use the `savings_df` DataFrame to plot a pie chart that visualizes the composition of the member’s portfolio. The y-axis of the pie chart uses `amount`. Be sure to add a title.\n",
    "\n",
    "4. Using Python, determine if the current portfolio has enough to create an emergency fund as part of the member’s financial plan. Ideally, an emergency fund should equal to three times the member’s monthly income. To do this, implement the following steps:\n",
    "\n",
    "    1. Create a variable named `emergency_fund_value`, and set it equal to three times the value of the member’s `monthly_income` of $12000. (You set this earlier in Part 1).\n",
    "\n",
    "    2. Create a series of three if statements to determine if the member’s total portfolio is large enough to fund the emergency portfolio:\n",
    "\n",
    "        1. If the total portfolio value is greater than the emergency fund value, display a message congratulating the member for having enough money in this fund.\n",
    "\n",
    "        2. Else if the total portfolio value is equal to the emergency fund value, display a message congratulating the member on reaching this important financial goal.\n",
    "\n",
    "        3. Else the total portfolio is less than the emergency fund value, so display a message showing how many dollars away the member is from reaching the goal. (Subtract the total portfolio value from the emergency fund value.)\n"
   ]
  },
  {
   "cell_type": "markdown",
   "metadata": {},
   "source": [
    "#### Step 1: Create a Python list named `savings_data` that has two elements. The first element contains the total value of the cryptocurrency wallet. The second element contains the total value of the stock and bond portions of the portfolio."
   ]
  },
  {
   "cell_type": "code",
   "execution_count": 23,
   "metadata": {},
   "outputs": [
    {
     "data": {
      "text/plain": [
       "list"
      ]
     },
     "metadata": {},
     "output_type": "display_data"
    },
    {
     "data": {
      "text/plain": [
       "[68472.541, 71725.1]"
      ]
     },
     "execution_count": 23,
     "metadata": {},
     "output_type": "execute_result"
    }
   ],
   "source": [
    "# Consolidate financial assets data into a Python list\n",
    "savings_data = [total_crypto_wallet, total_stocks_bonds]\n",
    "# Review the Python list savings_data\n",
    "display(type(savings_data))\n",
    "savings_data    "
   ]
  },
  {
   "cell_type": "markdown",
   "metadata": {},
   "source": [
    "#### Step 2: Use the `savings_data` list to create a Pandas DataFrame named `savings_df`, and then display this DataFrame. The function to create the DataFrame should take the following three parameters:\n",
    "\n",
    "- `savings_data`: Use the list that you just created.\n",
    "\n",
    "- `columns`: Set this parameter equal to a Python list with a single value called `amount`.\n",
    "\n",
    "- `index`: Set this parameter equal to a Python list with the values of `crypto` and `stock/bond`.\n"
   ]
  },
  {
   "cell_type": "code",
   "execution_count": 24,
   "metadata": {},
   "outputs": [
    {
     "data": {
      "text/html": [
       "<div>\n",
       "<style scoped>\n",
       "    .dataframe tbody tr th:only-of-type {\n",
       "        vertical-align: middle;\n",
       "    }\n",
       "\n",
       "    .dataframe tbody tr th {\n",
       "        vertical-align: top;\n",
       "    }\n",
       "\n",
       "    .dataframe thead th {\n",
       "        text-align: right;\n",
       "    }\n",
       "</style>\n",
       "<table border=\"1\" class=\"dataframe\">\n",
       "  <thead>\n",
       "    <tr style=\"text-align: right;\">\n",
       "      <th></th>\n",
       "      <th>amount</th>\n",
       "    </tr>\n",
       "  </thead>\n",
       "  <tbody>\n",
       "    <tr>\n",
       "      <th>crypto</th>\n",
       "      <td>68472.541</td>\n",
       "    </tr>\n",
       "    <tr>\n",
       "      <th>stock/bond</th>\n",
       "      <td>71725.100</td>\n",
       "    </tr>\n",
       "  </tbody>\n",
       "</table>\n",
       "</div>"
      ],
      "text/plain": [
       "               amount\n",
       "crypto      68472.541\n",
       "stock/bond  71725.100"
      ]
     },
     "execution_count": 24,
     "metadata": {},
     "output_type": "execute_result"
    }
   ],
   "source": [
    "# Create a Pandas DataFrame called savings_df\n",
    "column_names = [\"amount\"]\n",
    "savings_index = [\"crypto\",\"stock/bond\"]\n",
    "savings_df = pd.DataFrame(data=savings_data, columns=column_names, index=savings_index)\n",
    "# Display the savings_df DataFrame\n",
    "savings_df"
   ]
  },
  {
   "cell_type": "markdown",
   "metadata": {},
   "source": [
    "#### Step 3: Use the `savings_df` DataFrame to plot a pie chart that visualizes the composition of the member’s portfolio. The y-axis of the pie chart uses `amount`. Be sure to add a title."
   ]
  },
  {
   "cell_type": "code",
   "execution_count": 25,
   "metadata": {},
   "outputs": [
    {
     "data": {
      "text/plain": [
       "<AxesSubplot:title={'center':'Total Value of Portfolio'}, ylabel='amount'>"
      ]
     },
     "execution_count": 25,
     "metadata": {},
     "output_type": "execute_result"
    },
    {
     "data": {
      "image/png": "[encoded data removed]",
      "text/plain": [
       "<Figure size 432x288 with 1 Axes>"
      ]
     },
     "metadata": {},
     "output_type": "display_data"
    }
   ],
   "source": [
    "# Plot the total value of the member's portfolio (crypto and stock/bond) in a pie chart\n",
    "savings_df.plot.pie(y=\"amount\", title=\"Total Value of Portfolio\")\n"
   ]
  },
  {
   "cell_type": "markdown",
   "metadata": {},
   "source": [
    "#### Step 4: Using Python, determine if the current portfolio has enough to create an emergency fund as part of the member’s financial plan. Ideally, an emergency fund should equal to three times the member’s monthly income. To do this, implement the following steps:\n",
    "\n",
    "Step 1. Create a variable named `emergency_fund_value`, and set it equal to three times the value of the member’s `monthly_income` of 12000. (You set this earlier in Part 1).\n",
    "\n",
    "Step 2. Create a series of three if statements to determine if the member’s total portfolio is large enough to fund the emergency portfolio:\n",
    "\n",
    "* If the total portfolio value is greater than the emergency fund value, display a message congratulating the member for having enough money in this fund.\n",
    "\n",
    "* Else if the total portfolio value is equal to the emergency fund value, display a message congratulating the member on reaching this important financial goal.\n",
    "\n",
    "* Else the total portfolio is less than the emergency fund value, so display a message showing how many dollars away the member is from reaching the goal. (Subtract the total portfolio value from the emergency fund value.)\n"
   ]
  },
  {
   "cell_type": "markdown",
   "metadata": {},
   "source": [
    "##### Step 4-1: Create a variable named `emergency_fund_value`, and set it equal to three times the value of the member’s `monthly_income` of 12000. (You set this earlier in Part 1)."
   ]
  },
  {
   "cell_type": "code",
   "execution_count": 26,
   "metadata": {},
   "outputs": [],
   "source": [
    "# Create a variable named emergency_fund_value\n",
    "emergency_fund_value = monthly_income * 3\n"
   ]
  },
  {
   "cell_type": "markdown",
   "metadata": {},
   "source": [
    "##### Step 4-2: Create a series of three if statements to determine if the member’s total portfolio is large enough to fund the emergency portfolio:\n",
    "\n",
    "* If the total portfolio value is greater than the emergency fund value, display a message congratulating the member for having enough money in this fund.\n",
    "\n",
    "* Else if the total portfolio value is equal to the emergency fund value, display a message congratulating the member on reaching this important financial goal.\n",
    "\n",
    "* Else the total portfolio is less than the emergency fund value, so display a message showing how many dollars away the member is from reaching the goal. (Subtract the total portfolio value from the emergency fund value.)"
   ]
  },
  {
   "cell_type": "code",
   "execution_count": 27,
   "metadata": {},
   "outputs": [
    {
     "name": "stdout",
     "output_type": "stream",
     "text": [
      "Congrats - your portfolio has enough money in it to create an emergency fund.\n"
     ]
    }
   ],
   "source": [
    "# Evaluate the possibility of creating an emergency fund with 3 conditions:\n",
    "if total_portfolio > emergency_fund_value:\n",
    "    print(\"Congrats - your portfolio has enough money in it to create an emergency fund.\")\n",
    "elif total_portfolio == emergency_fund_value:\n",
    "    print(\"Congrats - You're portfolio has reached the value you need for an emeregency fund which is an important financial goal.\")\n",
    "else:\n",
    "    print(f\"Your porfolio value is less than the amount needed for a reasonable emergency fund. Currently, it is short ${emergency_fund_value - total_portfolio: .2f} dollars.\")\n"
   ]
  },
  {
   "cell_type": "markdown",
   "metadata": {},
   "source": [
    "## Part 2: Create a Financial Planner for Retirement"
   ]
  },
  {
   "cell_type": "markdown",
   "metadata": {},
   "source": [
    "### Create the Monte Carlo Simulation\n",
    "\n",
    "In this section, you’ll use the MCForecastTools library to create a Monte Carlo simulation for the member’s savings portfolio. To do this, complete the following steps:\n",
    "\n",
    "1. Make an API call via the Alpaca SDK to get 3 years of historical closing prices for a traditional 60/40 portfolio split: 60% stocks (SPY) and 40% bonds (AGG).\n",
    "\n",
    "2. Run a Monte Carlo simulation of 500 samples and 30 years for the 60/40 portfolio, and then plot the results.The following image shows the overlay line plot resulting from a simulation with these characteristics. However, because a random number generator is used to run each live Monte Carlo simulation, your image will differ slightly from this exact image:\n",
    "\n",
    "![A screenshot depicts the resulting plot.](Images/5-4-monte-carlo-line-plot.png)\n",
    "\n",
    "3. Plot the probability distribution of the Monte Carlo simulation. Plot the probability distribution of the Monte Carlo simulation. The following image shows the histogram plot resulting from a simulation with these characteristics. However, because a random number generator is used to run each live Monte Carlo simulation, your image will differ slightly from this exact image:\n",
    "\n",
    "![A screenshot depicts the histogram plot.](Images/5-4-monte-carlo-histogram.png)\n",
    "\n",
    "4. Generate the summary statistics for the Monte Carlo simulation.\n",
    "\n"
   ]
  },
  {
   "cell_type": "markdown",
   "metadata": {},
   "source": [
    "#### Step 1: Make an API call via the Alpaca SDK to get 3 years of historical closing prices for a traditional 60/40 portfolio split: 60% stocks (SPY) and 40% bonds (AGG)."
   ]
  },
  {
   "cell_type": "code",
   "execution_count": 44,
   "metadata": {},
   "outputs": [],
   "source": [
    "# Set start and end dates of 3 years back from your current date\n",
    "# Alternatively, you can use an end date of 2020-08-07 and work 3 years back from that date \n",
    "start_date = pd.Timestamp(\"2018-09-17\",tz=\"America/New_York\").isoformat()\n",
    "end_date = pd.Timestamp(\"2021-09-17\",tz=\"America/New_York\").isoformat()\n",
    "\n",
    "# Set number of rows to 1000 to retrieve the maximum amount of rows\n",
    "limit_rows = 1000"
   ]
  },
  {
   "cell_type": "code",
   "execution_count": 45,
   "metadata": {},
   "outputs": [
    {
     "data": {
      "text/html": [
       "<div>\n",
       "<style scoped>\n",
       "    .dataframe tbody tr th:only-of-type {\n",
       "        vertical-align: middle;\n",
       "    }\n",
       "\n",
       "    .dataframe tbody tr th {\n",
       "        vertical-align: top;\n",
       "    }\n",
       "\n",
       "    .dataframe thead tr th {\n",
       "        text-align: left;\n",
       "    }\n",
       "\n",
       "    .dataframe thead tr:last-of-type th {\n",
       "        text-align: right;\n",
       "    }\n",
       "</style>\n",
       "<table border=\"1\" class=\"dataframe\">\n",
       "  <thead>\n",
       "    <tr>\n",
       "      <th></th>\n",
       "      <th colspan=\"5\" halign=\"left\">AGG</th>\n",
       "      <th colspan=\"5\" halign=\"left\">SPY</th>\n",
       "    </tr>\n",
       "    <tr>\n",
       "      <th></th>\n",
       "      <th>open</th>\n",
       "      <th>high</th>\n",
       "      <th>low</th>\n",
       "      <th>close</th>\n",
       "      <th>volume</th>\n",
       "      <th>open</th>\n",
       "      <th>high</th>\n",
       "      <th>low</th>\n",
       "      <th>close</th>\n",
       "      <th>volume</th>\n",
       "    </tr>\n",
       "    <tr>\n",
       "      <th>time</th>\n",
       "      <th></th>\n",
       "      <th></th>\n",
       "      <th></th>\n",
       "      <th></th>\n",
       "      <th></th>\n",
       "      <th></th>\n",
       "      <th></th>\n",
       "      <th></th>\n",
       "      <th></th>\n",
       "      <th></th>\n",
       "    </tr>\n",
       "  </thead>\n",
       "  <tbody>\n",
       "    <tr>\n",
       "      <th>2018-09-17 00:00:00-04:00</th>\n",
       "      <td>105.65</td>\n",
       "      <td>105.78</td>\n",
       "      <td>105.6000</td>\n",
       "      <td>105.660</td>\n",
       "      <td>5198364.0</td>\n",
       "      <td>290.82</td>\n",
       "      <td>290.86</td>\n",
       "      <td>289.030</td>\n",
       "      <td>289.34</td>\n",
       "      <td>43382137</td>\n",
       "    </tr>\n",
       "    <tr>\n",
       "      <th>2018-09-18 00:00:00-04:00</th>\n",
       "      <td>105.59</td>\n",
       "      <td>105.60</td>\n",
       "      <td>105.3900</td>\n",
       "      <td>105.430</td>\n",
       "      <td>2194556.0</td>\n",
       "      <td>289.57</td>\n",
       "      <td>291.58</td>\n",
       "      <td>289.550</td>\n",
       "      <td>290.90</td>\n",
       "      <td>38573521</td>\n",
       "    </tr>\n",
       "    <tr>\n",
       "      <th>2018-09-19 00:00:00-04:00</th>\n",
       "      <td>105.42</td>\n",
       "      <td>105.43</td>\n",
       "      <td>105.2200</td>\n",
       "      <td>105.270</td>\n",
       "      <td>2605609.0</td>\n",
       "      <td>290.97</td>\n",
       "      <td>291.69</td>\n",
       "      <td>290.825</td>\n",
       "      <td>291.25</td>\n",
       "      <td>34596543</td>\n",
       "    </tr>\n",
       "    <tr>\n",
       "      <th>2018-09-20 00:00:00-04:00</th>\n",
       "      <td>105.23</td>\n",
       "      <td>105.45</td>\n",
       "      <td>105.2300</td>\n",
       "      <td>105.370</td>\n",
       "      <td>2627111.0</td>\n",
       "      <td>292.64</td>\n",
       "      <td>293.94</td>\n",
       "      <td>292.510</td>\n",
       "      <td>293.55</td>\n",
       "      <td>54097569</td>\n",
       "    </tr>\n",
       "    <tr>\n",
       "      <th>2018-09-21 00:00:00-04:00</th>\n",
       "      <td>105.34</td>\n",
       "      <td>105.47</td>\n",
       "      <td>105.3232</td>\n",
       "      <td>105.465</td>\n",
       "      <td>2420806.0</td>\n",
       "      <td>293.09</td>\n",
       "      <td>293.22</td>\n",
       "      <td>291.810</td>\n",
       "      <td>292.01</td>\n",
       "      <td>45805544</td>\n",
       "    </tr>\n",
       "  </tbody>\n",
       "</table>\n",
       "</div>"
      ],
      "text/plain": [
       "                              AGG                                        \\\n",
       "                             open    high       low    close     volume   \n",
       "time                                                                      \n",
       "2018-09-17 00:00:00-04:00  105.65  105.78  105.6000  105.660  5198364.0   \n",
       "2018-09-18 00:00:00-04:00  105.59  105.60  105.3900  105.430  2194556.0   \n",
       "2018-09-19 00:00:00-04:00  105.42  105.43  105.2200  105.270  2605609.0   \n",
       "2018-09-20 00:00:00-04:00  105.23  105.45  105.2300  105.370  2627111.0   \n",
       "2018-09-21 00:00:00-04:00  105.34  105.47  105.3232  105.465  2420806.0   \n",
       "\n",
       "                              SPY                                     \n",
       "                             open    high      low   close    volume  \n",
       "time                                                                  \n",
       "2018-09-17 00:00:00-04:00  290.82  290.86  289.030  289.34  43382137  \n",
       "2018-09-18 00:00:00-04:00  289.57  291.58  289.550  290.90  38573521  \n",
       "2018-09-19 00:00:00-04:00  290.97  291.69  290.825  291.25  34596543  \n",
       "2018-09-20 00:00:00-04:00  292.64  293.94  292.510  293.55  54097569  \n",
       "2018-09-21 00:00:00-04:00  293.09  293.22  291.810  292.01  45805544  "
      ]
     },
     "metadata": {},
     "output_type": "display_data"
    },
    {
     "data": {
      "text/html": [
       "<div>\n",
       "<style scoped>\n",
       "    .dataframe tbody tr th:only-of-type {\n",
       "        vertical-align: middle;\n",
       "    }\n",
       "\n",
       "    .dataframe tbody tr th {\n",
       "        vertical-align: top;\n",
       "    }\n",
       "\n",
       "    .dataframe thead tr th {\n",
       "        text-align: left;\n",
       "    }\n",
       "\n",
       "    .dataframe thead tr:last-of-type th {\n",
       "        text-align: right;\n",
       "    }\n",
       "</style>\n",
       "<table border=\"1\" class=\"dataframe\">\n",
       "  <thead>\n",
       "    <tr>\n",
       "      <th></th>\n",
       "      <th colspan=\"5\" halign=\"left\">AGG</th>\n",
       "      <th colspan=\"5\" halign=\"left\">SPY</th>\n",
       "    </tr>\n",
       "    <tr>\n",
       "      <th></th>\n",
       "      <th>open</th>\n",
       "      <th>high</th>\n",
       "      <th>low</th>\n",
       "      <th>close</th>\n",
       "      <th>volume</th>\n",
       "      <th>open</th>\n",
       "      <th>high</th>\n",
       "      <th>low</th>\n",
       "      <th>close</th>\n",
       "      <th>volume</th>\n",
       "    </tr>\n",
       "    <tr>\n",
       "      <th>time</th>\n",
       "      <th></th>\n",
       "      <th></th>\n",
       "      <th></th>\n",
       "      <th></th>\n",
       "      <th></th>\n",
       "      <th></th>\n",
       "      <th></th>\n",
       "      <th></th>\n",
       "      <th></th>\n",
       "      <th></th>\n",
       "    </tr>\n",
       "  </thead>\n",
       "  <tbody>\n",
       "    <tr>\n",
       "      <th>2021-09-13 00:00:00-04:00</th>\n",
       "      <td>116.00</td>\n",
       "      <td>116.0750</td>\n",
       "      <td>115.9600</td>\n",
       "      <td>116.03</td>\n",
       "      <td>3289881.0</td>\n",
       "      <td>448.65</td>\n",
       "      <td>448.92</td>\n",
       "      <td>444.11</td>\n",
       "      <td>446.56</td>\n",
       "      <td>75103627</td>\n",
       "    </tr>\n",
       "    <tr>\n",
       "      <th>2021-09-14 00:00:00-04:00</th>\n",
       "      <td>116.07</td>\n",
       "      <td>116.3800</td>\n",
       "      <td>116.0700</td>\n",
       "      <td>116.28</td>\n",
       "      <td>4036304.0</td>\n",
       "      <td>448.12</td>\n",
       "      <td>448.34</td>\n",
       "      <td>443.22</td>\n",
       "      <td>444.18</td>\n",
       "      <td>67959711</td>\n",
       "    </tr>\n",
       "    <tr>\n",
       "      <th>2021-09-15 00:00:00-04:00</th>\n",
       "      <td>116.29</td>\n",
       "      <td>116.2929</td>\n",
       "      <td>116.0900</td>\n",
       "      <td>116.19</td>\n",
       "      <td>3348036.0</td>\n",
       "      <td>444.62</td>\n",
       "      <td>448.41</td>\n",
       "      <td>443.44</td>\n",
       "      <td>447.87</td>\n",
       "      <td>69265024</td>\n",
       "    </tr>\n",
       "    <tr>\n",
       "      <th>2021-09-16 00:00:00-04:00</th>\n",
       "      <td>115.95</td>\n",
       "      <td>116.1100</td>\n",
       "      <td>115.9050</td>\n",
       "      <td>115.99</td>\n",
       "      <td>3673608.0</td>\n",
       "      <td>447.32</td>\n",
       "      <td>448.36</td>\n",
       "      <td>444.02</td>\n",
       "      <td>447.14</td>\n",
       "      <td>69354318</td>\n",
       "    </tr>\n",
       "    <tr>\n",
       "      <th>2021-09-17 00:00:00-04:00</th>\n",
       "      <td>115.80</td>\n",
       "      <td>115.8750</td>\n",
       "      <td>115.7428</td>\n",
       "      <td>115.85</td>\n",
       "      <td>4662040.0</td>\n",
       "      <td>444.92</td>\n",
       "      <td>445.37</td>\n",
       "      <td>441.02</td>\n",
       "      <td>441.41</td>\n",
       "      <td>100861596</td>\n",
       "    </tr>\n",
       "  </tbody>\n",
       "</table>\n",
       "</div>"
      ],
      "text/plain": [
       "                              AGG                                         \\\n",
       "                             open      high       low   close     volume   \n",
       "time                                                                       \n",
       "2021-09-13 00:00:00-04:00  116.00  116.0750  115.9600  116.03  3289881.0   \n",
       "2021-09-14 00:00:00-04:00  116.07  116.3800  116.0700  116.28  4036304.0   \n",
       "2021-09-15 00:00:00-04:00  116.29  116.2929  116.0900  116.19  3348036.0   \n",
       "2021-09-16 00:00:00-04:00  115.95  116.1100  115.9050  115.99  3673608.0   \n",
       "2021-09-17 00:00:00-04:00  115.80  115.8750  115.7428  115.85  4662040.0   \n",
       "\n",
       "                              SPY                                     \n",
       "                             open    high     low   close     volume  \n",
       "time                                                                  \n",
       "2021-09-13 00:00:00-04:00  448.65  448.92  444.11  446.56   75103627  \n",
       "2021-09-14 00:00:00-04:00  448.12  448.34  443.22  444.18   67959711  \n",
       "2021-09-15 00:00:00-04:00  444.62  448.41  443.44  447.87   69265024  \n",
       "2021-09-16 00:00:00-04:00  447.32  448.36  444.02  447.14   69354318  \n",
       "2021-09-17 00:00:00-04:00  444.92  445.37  441.02  441.41  100861596  "
      ]
     },
     "metadata": {},
     "output_type": "display_data"
    }
   ],
   "source": [
    "# Use the Alpaca get_barset function to make the API call to get the 3 years worth of pricing data\n",
    "# The tickers and timeframe parameters should have been set in Part 1 of this activity \n",
    "# The start and end dates should be updated with the information set above\n",
    "# Remember to add the df property to the end of the call so the response is returned as a DataFrame\n",
    "three_year_pricing_df = alpaca.get_barset(\n",
    "    tickers,\n",
    "    timeframe,\n",
    "    start = start_date,\n",
    "    end = end_date,\n",
    "    limit = limit_rows\n",
    "    ).df\n",
    "\n",
    "\n",
    "# Display both the first and last five rows of the DataFrame\n",
    "display(three_year_pricing_df.head())\n",
    "display(three_year_pricing_df.tail())\n"
   ]
  },
  {
   "cell_type": "markdown",
   "metadata": {},
   "source": [
    "#### Step 2: Run a Monte Carlo simulation of 500 samples and 30 years for the 60/40 portfolio, and then plot the results."
   ]
  },
  {
   "cell_type": "code",
   "execution_count": 46,
   "metadata": {},
   "outputs": [
    {
     "data": {
      "text/html": [
       "<div>\n",
       "<style scoped>\n",
       "    .dataframe tbody tr th:only-of-type {\n",
       "        vertical-align: middle;\n",
       "    }\n",
       "\n",
       "    .dataframe tbody tr th {\n",
       "        vertical-align: top;\n",
       "    }\n",
       "\n",
       "    .dataframe thead tr th {\n",
       "        text-align: left;\n",
       "    }\n",
       "\n",
       "    .dataframe thead tr:last-of-type th {\n",
       "        text-align: right;\n",
       "    }\n",
       "</style>\n",
       "<table border=\"1\" class=\"dataframe\">\n",
       "  <thead>\n",
       "    <tr>\n",
       "      <th></th>\n",
       "      <th colspan=\"6\" halign=\"left\">AGG</th>\n",
       "      <th colspan=\"6\" halign=\"left\">SPY</th>\n",
       "    </tr>\n",
       "    <tr>\n",
       "      <th></th>\n",
       "      <th>open</th>\n",
       "      <th>high</th>\n",
       "      <th>low</th>\n",
       "      <th>close</th>\n",
       "      <th>volume</th>\n",
       "      <th>daily_return</th>\n",
       "      <th>open</th>\n",
       "      <th>high</th>\n",
       "      <th>low</th>\n",
       "      <th>close</th>\n",
       "      <th>volume</th>\n",
       "      <th>daily_return</th>\n",
       "    </tr>\n",
       "    <tr>\n",
       "      <th>time</th>\n",
       "      <th></th>\n",
       "      <th></th>\n",
       "      <th></th>\n",
       "      <th></th>\n",
       "      <th></th>\n",
       "      <th></th>\n",
       "      <th></th>\n",
       "      <th></th>\n",
       "      <th></th>\n",
       "      <th></th>\n",
       "      <th></th>\n",
       "      <th></th>\n",
       "    </tr>\n",
       "  </thead>\n",
       "  <tbody>\n",
       "    <tr>\n",
       "      <th>2018-09-17 00:00:00-04:00</th>\n",
       "      <td>105.65</td>\n",
       "      <td>105.78</td>\n",
       "      <td>105.6000</td>\n",
       "      <td>105.660</td>\n",
       "      <td>5198364.0</td>\n",
       "      <td>NaN</td>\n",
       "      <td>290.82</td>\n",
       "      <td>290.86</td>\n",
       "      <td>289.030</td>\n",
       "      <td>289.34</td>\n",
       "      <td>43382137</td>\n",
       "      <td>NaN</td>\n",
       "    </tr>\n",
       "    <tr>\n",
       "      <th>2018-09-18 00:00:00-04:00</th>\n",
       "      <td>105.59</td>\n",
       "      <td>105.60</td>\n",
       "      <td>105.3900</td>\n",
       "      <td>105.430</td>\n",
       "      <td>2194556.0</td>\n",
       "      <td>-0.002177</td>\n",
       "      <td>289.57</td>\n",
       "      <td>291.58</td>\n",
       "      <td>289.550</td>\n",
       "      <td>290.90</td>\n",
       "      <td>38573521</td>\n",
       "      <td>0.005392</td>\n",
       "    </tr>\n",
       "    <tr>\n",
       "      <th>2018-09-19 00:00:00-04:00</th>\n",
       "      <td>105.42</td>\n",
       "      <td>105.43</td>\n",
       "      <td>105.2200</td>\n",
       "      <td>105.270</td>\n",
       "      <td>2605609.0</td>\n",
       "      <td>-0.001518</td>\n",
       "      <td>290.97</td>\n",
       "      <td>291.69</td>\n",
       "      <td>290.825</td>\n",
       "      <td>291.25</td>\n",
       "      <td>34596543</td>\n",
       "      <td>0.001203</td>\n",
       "    </tr>\n",
       "    <tr>\n",
       "      <th>2018-09-20 00:00:00-04:00</th>\n",
       "      <td>105.23</td>\n",
       "      <td>105.45</td>\n",
       "      <td>105.2300</td>\n",
       "      <td>105.370</td>\n",
       "      <td>2627111.0</td>\n",
       "      <td>0.000950</td>\n",
       "      <td>292.64</td>\n",
       "      <td>293.94</td>\n",
       "      <td>292.510</td>\n",
       "      <td>293.55</td>\n",
       "      <td>54097569</td>\n",
       "      <td>0.007897</td>\n",
       "    </tr>\n",
       "    <tr>\n",
       "      <th>2018-09-21 00:00:00-04:00</th>\n",
       "      <td>105.34</td>\n",
       "      <td>105.47</td>\n",
       "      <td>105.3232</td>\n",
       "      <td>105.465</td>\n",
       "      <td>2420806.0</td>\n",
       "      <td>0.000902</td>\n",
       "      <td>293.09</td>\n",
       "      <td>293.22</td>\n",
       "      <td>291.810</td>\n",
       "      <td>292.01</td>\n",
       "      <td>45805544</td>\n",
       "      <td>-0.005246</td>\n",
       "    </tr>\n",
       "  </tbody>\n",
       "</table>\n",
       "</div>"
      ],
      "text/plain": [
       "                              AGG                                        \\\n",
       "                             open    high       low    close     volume   \n",
       "time                                                                      \n",
       "2018-09-17 00:00:00-04:00  105.65  105.78  105.6000  105.660  5198364.0   \n",
       "2018-09-18 00:00:00-04:00  105.59  105.60  105.3900  105.430  2194556.0   \n",
       "2018-09-19 00:00:00-04:00  105.42  105.43  105.2200  105.270  2605609.0   \n",
       "2018-09-20 00:00:00-04:00  105.23  105.45  105.2300  105.370  2627111.0   \n",
       "2018-09-21 00:00:00-04:00  105.34  105.47  105.3232  105.465  2420806.0   \n",
       "\n",
       "                                           SPY                           \\\n",
       "                          daily_return    open    high      low   close   \n",
       "time                                                                      \n",
       "2018-09-17 00:00:00-04:00          NaN  290.82  290.86  289.030  289.34   \n",
       "2018-09-18 00:00:00-04:00    -0.002177  289.57  291.58  289.550  290.90   \n",
       "2018-09-19 00:00:00-04:00    -0.001518  290.97  291.69  290.825  291.25   \n",
       "2018-09-20 00:00:00-04:00     0.000950  292.64  293.94  292.510  293.55   \n",
       "2018-09-21 00:00:00-04:00     0.000902  293.09  293.22  291.810  292.01   \n",
       "\n",
       "                                                  \n",
       "                             volume daily_return  \n",
       "time                                              \n",
       "2018-09-17 00:00:00-04:00  43382137          NaN  \n",
       "2018-09-18 00:00:00-04:00  38573521     0.005392  \n",
       "2018-09-19 00:00:00-04:00  34596543     0.001203  \n",
       "2018-09-20 00:00:00-04:00  54097569     0.007897  \n",
       "2018-09-21 00:00:00-04:00  45805544    -0.005246  "
      ]
     },
     "execution_count": 46,
     "metadata": {},
     "output_type": "execute_result"
    }
   ],
   "source": [
    "# Configure the Monte Carlo simulation to forecast 30 years cumulative returns\n",
    "# The weights should be split 40% to AGG and 60% to SPY.\n",
    "# Run 500 samples.\n",
    "MC_30_years = MCSimulation(\n",
    "  portfolio_data = three_year_pricing_df,\n",
    "  weights = [.40,.60],\n",
    "  num_simulation = 500,\n",
    "  num_trading_days = 252*30)\n",
    "\n",
    "# Review the simulation input data\n",
    "MC_30_years.portfolio_data.head()\n"
   ]
  },
  {
   "cell_type": "code",
   "execution_count": 31,
   "metadata": {},
   "outputs": [
    {
     "name": "stdout",
     "output_type": "stream",
     "text": [
      "Running Monte Carlo simulation number 0.\n",
      "Running Monte Carlo simulation number 10.\n",
      "Running Monte Carlo simulation number 20.\n",
      "Running Monte Carlo simulation number 30.\n",
      "Running Monte Carlo simulation number 40.\n",
      "Running Monte Carlo simulation number 50.\n",
      "Running Monte Carlo simulation number 60.\n",
      "Running Monte Carlo simulation number 70.\n",
      "Running Monte Carlo simulation number 80.\n",
      "Running Monte Carlo simulation number 90.\n",
      "Running Monte Carlo simulation number 100.\n",
      "Running Monte Carlo simulation number 110.\n",
      "Running Monte Carlo simulation number 120.\n",
      "Running Monte Carlo simulation number 130.\n",
      "Running Monte Carlo simulation number 140.\n",
      "Running Monte Carlo simulation number 150.\n",
      "Running Monte Carlo simulation number 160.\n",
      "Running Monte Carlo simulation number 170.\n",
      "Running Monte Carlo simulation number 180.\n",
      "Running Monte Carlo simulation number 190.\n",
      "Running Monte Carlo simulation number 200.\n",
      "Running Monte Carlo simulation number 210.\n",
      "Running Monte Carlo simulation number 220.\n",
      "Running Monte Carlo simulation number 230.\n",
      "Running Monte Carlo simulation number 240.\n",
      "Running Monte Carlo simulation number 250.\n",
      "Running Monte Carlo simulation number 260.\n",
      "Running Monte Carlo simulation number 270.\n",
      "Running Monte Carlo simulation number 280.\n",
      "Running Monte Carlo simulation number 290.\n",
      "Running Monte Carlo simulation number 300.\n",
      "Running Monte Carlo simulation number 310.\n",
      "Running Monte Carlo simulation number 320.\n",
      "Running Monte Carlo simulation number 330.\n",
      "Running Monte Carlo simulation number 340.\n",
      "Running Monte Carlo simulation number 350.\n",
      "Running Monte Carlo simulation number 360.\n",
      "Running Monte Carlo simulation number 370.\n",
      "Running Monte Carlo simulation number 380.\n",
      "Running Monte Carlo simulation number 390.\n",
      "Running Monte Carlo simulation number 400.\n",
      "Running Monte Carlo simulation number 410.\n",
      "Running Monte Carlo simulation number 420.\n",
      "Running Monte Carlo simulation number 430.\n",
      "Running Monte Carlo simulation number 440.\n",
      "Running Monte Carlo simulation number 450.\n",
      "Running Monte Carlo simulation number 460.\n",
      "Running Monte Carlo simulation number 470.\n",
      "Running Monte Carlo simulation number 480.\n",
      "Running Monte Carlo simulation number 490.\n"
     ]
    },
    {
     "data": {
      "text/html": [
       "<div>\n",
       "<style scoped>\n",
       "    .dataframe tbody tr th:only-of-type {\n",
       "        vertical-align: middle;\n",
       "    }\n",
       "\n",
       "    .dataframe tbody tr th {\n",
       "        vertical-align: top;\n",
       "    }\n",
       "\n",
       "    .dataframe thead th {\n",
       "        text-align: right;\n",
       "    }\n",
       "</style>\n",
       "<table border=\"1\" class=\"dataframe\">\n",
       "  <thead>\n",
       "    <tr style=\"text-align: right;\">\n",
       "      <th></th>\n",
       "      <th>0</th>\n",
       "      <th>1</th>\n",
       "      <th>2</th>\n",
       "      <th>3</th>\n",
       "      <th>4</th>\n",
       "      <th>5</th>\n",
       "      <th>6</th>\n",
       "      <th>7</th>\n",
       "      <th>8</th>\n",
       "      <th>9</th>\n",
       "      <th>...</th>\n",
       "      <th>490</th>\n",
       "      <th>491</th>\n",
       "      <th>492</th>\n",
       "      <th>493</th>\n",
       "      <th>494</th>\n",
       "      <th>495</th>\n",
       "      <th>496</th>\n",
       "      <th>497</th>\n",
       "      <th>498</th>\n",
       "      <th>499</th>\n",
       "    </tr>\n",
       "  </thead>\n",
       "  <tbody>\n",
       "    <tr>\n",
       "      <th>0</th>\n",
       "      <td>1.000000</td>\n",
       "      <td>1.000000</td>\n",
       "      <td>1.000000</td>\n",
       "      <td>1.000000</td>\n",
       "      <td>1.000000</td>\n",
       "      <td>1.000000</td>\n",
       "      <td>1.000000</td>\n",
       "      <td>1.000000</td>\n",
       "      <td>1.000000</td>\n",
       "      <td>1.000000</td>\n",
       "      <td>...</td>\n",
       "      <td>1.000000</td>\n",
       "      <td>1.000000</td>\n",
       "      <td>1.000000</td>\n",
       "      <td>1.000000</td>\n",
       "      <td>1.000000</td>\n",
       "      <td>1.000000</td>\n",
       "      <td>1.000000</td>\n",
       "      <td>1.000000</td>\n",
       "      <td>1.000000</td>\n",
       "      <td>1.000000</td>\n",
       "    </tr>\n",
       "    <tr>\n",
       "      <th>1</th>\n",
       "      <td>0.991221</td>\n",
       "      <td>1.009376</td>\n",
       "      <td>1.006096</td>\n",
       "      <td>1.010615</td>\n",
       "      <td>1.006143</td>\n",
       "      <td>0.990974</td>\n",
       "      <td>1.007696</td>\n",
       "      <td>0.998932</td>\n",
       "      <td>0.991550</td>\n",
       "      <td>0.990477</td>\n",
       "      <td>...</td>\n",
       "      <td>0.993566</td>\n",
       "      <td>1.001787</td>\n",
       "      <td>0.995015</td>\n",
       "      <td>1.003138</td>\n",
       "      <td>0.999937</td>\n",
       "      <td>1.009673</td>\n",
       "      <td>0.979638</td>\n",
       "      <td>0.994264</td>\n",
       "      <td>1.000453</td>\n",
       "      <td>1.000579</td>\n",
       "    </tr>\n",
       "    <tr>\n",
       "      <th>2</th>\n",
       "      <td>0.991669</td>\n",
       "      <td>1.007785</td>\n",
       "      <td>1.021107</td>\n",
       "      <td>1.009812</td>\n",
       "      <td>1.002031</td>\n",
       "      <td>0.978746</td>\n",
       "      <td>1.014054</td>\n",
       "      <td>0.994046</td>\n",
       "      <td>0.990278</td>\n",
       "      <td>0.993718</td>\n",
       "      <td>...</td>\n",
       "      <td>0.999624</td>\n",
       "      <td>1.010046</td>\n",
       "      <td>0.990140</td>\n",
       "      <td>0.995306</td>\n",
       "      <td>1.011307</td>\n",
       "      <td>1.007724</td>\n",
       "      <td>0.975134</td>\n",
       "      <td>1.013269</td>\n",
       "      <td>0.997139</td>\n",
       "      <td>1.001689</td>\n",
       "    </tr>\n",
       "    <tr>\n",
       "      <th>3</th>\n",
       "      <td>1.002500</td>\n",
       "      <td>1.015417</td>\n",
       "      <td>1.024356</td>\n",
       "      <td>1.014291</td>\n",
       "      <td>1.005372</td>\n",
       "      <td>0.971602</td>\n",
       "      <td>1.014678</td>\n",
       "      <td>1.004153</td>\n",
       "      <td>0.981341</td>\n",
       "      <td>1.000652</td>\n",
       "      <td>...</td>\n",
       "      <td>1.005478</td>\n",
       "      <td>1.021344</td>\n",
       "      <td>1.002757</td>\n",
       "      <td>0.991632</td>\n",
       "      <td>1.026966</td>\n",
       "      <td>1.020510</td>\n",
       "      <td>0.975706</td>\n",
       "      <td>1.009193</td>\n",
       "      <td>0.990916</td>\n",
       "      <td>1.007996</td>\n",
       "    </tr>\n",
       "    <tr>\n",
       "      <th>4</th>\n",
       "      <td>1.012333</td>\n",
       "      <td>1.016378</td>\n",
       "      <td>1.022450</td>\n",
       "      <td>1.009393</td>\n",
       "      <td>1.020277</td>\n",
       "      <td>0.978010</td>\n",
       "      <td>1.013182</td>\n",
       "      <td>1.010899</td>\n",
       "      <td>0.980070</td>\n",
       "      <td>0.999443</td>\n",
       "      <td>...</td>\n",
       "      <td>1.011207</td>\n",
       "      <td>1.028194</td>\n",
       "      <td>1.000349</td>\n",
       "      <td>0.987874</td>\n",
       "      <td>1.037393</td>\n",
       "      <td>1.025208</td>\n",
       "      <td>0.968698</td>\n",
       "      <td>0.998098</td>\n",
       "      <td>0.988673</td>\n",
       "      <td>1.006552</td>\n",
       "    </tr>\n",
       "    <tr>\n",
       "      <th>...</th>\n",
       "      <td>...</td>\n",
       "      <td>...</td>\n",
       "      <td>...</td>\n",
       "      <td>...</td>\n",
       "      <td>...</td>\n",
       "      <td>...</td>\n",
       "      <td>...</td>\n",
       "      <td>...</td>\n",
       "      <td>...</td>\n",
       "      <td>...</td>\n",
       "      <td>...</td>\n",
       "      <td>...</td>\n",
       "      <td>...</td>\n",
       "      <td>...</td>\n",
       "      <td>...</td>\n",
       "      <td>...</td>\n",
       "      <td>...</td>\n",
       "      <td>...</td>\n",
       "      <td>...</td>\n",
       "      <td>...</td>\n",
       "      <td>...</td>\n",
       "    </tr>\n",
       "    <tr>\n",
       "      <th>7556</th>\n",
       "      <td>15.050765</td>\n",
       "      <td>18.824123</td>\n",
       "      <td>13.804082</td>\n",
       "      <td>14.963899</td>\n",
       "      <td>4.919471</td>\n",
       "      <td>45.214367</td>\n",
       "      <td>13.440696</td>\n",
       "      <td>7.347172</td>\n",
       "      <td>41.683108</td>\n",
       "      <td>91.036681</td>\n",
       "      <td>...</td>\n",
       "      <td>26.515893</td>\n",
       "      <td>53.369201</td>\n",
       "      <td>12.490090</td>\n",
       "      <td>21.826139</td>\n",
       "      <td>14.583276</td>\n",
       "      <td>50.928232</td>\n",
       "      <td>7.643517</td>\n",
       "      <td>31.990605</td>\n",
       "      <td>6.058960</td>\n",
       "      <td>22.465244</td>\n",
       "    </tr>\n",
       "    <tr>\n",
       "      <th>7557</th>\n",
       "      <td>14.995095</td>\n",
       "      <td>18.765135</td>\n",
       "      <td>13.869207</td>\n",
       "      <td>15.019101</td>\n",
       "      <td>4.963287</td>\n",
       "      <td>45.443644</td>\n",
       "      <td>13.354249</td>\n",
       "      <td>7.374733</td>\n",
       "      <td>41.398311</td>\n",
       "      <td>91.213394</td>\n",
       "      <td>...</td>\n",
       "      <td>26.670539</td>\n",
       "      <td>53.523591</td>\n",
       "      <td>12.248368</td>\n",
       "      <td>21.963196</td>\n",
       "      <td>14.686659</td>\n",
       "      <td>51.322727</td>\n",
       "      <td>7.477814</td>\n",
       "      <td>32.319399</td>\n",
       "      <td>5.980771</td>\n",
       "      <td>22.129198</td>\n",
       "    </tr>\n",
       "    <tr>\n",
       "      <th>7558</th>\n",
       "      <td>15.115744</td>\n",
       "      <td>18.803540</td>\n",
       "      <td>13.808223</td>\n",
       "      <td>15.189163</td>\n",
       "      <td>4.952224</td>\n",
       "      <td>45.543237</td>\n",
       "      <td>13.537825</td>\n",
       "      <td>7.374312</td>\n",
       "      <td>41.319654</td>\n",
       "      <td>90.748791</td>\n",
       "      <td>...</td>\n",
       "      <td>26.774060</td>\n",
       "      <td>52.922451</td>\n",
       "      <td>12.328757</td>\n",
       "      <td>22.055864</td>\n",
       "      <td>14.783609</td>\n",
       "      <td>51.483276</td>\n",
       "      <td>7.400098</td>\n",
       "      <td>32.415891</td>\n",
       "      <td>5.900135</td>\n",
       "      <td>21.938823</td>\n",
       "    </tr>\n",
       "    <tr>\n",
       "      <th>7559</th>\n",
       "      <td>15.080216</td>\n",
       "      <td>18.974342</td>\n",
       "      <td>13.711875</td>\n",
       "      <td>15.406155</td>\n",
       "      <td>4.917673</td>\n",
       "      <td>46.592504</td>\n",
       "      <td>13.462029</td>\n",
       "      <td>7.374829</td>\n",
       "      <td>41.061321</td>\n",
       "      <td>89.031804</td>\n",
       "      <td>...</td>\n",
       "      <td>27.135612</td>\n",
       "      <td>52.615083</td>\n",
       "      <td>12.263867</td>\n",
       "      <td>22.212114</td>\n",
       "      <td>14.921913</td>\n",
       "      <td>51.562415</td>\n",
       "      <td>7.290186</td>\n",
       "      <td>32.233903</td>\n",
       "      <td>5.883868</td>\n",
       "      <td>22.129561</td>\n",
       "    </tr>\n",
       "    <tr>\n",
       "      <th>7560</th>\n",
       "      <td>15.242037</td>\n",
       "      <td>19.323669</td>\n",
       "      <td>13.763093</td>\n",
       "      <td>15.340311</td>\n",
       "      <td>4.845911</td>\n",
       "      <td>46.305977</td>\n",
       "      <td>13.497294</td>\n",
       "      <td>7.265414</td>\n",
       "      <td>40.818716</td>\n",
       "      <td>89.283192</td>\n",
       "      <td>...</td>\n",
       "      <td>27.680801</td>\n",
       "      <td>52.274045</td>\n",
       "      <td>12.237178</td>\n",
       "      <td>22.123760</td>\n",
       "      <td>15.103115</td>\n",
       "      <td>51.503059</td>\n",
       "      <td>7.192849</td>\n",
       "      <td>32.506859</td>\n",
       "      <td>5.868671</td>\n",
       "      <td>22.268908</td>\n",
       "    </tr>\n",
       "  </tbody>\n",
       "</table>\n",
       "<p>7561 rows × 500 columns</p>\n",
       "</div>"
      ],
      "text/plain": [
       "            0          1          2          3         4          5    \\\n",
       "0      1.000000   1.000000   1.000000   1.000000  1.000000   1.000000   \n",
       "1      0.991221   1.009376   1.006096   1.010615  1.006143   0.990974   \n",
       "2      0.991669   1.007785   1.021107   1.009812  1.002031   0.978746   \n",
       "3      1.002500   1.015417   1.024356   1.014291  1.005372   0.971602   \n",
       "4      1.012333   1.016378   1.022450   1.009393  1.020277   0.978010   \n",
       "...         ...        ...        ...        ...       ...        ...   \n",
       "7556  15.050765  18.824123  13.804082  14.963899  4.919471  45.214367   \n",
       "7557  14.995095  18.765135  13.869207  15.019101  4.963287  45.443644   \n",
       "7558  15.115744  18.803540  13.808223  15.189163  4.952224  45.543237   \n",
       "7559  15.080216  18.974342  13.711875  15.406155  4.917673  46.592504   \n",
       "7560  15.242037  19.323669  13.763093  15.340311  4.845911  46.305977   \n",
       "\n",
       "            6         7          8          9    ...        490        491  \\\n",
       "0      1.000000  1.000000   1.000000   1.000000  ...   1.000000   1.000000   \n",
       "1      1.007696  0.998932   0.991550   0.990477  ...   0.993566   1.001787   \n",
       "2      1.014054  0.994046   0.990278   0.993718  ...   0.999624   1.010046   \n",
       "3      1.014678  1.004153   0.981341   1.000652  ...   1.005478   1.021344   \n",
       "4      1.013182  1.010899   0.980070   0.999443  ...   1.011207   1.028194   \n",
       "...         ...       ...        ...        ...  ...        ...        ...   \n",
       "7556  13.440696  7.347172  41.683108  91.036681  ...  26.515893  53.369201   \n",
       "7557  13.354249  7.374733  41.398311  91.213394  ...  26.670539  53.523591   \n",
       "7558  13.537825  7.374312  41.319654  90.748791  ...  26.774060  52.922451   \n",
       "7559  13.462029  7.374829  41.061321  89.031804  ...  27.135612  52.615083   \n",
       "7560  13.497294  7.265414  40.818716  89.283192  ...  27.680801  52.274045   \n",
       "\n",
       "            492        493        494        495       496        497  \\\n",
       "0      1.000000   1.000000   1.000000   1.000000  1.000000   1.000000   \n",
       "1      0.995015   1.003138   0.999937   1.009673  0.979638   0.994264   \n",
       "2      0.990140   0.995306   1.011307   1.007724  0.975134   1.013269   \n",
       "3      1.002757   0.991632   1.026966   1.020510  0.975706   1.009193   \n",
       "4      1.000349   0.987874   1.037393   1.025208  0.968698   0.998098   \n",
       "...         ...        ...        ...        ...       ...        ...   \n",
       "7556  12.490090  21.826139  14.583276  50.928232  7.643517  31.990605   \n",
       "7557  12.248368  21.963196  14.686659  51.322727  7.477814  32.319399   \n",
       "7558  12.328757  22.055864  14.783609  51.483276  7.400098  32.415891   \n",
       "7559  12.263867  22.212114  14.921913  51.562415  7.290186  32.233903   \n",
       "7560  12.237178  22.123760  15.103115  51.503059  7.192849  32.506859   \n",
       "\n",
       "           498        499  \n",
       "0     1.000000   1.000000  \n",
       "1     1.000453   1.000579  \n",
       "2     0.997139   1.001689  \n",
       "3     0.990916   1.007996  \n",
       "4     0.988673   1.006552  \n",
       "...        ...        ...  \n",
       "7556  6.058960  22.465244  \n",
       "7557  5.980771  22.129198  \n",
       "7558  5.900135  21.938823  \n",
       "7559  5.883868  22.129561  \n",
       "7560  5.868671  22.268908  \n",
       "\n",
       "[7561 rows x 500 columns]"
      ]
     },
     "execution_count": 31,
     "metadata": {},
     "output_type": "execute_result"
    }
   ],
   "source": [
    "# Run the Monte Carlo simulation to forecast 30 years cumulative returns\n",
    "MC_30_years.calc_cumulative_return()\n"
   ]
  },
  {
   "cell_type": "code",
   "execution_count": 32,
   "metadata": {},
   "outputs": [
    {
     "data": {
      "text/plain": [
       "<AxesSubplot:title={'center':'500 Simulations of Cumulative Portfolio Return Trajectories Over the Next 7560 Trading Days.'}>"
      ]
     },
     "execution_count": 32,
     "metadata": {},
     "output_type": "execute_result"
    },
    {
     "data": {
      "image/png": "[encoded data removed]",
      "text/plain": [
       "<Figure size 432x288 with 1 Axes>"
      ]
     },
     "metadata": {
      "needs_background": "light"
     },
     "output_type": "display_data"
    }
   ],
   "source": [
    "# Visualize the 30-year Monte Carlo simulation by creating an\n",
    "# overlay line plot\n",
    "MC_30_years.plot_simulation()"
   ]
  },
  {
   "cell_type": "markdown",
   "metadata": {},
   "source": [
    "#### Step 3: Plot the probability distribution of the Monte Carlo simulation."
   ]
  },
  {
   "cell_type": "code",
   "execution_count": 33,
   "metadata": {},
   "outputs": [
    {
     "data": {
      "text/plain": [
       "<AxesSubplot:title={'center':'Distribution of Final Cumuluative Returns Across All 500 Simulations'}, ylabel='Frequency'>"
      ]
     },
     "execution_count": 33,
     "metadata": {},
     "output_type": "execute_result"
    },
    {
     "data": {
      "image/png": "[encoded data removed]",
      "text/plain": [
       "<Figure size 432x288 with 1 Axes>"
      ]
     },
     "metadata": {
      "needs_background": "light"
     },
     "output_type": "display_data"
    }
   ],
   "source": [
    "# Visualize the probability distribution of the 30-year Monte Carlo simulation \n",
    "# by plotting a histogram\n",
    "MC_30_years.plot_distribution()\n"
   ]
  },
  {
   "cell_type": "markdown",
   "metadata": {},
   "source": [
    "#### Step 4: Generate the summary statistics for the Monte Carlo simulation."
   ]
  },
  {
   "cell_type": "code",
   "execution_count": 34,
   "metadata": {},
   "outputs": [
    {
     "data": {
      "text/plain": [
       "count           500.000000\n",
       "mean             30.613524\n",
       "std              33.475217\n",
       "min               1.250190\n",
       "25%              14.148404\n",
       "50%              23.629525\n",
       "75%              37.286847\n",
       "max             573.502029\n",
       "95% CI Lower      5.807415\n",
       "95% CI Upper     90.041757\n",
       "Name: 7560, dtype: float64"
      ]
     },
     "execution_count": 34,
     "metadata": {},
     "output_type": "execute_result"
    }
   ],
   "source": [
    "# Generate summary statistics from the 30-year Monte Carlo simulation results\n",
    "# Save the results as a variable\n",
    "MC_30_summary = MC_30_years.summarize_cumulative_return()\n",
    "\n",
    "# Review the 30-year Monte Carlo summary statistics\n",
    "MC_30_summary"
   ]
  },
  {
   "cell_type": "markdown",
   "metadata": {},
   "source": [
    "### Analyze the Retirement Portfolio Forecasts\n",
    "\n",
    "Using the current value of only the stock and bond portion of the member's portfolio and the summary statistics that you generated from the Monte Carlo simulation, answer the following question in your Jupyter notebook:\n",
    "\n",
    "-  What are the lower and upper bounds for the expected value of the portfolio with a 95% confidence interval?\n"
   ]
  },
  {
   "cell_type": "code",
   "execution_count": 35,
   "metadata": {},
   "outputs": [
    {
     "name": "stdout",
     "output_type": "stream",
     "text": [
      "71725.1\n"
     ]
    }
   ],
   "source": [
    "# Print the current balance of the stock and bond portion of the members portfolio\n",
    "print(total_stocks_bonds)"
   ]
  },
  {
   "cell_type": "code",
   "execution_count": 48,
   "metadata": {},
   "outputs": [
    {
     "name": "stdout",
     "output_type": "stream",
     "text": [
      "With a 95% confidence we expect the value of the portfolio to be between $ 416537.42 and $ 6458254.03 at the end of the 30 year period.\n"
     ]
    }
   ],
   "source": [
    "# Use the lower and upper `95%` confidence intervals to calculate the range of the possible outcomes for the current stock/bond portfolio\n",
    "ci_lower_thirty_cumulative_return = total_stocks_bonds * 5.807415\n",
    "ci_upper_thirty_cumulative_return = total_stocks_bonds * 90.041757\n",
    "\n",
    "# Print the result of your calculations\n",
    "print(f\"With a 95% confidence we expect the value of the portfolio to be between ${ci_lower_thirty_cumulative_return: .2f} and ${ci_upper_thirty_cumulative_return: .2f} at the end of the 30 year period.\")\n",
    "\n"
   ]
  },
  {
   "cell_type": "markdown",
   "metadata": {},
   "source": [
    "### Forecast Cumulative Returns in 10 Years\n",
    "\n",
    "The CTO of the credit union is impressed with your work on these planning tools but wonders if 30 years is a long time to wait until retirement. So, your next task is to adjust the retirement portfolio and run a new Monte Carlo simulation to find out if the changes will allow members to retire earlier.\n",
    "\n",
    "For this new Monte Carlo simulation, do the following: \n",
    "\n",
    "- Forecast the cumulative returns for 10 years from now. Because of the shortened investment horizon (30 years to 10 years), the portfolio needs to invest more heavily in the riskier asset&mdash;that is, stock&mdash;to help accumulate wealth for retirement. \n",
    "\n",
    "- Adjust the weights of the retirement portfolio so that the composition for the Monte Carlo simulation consists of 20% bonds and 80% stocks. \n",
    "\n",
    "- Run the simulation over 500 samples, and use the same data that the API call to Alpaca generated.\n",
    "\n",
    "- Based on the new Monte Carlo simulation, answer the following questions in your Jupyter notebook:\n",
    "\n",
    "    - Using the current value of only the stock and bond portion of the member's portfolio and the summary statistics that you generated from the new Monte Carlo simulation, what are the lower and upper bounds for the expected value of the portfolio (with the new weights) with a 95% confidence interval?\n",
    "\n",
    "    - Will weighting the portfolio more heavily toward stocks allow the credit union members to retire after only 10 years?\n"
   ]
  },
  {
   "cell_type": "code",
   "execution_count": 37,
   "metadata": {},
   "outputs": [
    {
     "data": {
      "text/html": [
       "<div>\n",
       "<style scoped>\n",
       "    .dataframe tbody tr th:only-of-type {\n",
       "        vertical-align: middle;\n",
       "    }\n",
       "\n",
       "    .dataframe tbody tr th {\n",
       "        vertical-align: top;\n",
       "    }\n",
       "\n",
       "    .dataframe thead tr th {\n",
       "        text-align: left;\n",
       "    }\n",
       "\n",
       "    .dataframe thead tr:last-of-type th {\n",
       "        text-align: right;\n",
       "    }\n",
       "</style>\n",
       "<table border=\"1\" class=\"dataframe\">\n",
       "  <thead>\n",
       "    <tr>\n",
       "      <th></th>\n",
       "      <th colspan=\"6\" halign=\"left\">AGG</th>\n",
       "      <th colspan=\"6\" halign=\"left\">SPY</th>\n",
       "    </tr>\n",
       "    <tr>\n",
       "      <th></th>\n",
       "      <th>open</th>\n",
       "      <th>high</th>\n",
       "      <th>low</th>\n",
       "      <th>close</th>\n",
       "      <th>volume</th>\n",
       "      <th>daily_return</th>\n",
       "      <th>open</th>\n",
       "      <th>high</th>\n",
       "      <th>low</th>\n",
       "      <th>close</th>\n",
       "      <th>volume</th>\n",
       "      <th>daily_return</th>\n",
       "    </tr>\n",
       "    <tr>\n",
       "      <th>time</th>\n",
       "      <th></th>\n",
       "      <th></th>\n",
       "      <th></th>\n",
       "      <th></th>\n",
       "      <th></th>\n",
       "      <th></th>\n",
       "      <th></th>\n",
       "      <th></th>\n",
       "      <th></th>\n",
       "      <th></th>\n",
       "      <th></th>\n",
       "      <th></th>\n",
       "    </tr>\n",
       "  </thead>\n",
       "  <tbody>\n",
       "    <tr>\n",
       "      <th>2018-09-17 00:00:00-04:00</th>\n",
       "      <td>105.65</td>\n",
       "      <td>105.78</td>\n",
       "      <td>105.6000</td>\n",
       "      <td>105.660</td>\n",
       "      <td>5198364</td>\n",
       "      <td>NaN</td>\n",
       "      <td>290.82</td>\n",
       "      <td>290.86</td>\n",
       "      <td>289.030</td>\n",
       "      <td>289.34</td>\n",
       "      <td>43382137</td>\n",
       "      <td>NaN</td>\n",
       "    </tr>\n",
       "    <tr>\n",
       "      <th>2018-09-18 00:00:00-04:00</th>\n",
       "      <td>105.59</td>\n",
       "      <td>105.60</td>\n",
       "      <td>105.3900</td>\n",
       "      <td>105.430</td>\n",
       "      <td>2194556</td>\n",
       "      <td>-0.002177</td>\n",
       "      <td>289.57</td>\n",
       "      <td>291.58</td>\n",
       "      <td>289.550</td>\n",
       "      <td>290.90</td>\n",
       "      <td>38573521</td>\n",
       "      <td>0.005392</td>\n",
       "    </tr>\n",
       "    <tr>\n",
       "      <th>2018-09-19 00:00:00-04:00</th>\n",
       "      <td>105.42</td>\n",
       "      <td>105.43</td>\n",
       "      <td>105.2200</td>\n",
       "      <td>105.270</td>\n",
       "      <td>2605609</td>\n",
       "      <td>-0.001518</td>\n",
       "      <td>290.97</td>\n",
       "      <td>291.69</td>\n",
       "      <td>290.825</td>\n",
       "      <td>291.25</td>\n",
       "      <td>34596543</td>\n",
       "      <td>0.001203</td>\n",
       "    </tr>\n",
       "    <tr>\n",
       "      <th>2018-09-20 00:00:00-04:00</th>\n",
       "      <td>105.23</td>\n",
       "      <td>105.45</td>\n",
       "      <td>105.2300</td>\n",
       "      <td>105.370</td>\n",
       "      <td>2627111</td>\n",
       "      <td>0.000950</td>\n",
       "      <td>292.64</td>\n",
       "      <td>293.94</td>\n",
       "      <td>292.510</td>\n",
       "      <td>293.55</td>\n",
       "      <td>54097569</td>\n",
       "      <td>0.007897</td>\n",
       "    </tr>\n",
       "    <tr>\n",
       "      <th>2018-09-21 00:00:00-04:00</th>\n",
       "      <td>105.34</td>\n",
       "      <td>105.47</td>\n",
       "      <td>105.3232</td>\n",
       "      <td>105.465</td>\n",
       "      <td>2420806</td>\n",
       "      <td>0.000902</td>\n",
       "      <td>293.09</td>\n",
       "      <td>293.22</td>\n",
       "      <td>291.810</td>\n",
       "      <td>292.01</td>\n",
       "      <td>45805544</td>\n",
       "      <td>-0.005246</td>\n",
       "    </tr>\n",
       "  </tbody>\n",
       "</table>\n",
       "</div>"
      ],
      "text/plain": [
       "                              AGG                                      \\\n",
       "                             open    high       low    close   volume   \n",
       "time                                                                    \n",
       "2018-09-17 00:00:00-04:00  105.65  105.78  105.6000  105.660  5198364   \n",
       "2018-09-18 00:00:00-04:00  105.59  105.60  105.3900  105.430  2194556   \n",
       "2018-09-19 00:00:00-04:00  105.42  105.43  105.2200  105.270  2605609   \n",
       "2018-09-20 00:00:00-04:00  105.23  105.45  105.2300  105.370  2627111   \n",
       "2018-09-21 00:00:00-04:00  105.34  105.47  105.3232  105.465  2420806   \n",
       "\n",
       "                                           SPY                           \\\n",
       "                          daily_return    open    high      low   close   \n",
       "time                                                                      \n",
       "2018-09-17 00:00:00-04:00          NaN  290.82  290.86  289.030  289.34   \n",
       "2018-09-18 00:00:00-04:00    -0.002177  289.57  291.58  289.550  290.90   \n",
       "2018-09-19 00:00:00-04:00    -0.001518  290.97  291.69  290.825  291.25   \n",
       "2018-09-20 00:00:00-04:00     0.000950  292.64  293.94  292.510  293.55   \n",
       "2018-09-21 00:00:00-04:00     0.000902  293.09  293.22  291.810  292.01   \n",
       "\n",
       "                                                  \n",
       "                             volume daily_return  \n",
       "time                                              \n",
       "2018-09-17 00:00:00-04:00  43382137          NaN  \n",
       "2018-09-18 00:00:00-04:00  38573521     0.005392  \n",
       "2018-09-19 00:00:00-04:00  34596543     0.001203  \n",
       "2018-09-20 00:00:00-04:00  54097569     0.007897  \n",
       "2018-09-21 00:00:00-04:00  45805544    -0.005246  "
      ]
     },
     "execution_count": 37,
     "metadata": {},
     "output_type": "execute_result"
    }
   ],
   "source": [
    "# Configure a Monte Carlo simulation to forecast 10 years cumulative returns\n",
    "# The weights should be split 20% to AGG and 80% to SPY.\n",
    "# Run 500 samples.\n",
    "MC_10_years = MCSimulation(\n",
    "  portfolio_data = three_year_pricing_df,\n",
    "  weights = [.20,.80],\n",
    "  num_simulation = 500,\n",
    "  num_trading_days = 252*10)\n",
    "\n",
    "# Review the simulation input data\n",
    "MC_10_years.portfolio_data.head()\n"
   ]
  },
  {
   "cell_type": "code",
   "execution_count": 38,
   "metadata": {},
   "outputs": [
    {
     "name": "stdout",
     "output_type": "stream",
     "text": [
      "Running Monte Carlo simulation number 0.\n",
      "Running Monte Carlo simulation number 10.\n",
      "Running Monte Carlo simulation number 20.\n",
      "Running Monte Carlo simulation number 30.\n",
      "Running Monte Carlo simulation number 40.\n",
      "Running Monte Carlo simulation number 50.\n",
      "Running Monte Carlo simulation number 60.\n",
      "Running Monte Carlo simulation number 70.\n",
      "Running Monte Carlo simulation number 80.\n",
      "Running Monte Carlo simulation number 90.\n",
      "Running Monte Carlo simulation number 100.\n",
      "Running Monte Carlo simulation number 110.\n",
      "Running Monte Carlo simulation number 120.\n",
      "Running Monte Carlo simulation number 130.\n",
      "Running Monte Carlo simulation number 140.\n",
      "Running Monte Carlo simulation number 150.\n",
      "Running Monte Carlo simulation number 160.\n",
      "Running Monte Carlo simulation number 170.\n",
      "Running Monte Carlo simulation number 180.\n",
      "Running Monte Carlo simulation number 190.\n",
      "Running Monte Carlo simulation number 200.\n",
      "Running Monte Carlo simulation number 210.\n",
      "Running Monte Carlo simulation number 220.\n",
      "Running Monte Carlo simulation number 230.\n",
      "Running Monte Carlo simulation number 240.\n",
      "Running Monte Carlo simulation number 250.\n",
      "Running Monte Carlo simulation number 260.\n",
      "Running Monte Carlo simulation number 270.\n",
      "Running Monte Carlo simulation number 280.\n",
      "Running Monte Carlo simulation number 290.\n",
      "Running Monte Carlo simulation number 300.\n",
      "Running Monte Carlo simulation number 310.\n",
      "Running Monte Carlo simulation number 320.\n",
      "Running Monte Carlo simulation number 330.\n",
      "Running Monte Carlo simulation number 340.\n",
      "Running Monte Carlo simulation number 350.\n",
      "Running Monte Carlo simulation number 360.\n",
      "Running Monte Carlo simulation number 370.\n",
      "Running Monte Carlo simulation number 380.\n",
      "Running Monte Carlo simulation number 390.\n",
      "Running Monte Carlo simulation number 400.\n",
      "Running Monte Carlo simulation number 410.\n",
      "Running Monte Carlo simulation number 420.\n",
      "Running Monte Carlo simulation number 430.\n",
      "Running Monte Carlo simulation number 440.\n",
      "Running Monte Carlo simulation number 450.\n",
      "Running Monte Carlo simulation number 460.\n",
      "Running Monte Carlo simulation number 470.\n",
      "Running Monte Carlo simulation number 480.\n",
      "Running Monte Carlo simulation number 490.\n"
     ]
    },
    {
     "data": {
      "text/html": [
       "<div>\n",
       "<style scoped>\n",
       "    .dataframe tbody tr th:only-of-type {\n",
       "        vertical-align: middle;\n",
       "    }\n",
       "\n",
       "    .dataframe tbody tr th {\n",
       "        vertical-align: top;\n",
       "    }\n",
       "\n",
       "    .dataframe thead th {\n",
       "        text-align: right;\n",
       "    }\n",
       "</style>\n",
       "<table border=\"1\" class=\"dataframe\">\n",
       "  <thead>\n",
       "    <tr style=\"text-align: right;\">\n",
       "      <th></th>\n",
       "      <th>0</th>\n",
       "      <th>1</th>\n",
       "      <th>2</th>\n",
       "      <th>3</th>\n",
       "      <th>4</th>\n",
       "      <th>5</th>\n",
       "      <th>6</th>\n",
       "      <th>7</th>\n",
       "      <th>8</th>\n",
       "      <th>9</th>\n",
       "      <th>...</th>\n",
       "      <th>490</th>\n",
       "      <th>491</th>\n",
       "      <th>492</th>\n",
       "      <th>493</th>\n",
       "      <th>494</th>\n",
       "      <th>495</th>\n",
       "      <th>496</th>\n",
       "      <th>497</th>\n",
       "      <th>498</th>\n",
       "      <th>499</th>\n",
       "    </tr>\n",
       "  </thead>\n",
       "  <tbody>\n",
       "    <tr>\n",
       "      <th>0</th>\n",
       "      <td>1.000000</td>\n",
       "      <td>1.000000</td>\n",
       "      <td>1.000000</td>\n",
       "      <td>1.000000</td>\n",
       "      <td>1.000000</td>\n",
       "      <td>1.000000</td>\n",
       "      <td>1.000000</td>\n",
       "      <td>1.000000</td>\n",
       "      <td>1.000000</td>\n",
       "      <td>1.000000</td>\n",
       "      <td>...</td>\n",
       "      <td>1.000000</td>\n",
       "      <td>1.000000</td>\n",
       "      <td>1.000000</td>\n",
       "      <td>1.000000</td>\n",
       "      <td>1.000000</td>\n",
       "      <td>1.000000</td>\n",
       "      <td>1.000000</td>\n",
       "      <td>1.000000</td>\n",
       "      <td>1.000000</td>\n",
       "      <td>1.000000</td>\n",
       "    </tr>\n",
       "    <tr>\n",
       "      <th>1</th>\n",
       "      <td>0.997300</td>\n",
       "      <td>1.013285</td>\n",
       "      <td>0.993048</td>\n",
       "      <td>1.009989</td>\n",
       "      <td>1.011745</td>\n",
       "      <td>1.000852</td>\n",
       "      <td>1.018803</td>\n",
       "      <td>1.008529</td>\n",
       "      <td>0.989475</td>\n",
       "      <td>1.004316</td>\n",
       "      <td>...</td>\n",
       "      <td>0.995031</td>\n",
       "      <td>1.000556</td>\n",
       "      <td>0.987835</td>\n",
       "      <td>0.998534</td>\n",
       "      <td>0.998583</td>\n",
       "      <td>0.982723</td>\n",
       "      <td>1.009535</td>\n",
       "      <td>0.990380</td>\n",
       "      <td>0.996602</td>\n",
       "      <td>1.003710</td>\n",
       "    </tr>\n",
       "    <tr>\n",
       "      <th>2</th>\n",
       "      <td>1.007134</td>\n",
       "      <td>0.998194</td>\n",
       "      <td>1.004974</td>\n",
       "      <td>1.002627</td>\n",
       "      <td>1.025912</td>\n",
       "      <td>0.992341</td>\n",
       "      <td>1.013390</td>\n",
       "      <td>0.999008</td>\n",
       "      <td>0.967808</td>\n",
       "      <td>0.997425</td>\n",
       "      <td>...</td>\n",
       "      <td>0.976041</td>\n",
       "      <td>1.014635</td>\n",
       "      <td>0.978299</td>\n",
       "      <td>0.994640</td>\n",
       "      <td>1.006039</td>\n",
       "      <td>0.954523</td>\n",
       "      <td>1.009065</td>\n",
       "      <td>0.988449</td>\n",
       "      <td>0.979525</td>\n",
       "      <td>1.001729</td>\n",
       "    </tr>\n",
       "    <tr>\n",
       "      <th>3</th>\n",
       "      <td>0.996587</td>\n",
       "      <td>0.993541</td>\n",
       "      <td>1.003976</td>\n",
       "      <td>0.986249</td>\n",
       "      <td>1.028635</td>\n",
       "      <td>0.993665</td>\n",
       "      <td>1.018215</td>\n",
       "      <td>1.001865</td>\n",
       "      <td>0.961763</td>\n",
       "      <td>0.992646</td>\n",
       "      <td>...</td>\n",
       "      <td>0.990040</td>\n",
       "      <td>1.025410</td>\n",
       "      <td>0.967445</td>\n",
       "      <td>0.991931</td>\n",
       "      <td>0.995167</td>\n",
       "      <td>0.941760</td>\n",
       "      <td>1.002023</td>\n",
       "      <td>0.976904</td>\n",
       "      <td>0.977707</td>\n",
       "      <td>0.983721</td>\n",
       "    </tr>\n",
       "    <tr>\n",
       "      <th>4</th>\n",
       "      <td>1.007706</td>\n",
       "      <td>0.989675</td>\n",
       "      <td>1.013887</td>\n",
       "      <td>0.976177</td>\n",
       "      <td>1.029477</td>\n",
       "      <td>1.013400</td>\n",
       "      <td>0.996170</td>\n",
       "      <td>1.003761</td>\n",
       "      <td>0.984289</td>\n",
       "      <td>0.985329</td>\n",
       "      <td>...</td>\n",
       "      <td>1.010291</td>\n",
       "      <td>1.022116</td>\n",
       "      <td>0.959245</td>\n",
       "      <td>0.993920</td>\n",
       "      <td>0.993342</td>\n",
       "      <td>0.932114</td>\n",
       "      <td>0.994513</td>\n",
       "      <td>0.965633</td>\n",
       "      <td>0.977914</td>\n",
       "      <td>0.969565</td>\n",
       "    </tr>\n",
       "    <tr>\n",
       "      <th>...</th>\n",
       "      <td>...</td>\n",
       "      <td>...</td>\n",
       "      <td>...</td>\n",
       "      <td>...</td>\n",
       "      <td>...</td>\n",
       "      <td>...</td>\n",
       "      <td>...</td>\n",
       "      <td>...</td>\n",
       "      <td>...</td>\n",
       "      <td>...</td>\n",
       "      <td>...</td>\n",
       "      <td>...</td>\n",
       "      <td>...</td>\n",
       "      <td>...</td>\n",
       "      <td>...</td>\n",
       "      <td>...</td>\n",
       "      <td>...</td>\n",
       "      <td>...</td>\n",
       "      <td>...</td>\n",
       "      <td>...</td>\n",
       "      <td>...</td>\n",
       "    </tr>\n",
       "    <tr>\n",
       "      <th>2516</th>\n",
       "      <td>1.933360</td>\n",
       "      <td>1.253849</td>\n",
       "      <td>5.984932</td>\n",
       "      <td>4.556298</td>\n",
       "      <td>3.035942</td>\n",
       "      <td>1.642603</td>\n",
       "      <td>2.117708</td>\n",
       "      <td>2.592591</td>\n",
       "      <td>6.244361</td>\n",
       "      <td>2.357582</td>\n",
       "      <td>...</td>\n",
       "      <td>2.359300</td>\n",
       "      <td>3.448461</td>\n",
       "      <td>1.960003</td>\n",
       "      <td>4.247664</td>\n",
       "      <td>2.466331</td>\n",
       "      <td>3.488980</td>\n",
       "      <td>5.201785</td>\n",
       "      <td>4.489225</td>\n",
       "      <td>3.240924</td>\n",
       "      <td>2.179527</td>\n",
       "    </tr>\n",
       "    <tr>\n",
       "      <th>2517</th>\n",
       "      <td>1.988527</td>\n",
       "      <td>1.248522</td>\n",
       "      <td>5.943447</td>\n",
       "      <td>4.510785</td>\n",
       "      <td>3.018408</td>\n",
       "      <td>1.593922</td>\n",
       "      <td>2.066460</td>\n",
       "      <td>2.639397</td>\n",
       "      <td>6.155155</td>\n",
       "      <td>2.364289</td>\n",
       "      <td>...</td>\n",
       "      <td>2.315656</td>\n",
       "      <td>3.379340</td>\n",
       "      <td>2.013940</td>\n",
       "      <td>4.324153</td>\n",
       "      <td>2.414077</td>\n",
       "      <td>3.499188</td>\n",
       "      <td>5.283386</td>\n",
       "      <td>4.488748</td>\n",
       "      <td>3.285700</td>\n",
       "      <td>2.167559</td>\n",
       "    </tr>\n",
       "    <tr>\n",
       "      <th>2518</th>\n",
       "      <td>1.957532</td>\n",
       "      <td>1.277919</td>\n",
       "      <td>5.958831</td>\n",
       "      <td>4.530353</td>\n",
       "      <td>3.044291</td>\n",
       "      <td>1.615173</td>\n",
       "      <td>2.073603</td>\n",
       "      <td>2.643026</td>\n",
       "      <td>6.124407</td>\n",
       "      <td>2.352292</td>\n",
       "      <td>...</td>\n",
       "      <td>2.341094</td>\n",
       "      <td>3.351702</td>\n",
       "      <td>2.015156</td>\n",
       "      <td>4.333968</td>\n",
       "      <td>2.401957</td>\n",
       "      <td>3.517051</td>\n",
       "      <td>5.344991</td>\n",
       "      <td>4.466070</td>\n",
       "      <td>3.254849</td>\n",
       "      <td>2.172968</td>\n",
       "    </tr>\n",
       "    <tr>\n",
       "      <th>2519</th>\n",
       "      <td>1.965496</td>\n",
       "      <td>1.276509</td>\n",
       "      <td>5.840680</td>\n",
       "      <td>4.541538</td>\n",
       "      <td>3.037834</td>\n",
       "      <td>1.599376</td>\n",
       "      <td>2.053852</td>\n",
       "      <td>2.632490</td>\n",
       "      <td>6.159749</td>\n",
       "      <td>2.351169</td>\n",
       "      <td>...</td>\n",
       "      <td>2.340806</td>\n",
       "      <td>3.409870</td>\n",
       "      <td>2.033833</td>\n",
       "      <td>4.308663</td>\n",
       "      <td>2.389904</td>\n",
       "      <td>3.580096</td>\n",
       "      <td>5.392809</td>\n",
       "      <td>4.465264</td>\n",
       "      <td>3.234235</td>\n",
       "      <td>2.138136</td>\n",
       "    </tr>\n",
       "    <tr>\n",
       "      <th>2520</th>\n",
       "      <td>1.957791</td>\n",
       "      <td>1.271238</td>\n",
       "      <td>5.939236</td>\n",
       "      <td>4.598010</td>\n",
       "      <td>3.021770</td>\n",
       "      <td>1.606564</td>\n",
       "      <td>2.030181</td>\n",
       "      <td>2.622706</td>\n",
       "      <td>6.216089</td>\n",
       "      <td>2.353559</td>\n",
       "      <td>...</td>\n",
       "      <td>2.375525</td>\n",
       "      <td>3.390555</td>\n",
       "      <td>2.060725</td>\n",
       "      <td>4.384105</td>\n",
       "      <td>2.406441</td>\n",
       "      <td>3.551001</td>\n",
       "      <td>5.451843</td>\n",
       "      <td>4.532207</td>\n",
       "      <td>3.268625</td>\n",
       "      <td>2.155145</td>\n",
       "    </tr>\n",
       "  </tbody>\n",
       "</table>\n",
       "<p>2521 rows × 500 columns</p>\n",
       "</div>"
      ],
      "text/plain": [
       "           0         1         2         3         4         5         6    \\\n",
       "0     1.000000  1.000000  1.000000  1.000000  1.000000  1.000000  1.000000   \n",
       "1     0.997300  1.013285  0.993048  1.009989  1.011745  1.000852  1.018803   \n",
       "2     1.007134  0.998194  1.004974  1.002627  1.025912  0.992341  1.013390   \n",
       "3     0.996587  0.993541  1.003976  0.986249  1.028635  0.993665  1.018215   \n",
       "4     1.007706  0.989675  1.013887  0.976177  1.029477  1.013400  0.996170   \n",
       "...        ...       ...       ...       ...       ...       ...       ...   \n",
       "2516  1.933360  1.253849  5.984932  4.556298  3.035942  1.642603  2.117708   \n",
       "2517  1.988527  1.248522  5.943447  4.510785  3.018408  1.593922  2.066460   \n",
       "2518  1.957532  1.277919  5.958831  4.530353  3.044291  1.615173  2.073603   \n",
       "2519  1.965496  1.276509  5.840680  4.541538  3.037834  1.599376  2.053852   \n",
       "2520  1.957791  1.271238  5.939236  4.598010  3.021770  1.606564  2.030181   \n",
       "\n",
       "           7         8         9    ...       490       491       492  \\\n",
       "0     1.000000  1.000000  1.000000  ...  1.000000  1.000000  1.000000   \n",
       "1     1.008529  0.989475  1.004316  ...  0.995031  1.000556  0.987835   \n",
       "2     0.999008  0.967808  0.997425  ...  0.976041  1.014635  0.978299   \n",
       "3     1.001865  0.961763  0.992646  ...  0.990040  1.025410  0.967445   \n",
       "4     1.003761  0.984289  0.985329  ...  1.010291  1.022116  0.959245   \n",
       "...        ...       ...       ...  ...       ...       ...       ...   \n",
       "2516  2.592591  6.244361  2.357582  ...  2.359300  3.448461  1.960003   \n",
       "2517  2.639397  6.155155  2.364289  ...  2.315656  3.379340  2.013940   \n",
       "2518  2.643026  6.124407  2.352292  ...  2.341094  3.351702  2.015156   \n",
       "2519  2.632490  6.159749  2.351169  ...  2.340806  3.409870  2.033833   \n",
       "2520  2.622706  6.216089  2.353559  ...  2.375525  3.390555  2.060725   \n",
       "\n",
       "           493       494       495       496       497       498       499  \n",
       "0     1.000000  1.000000  1.000000  1.000000  1.000000  1.000000  1.000000  \n",
       "1     0.998534  0.998583  0.982723  1.009535  0.990380  0.996602  1.003710  \n",
       "2     0.994640  1.006039  0.954523  1.009065  0.988449  0.979525  1.001729  \n",
       "3     0.991931  0.995167  0.941760  1.002023  0.976904  0.977707  0.983721  \n",
       "4     0.993920  0.993342  0.932114  0.994513  0.965633  0.977914  0.969565  \n",
       "...        ...       ...       ...       ...       ...       ...       ...  \n",
       "2516  4.247664  2.466331  3.488980  5.201785  4.489225  3.240924  2.179527  \n",
       "2517  4.324153  2.414077  3.499188  5.283386  4.488748  3.285700  2.167559  \n",
       "2518  4.333968  2.401957  3.517051  5.344991  4.466070  3.254849  2.172968  \n",
       "2519  4.308663  2.389904  3.580096  5.392809  4.465264  3.234235  2.138136  \n",
       "2520  4.384105  2.406441  3.551001  5.451843  4.532207  3.268625  2.155145  \n",
       "\n",
       "[2521 rows x 500 columns]"
      ]
     },
     "execution_count": 38,
     "metadata": {},
     "output_type": "execute_result"
    }
   ],
   "source": [
    "# Run the Monte Carlo simulation to forecast 10 years cumulative returns\n",
    "MC_10_years.calc_cumulative_return()"
   ]
  },
  {
   "cell_type": "code",
   "execution_count": 39,
   "metadata": {},
   "outputs": [
    {
     "data": {
      "text/plain": [
       "<AxesSubplot:title={'center':'500 Simulations of Cumulative Portfolio Return Trajectories Over the Next 2520 Trading Days.'}>"
      ]
     },
     "execution_count": 39,
     "metadata": {},
     "output_type": "execute_result"
    },
    {
     "data": {
      "image/png": "[encoded data removed]",
      "text/plain": [
       "<Figure size 432x288 with 1 Axes>"
      ]
     },
     "metadata": {
      "needs_background": "light"
     },
     "output_type": "display_data"
    }
   ],
   "source": [
    "# Visualize the 10-year Monte Carlo simulation by creating an\n",
    "# overlay line plot\n",
    "MC_10_years.plot_simulation()\n"
   ]
  },
  {
   "cell_type": "code",
   "execution_count": 40,
   "metadata": {},
   "outputs": [
    {
     "data": {
      "text/plain": [
       "<AxesSubplot:title={'center':'Distribution of Final Cumuluative Returns Across All 500 Simulations'}, ylabel='Frequency'>"
      ]
     },
     "execution_count": 40,
     "metadata": {},
     "output_type": "execute_result"
    },
    {
     "data": {
      "image/png": "[encoded data removed]",
      "text/plain": [
       "<Figure size 432x288 with 1 Axes>"
      ]
     },
     "metadata": {
      "needs_background": "light"
     },
     "output_type": "display_data"
    }
   ],
   "source": [
    "# Visualize the probability distribution of the 10-year Monte Carlo simulation \n",
    "# by plotting a histogram\n",
    "MC_10_years.plot_distribution()\n"
   ]
  },
  {
   "cell_type": "code",
   "execution_count": 41,
   "metadata": {},
   "outputs": [
    {
     "data": {
      "text/plain": [
       "count           500.000000\n",
       "mean              4.171135\n",
       "std               2.713316\n",
       "min               0.799472\n",
       "25%               2.436302\n",
       "50%               3.414975\n",
       "75%               5.048087\n",
       "max              26.907196\n",
       "95% CI Lower      1.324089\n",
       "95% CI Upper     11.587709\n",
       "Name: 2520, dtype: float64"
      ]
     },
     "execution_count": 41,
     "metadata": {},
     "output_type": "execute_result"
    }
   ],
   "source": [
    "# Generate summary statistics from the 10-year Monte Carlo simulation results\n",
    "# Save the results as a variable\n",
    "MC_10_summary = MC_10_years.summarize_cumulative_return()\n",
    "\n",
    "\n",
    "# Review the 10-year Monte Carlo summary statistics\n",
    "MC_10_summary"
   ]
  },
  {
   "cell_type": "markdown",
   "metadata": {},
   "source": [
    "### Answer the following questions:"
   ]
  },
  {
   "cell_type": "markdown",
   "metadata": {},
   "source": [
    "#### Question: Using the current value of only the stock and bond portion of the member's portfolio and the summary statistics that you generated from the new Monte Carlo simulation, what are the lower and upper bounds for the expected value of the portfolio (with the new weights) with a 95% confidence interval?"
   ]
  },
  {
   "cell_type": "code",
   "execution_count": 42,
   "metadata": {},
   "outputs": [
    {
     "name": "stdout",
     "output_type": "stream",
     "text": [
      "71725.1\n"
     ]
    }
   ],
   "source": [
    "# Print the current balance of the stock and bond portion of the members portfolio\n",
    "print(total_stocks_bonds)"
   ]
  },
  {
   "cell_type": "code",
   "execution_count": 50,
   "metadata": {},
   "outputs": [
    {
     "name": "stdout",
     "output_type": "stream",
     "text": [
      "With a 95% confidence we expect the value of the portfolio to be between $ 94970.42 and $ 831129.59 at the end of the 10 year period.\n"
     ]
    }
   ],
   "source": [
    "# Use the lower and upper `95%` confidence intervals to calculate the range of the possible outcomes for the current stock/bond portfolio\n",
    "ci_lower_ten_cumulative_return = total_stocks_bonds * 1.324089\n",
    "ci_upper_ten_cumulative_return = total_stocks_bonds * 11.587709\n",
    "\n",
    "# Print the result of your calculations\n",
    "print(f\"With a 95% confidence we expect the value of the portfolio to be between ${ci_lower_ten_cumulative_return: .2f} and ${ci_upper_ten_cumulative_return: .2f} at the end of the 10 year period.\")\n",
    "\n"
   ]
  },
  {
   "cell_type": "markdown",
   "metadata": {},
   "source": [
    "#### Question: Will weighting the portfolio more heavily to stocks allow the credit union members to retire after only 10 years?"
   ]
  },
  {
   "cell_type": "markdown",
   "metadata": {},
   "source": [
    "**Answer**  No, it will not. Weighting heavier to stocks but only allowing 10-years of returns will not return near the amount that the 30-year, more evenly weighted, portfolio will. Due to the returns compounding on each other, the last 10 years in the 30-year plan is where you see the bulk of the gains made. "
   ]
  },
  {
   "cell_type": "code",
   "execution_count": null,
   "metadata": {},
   "outputs": [],
   "source": []
  }
 ],
 "metadata": {
  "kernelspec": {
   "display_name": "Python 3",
   "language": "python",
   "name": "python3"
  },
  "language_info": {
   "codemirror_mode": {
    "name": "ipython",
    "version": 3
   },
   "file_extension": ".py",
   "mimetype": "text/x-python",
   "name": "python",
   "nbconvert_exporter": "python",
   "pygments_lexer": "ipython3",
   "version": "3.7.7"
  }
 },
 "nbformat": 4,
 "nbformat_minor": 4
}
