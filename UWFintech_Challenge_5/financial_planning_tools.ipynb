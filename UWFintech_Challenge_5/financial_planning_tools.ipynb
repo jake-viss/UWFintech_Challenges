{
 "cells": [
  {
   "cell_type": "markdown",
   "metadata": {},
   "source": [
    "# Financial Planning with APIs and Simulations\n",
    "\n",
    "In this Challenge, you’ll create two financial analysis tools by using a single Jupyter notebook:\n",
    "\n",
    "Part 1: A financial planner for emergencies. The members will be able to use this tool to visualize their current savings. The members can then determine if they have enough reserves for an emergency fund.\n",
    "\n",
    "Part 2: A financial planner for retirement. This tool will forecast the performance of their retirement portfolio in 30 years. To do this, the tool will make an Alpaca API call via the Alpaca SDK to get historical price data for use in Monte Carlo simulations.\n",
    "\n",
    "You’ll use the information from the Monte Carlo simulation to answer questions about the portfolio in your Jupyter notebook.\n",
    "\n"
   ]
  },
  {
   "cell_type": "code",
   "execution_count": 1,
   "metadata": {},
   "outputs": [],
   "source": [
    "# Import the required libraries and dependencies\n",
    "import os\n",
    "import requests\n",
    "import json\n",
    "import pandas as pd\n",
    "from dotenv import load_dotenv\n",
    "import alpaca_trade_api as tradeapi\n",
    "from MCForecastTools import MCSimulation\n",
    "\n",
    "%matplotlib inline"
   ]
  },
  {
   "cell_type": "code",
   "execution_count": 2,
   "metadata": {},
   "outputs": [
    {
     "data": {
      "text/plain": [
       "True"
      ]
     },
     "execution_count": 2,
     "metadata": {},
     "output_type": "execute_result"
    }
   ],
   "source": [
    "# Load the environment variables from the .env file\n",
    "#by calling the load_dotenv function\n",
    "load_dotenv()"
   ]
  },
  {
   "cell_type": "markdown",
   "metadata": {},
   "source": [
    "## Part 1: Create a Financial Planner for Emergencies"
   ]
  },
  {
   "cell_type": "markdown",
   "metadata": {},
   "source": [
    "### Evaluate the Cryptocurrency Wallet by Using the Requests Library\n",
    "\n",
    "In this section, you’ll determine the current value of a member’s cryptocurrency wallet. You’ll collect the current prices for the Bitcoin and Ethereum cryptocurrencies by using the Python Requests library. For the prototype, you’ll assume that the member holds the 1.2 Bitcoins (BTC) and 5.3 Ethereum coins (ETH). To do all this, complete the following steps:\n",
    "\n",
    "1. Create a variable named `monthly_income`, and set its value to `12000`.\n",
    "\n",
    "2. Use the Requests library to get the current price (in US dollars) of Bitcoin (BTC) and Ethereum (ETH) by using the API endpoints that the starter code supplies.\n",
    "\n",
    "3. Navigate the JSON response object to access the current price of each coin, and store each in a variable.\n",
    "\n",
    "    > **Hint** Note the specific identifier for each cryptocurrency in the API JSON response. The Bitcoin identifier is `1`, and the Ethereum identifier is `1027`.\n",
    "\n",
    "4. Calculate the value, in US dollars, of the current amount of each cryptocurrency and of the entire cryptocurrency wallet.\n",
    "\n"
   ]
  },
  {
   "cell_type": "code",
   "execution_count": 3,
   "metadata": {},
   "outputs": [],
   "source": [
    "# The current number of coins for each cryptocurrency asset held in the portfolio.\n",
    "btc_coins = 1.2\n",
    "eth_coins = 5.3"
   ]
  },
  {
   "cell_type": "markdown",
   "metadata": {},
   "source": [
    "#### Step 1: Create a variable named `monthly_income`, and set its value to `12000`."
   ]
  },
  {
   "cell_type": "code",
   "execution_count": 4,
   "metadata": {},
   "outputs": [],
   "source": [
    "# The monthly amount for the member's household income\n",
    "monthly_income = 12000\n"
   ]
  },
  {
   "cell_type": "markdown",
   "metadata": {},
   "source": [
    "#### Review the endpoint URLs for the API calls to Free Crypto API in order to get the current pricing information for both BTC and ETH."
   ]
  },
  {
   "cell_type": "code",
   "execution_count": 5,
   "metadata": {},
   "outputs": [],
   "source": [
    "# The Free Crypto API Call endpoint URLs for the held cryptocurrency assets\n",
    "btc_url = \"https://api.alternative.me/v2/ticker/Bitcoin/?convert=USD\"\n",
    "eth_url = \"https://api.alternative.me/v2/ticker/Ethereum/?convert=USD\""
   ]
  },
  {
   "cell_type": "markdown",
   "metadata": {},
   "source": [
    "#### Step 2. Use the Requests library to get the current price (in US dollars) of Bitcoin (BTC) and Ethereum (ETH) by using the API endpoints that the starter code supplied."
   ]
  },
  {
   "cell_type": "code",
   "execution_count": 6,
   "metadata": {},
   "outputs": [
    {
     "name": "stdout",
     "output_type": "stream",
     "text": [
      "{\n",
      "    \"data\": {\n",
      "        \"1\": {\n",
      "            \"circulating_supply\": 18818543,\n",
      "            \"id\": 1,\n",
      "            \"last_updated\": 1631902146,\n",
      "            \"max_supply\": 21000000,\n",
      "            \"name\": \"Bitcoin\",\n",
      "            \"quotes\": {\n",
      "                \"USD\": {\n",
      "                    \"market_cap\": 892601094600,\n",
      "                    \"percent_change_1h\": -0.776551775006543,\n",
      "                    \"percent_change_24h\": -0.36410463778309,\n",
      "                    \"percent_change_7d\": 1.83304762597984,\n",
      "                    \"percentage_change_1h\": -0.776551775006543,\n",
      "                    \"percentage_change_24h\": -0.36410463778309,\n",
      "                    \"percentage_change_7d\": 1.83304762597984,\n",
      "                    \"price\": 47372.0,\n",
      "                    \"volume_24h\": 28084203878\n",
      "                }\n",
      "            },\n",
      "            \"rank\": 1,\n",
      "            \"symbol\": \"BTC\",\n",
      "            \"total_supply\": 18818543,\n",
      "            \"website_slug\": \"bitcoin\"\n",
      "        }\n",
      "    },\n",
      "    \"metadata\": {\n",
      "        \"error\": null,\n",
      "        \"num_cryptocurrencies\": 3105,\n",
      "        \"timestamp\": 1631902146\n",
      "    }\n",
      "}\n"
     ]
    }
   ],
   "source": [
    "# Using the Python requests library, make an API call to access the current price of BTC\n",
    "btc_response = requests.get(btc_url).json()\n",
    "\n",
    "# Use the json.dumps function to review the response data from the API call\n",
    "# Use the indent and sort_keys parameters to make the response object readable\n",
    "print(json.dumps(btc_response, indent=4, sort_keys=True))\n"
   ]
  },
  {
   "cell_type": "code",
   "execution_count": 7,
   "metadata": {},
   "outputs": [
    {
     "name": "stdout",
     "output_type": "stream",
     "text": [
      "{\n",
      "    \"data\": {\n",
      "        \"1027\": {\n",
      "            \"circulating_supply\": 117563683,\n",
      "            \"id\": 1027,\n",
      "            \"last_updated\": 1631902154,\n",
      "            \"max_supply\": 0,\n",
      "            \"name\": \"Ethereum\",\n",
      "            \"quotes\": {\n",
      "                \"USD\": {\n",
      "                    \"market_cap\": 403325738298,\n",
      "                    \"percent_change_1h\": -1.50007576971081,\n",
      "                    \"percent_change_24h\": -4.03499175125873,\n",
      "                    \"percent_change_7d\": -0.500827161719236,\n",
      "                    \"percentage_change_1h\": -1.50007576971081,\n",
      "                    \"percentage_change_24h\": -4.03499175125873,\n",
      "                    \"percentage_change_7d\": -0.500827161719236,\n",
      "                    \"price\": 3418.77,\n",
      "                    \"volume_24h\": 18896302167\n",
      "                }\n",
      "            },\n",
      "            \"rank\": 2,\n",
      "            \"symbol\": \"ETH\",\n",
      "            \"total_supply\": 117563683,\n",
      "            \"website_slug\": \"ethereum\"\n",
      "        }\n",
      "    },\n",
      "    \"metadata\": {\n",
      "        \"error\": null,\n",
      "        \"num_cryptocurrencies\": 3105,\n",
      "        \"timestamp\": 1631902154\n",
      "    }\n",
      "}\n"
     ]
    }
   ],
   "source": [
    "# Using the Python requests library, make an API call to access the current price ETH\n",
    "eth_response = requests.get(eth_url).json()\n",
    "\n",
    "# Use the json.dumps function to review the response data from the API call\n",
    "# Use the indent and sort_keys parameters to make the response object readable\n",
    "print(json.dumps(eth_response, indent=4, sort_keys=True))\n"
   ]
  },
  {
   "cell_type": "markdown",
   "metadata": {},
   "source": [
    "#### Step 3: Navigate the JSON response object to access the current price of each coin, and store each in a variable."
   ]
  },
  {
   "cell_type": "code",
   "execution_count": 8,
   "metadata": {},
   "outputs": [
    {
     "name": "stdout",
     "output_type": "stream",
     "text": [
      "47372.0\n"
     ]
    }
   ],
   "source": [
    "# Navigate the BTC response object to access the current price of BTC\n",
    "btc_price = btc_response[\"data\"][\"1\"][\"quotes\"][\"USD\"][\"price\"]\n",
    "\n",
    "# Print the current price of BTC\n",
    "print(btc_price)\n"
   ]
  },
  {
   "cell_type": "code",
   "execution_count": 9,
   "metadata": {},
   "outputs": [
    {
     "name": "stdout",
     "output_type": "stream",
     "text": [
      "3418.77\n"
     ]
    }
   ],
   "source": [
    "# Navigate the BTC response object to access the current price of ETH\n",
    "eth_price = eth_response[\"data\"][\"1027\"][\"quotes\"][\"USD\"][\"price\"]\n",
    "\n",
    "# Print the current price of ETH\n",
    "print(eth_price)"
   ]
  },
  {
   "cell_type": "markdown",
   "metadata": {},
   "source": [
    "### Step 4: Calculate the value, in US dollars, of the current amount of each cryptocurrency and of the entire cryptocurrency wallet."
   ]
  },
  {
   "cell_type": "code",
   "execution_count": 10,
   "metadata": {},
   "outputs": [
    {
     "name": "stdout",
     "output_type": "stream",
     "text": [
      "56846.4\n"
     ]
    }
   ],
   "source": [
    "# Compute the current value of the BTC holding \n",
    "btc_value = btc_price * btc_coins\n",
    "\n",
    "# Print current value of your holding in BTC\n",
    "print(btc_value)\n"
   ]
  },
  {
   "cell_type": "code",
   "execution_count": 11,
   "metadata": {},
   "outputs": [
    {
     "name": "stdout",
     "output_type": "stream",
     "text": [
      "18119.481\n"
     ]
    }
   ],
   "source": [
    "# Compute the current value of the ETH holding \n",
    "eth_value = eth_price * eth_coins\n",
    "\n",
    "# Print current value of your holding in ETH\n",
    "print(eth_value)\n"
   ]
  },
  {
   "cell_type": "code",
   "execution_count": 12,
   "metadata": {},
   "outputs": [
    {
     "name": "stdout",
     "output_type": "stream",
     "text": [
      "74965.881\n"
     ]
    }
   ],
   "source": [
    "# Compute the total value of the cryptocurrency wallet\n",
    "# Add the value of the BTC holding to the value of the ETH holding\n",
    "total_crypto_wallet = eth_value + btc_value\n",
    "\n",
    "# Print current cryptocurrency wallet balance\n",
    "print(total_crypto_wallet)\n"
   ]
  },
  {
   "cell_type": "markdown",
   "metadata": {},
   "source": [
    "### Evaluate the Stock and Bond Holdings by Using the Alpaca SDK\n",
    "\n",
    "In this section, you’ll determine the current value of a member’s stock and bond holdings. You’ll make an API call to Alpaca via the Alpaca SDK to get the current closing prices of the SPDR S&P 500 ETF Trust (ticker: SPY) and of the iShares Core US Aggregate Bond ETF (ticker: AGG). For the prototype, assume that the member holds 110 shares of SPY, which represents the stock portion of their portfolio, and 200 shares of AGG, which represents the bond portion. To do all this, complete the following steps:\n",
    "\n",
    "1. In the `Starter_Code` folder, create an environment file (`.env`) to store the values of your Alpaca API key and Alpaca secret key.\n",
    "\n",
    "2. Set the variables for the Alpaca API and secret keys. Using the Alpaca SDK, create the Alpaca `tradeapi.REST` object. In this object, include the parameters for the Alpaca API key, the secret key, and the version number.\n",
    "\n",
    "3. Set the following parameters for the Alpaca API call:\n",
    "\n",
    "    - `tickers`: Use the tickers for the member’s stock and bond holdings.\n",
    "\n",
    "    - `timeframe`: Use a time frame of one day.\n",
    "\n",
    "    - `start_date` and `end_date`: Use the same date for these parameters, and format them with the date of the previous weekday (or `2020-08-07`). This is because you want the one closing price for the most-recent trading day.\n",
    "\n",
    "4. Get the current closing prices for `SPY` and `AGG` by using the Alpaca `get_barset` function. Format the response as a Pandas DataFrame by including the `df` property at the end of the `get_barset` function.\n",
    "\n",
    "5. Navigating the Alpaca response DataFrame, select the `SPY` and `AGG` closing prices, and store them as variables.\n",
    "\n",
    "6. Calculate the value, in US dollars, of the current amount of shares in each of the stock and bond portions of the portfolio, and print the results.\n"
   ]
  },
  {
   "cell_type": "markdown",
   "metadata": {},
   "source": [
    "#### Review the total number of shares held in both (SPY) and (AGG)."
   ]
  },
  {
   "cell_type": "code",
   "execution_count": 13,
   "metadata": {},
   "outputs": [],
   "source": [
    "# Current amount of shares held in both the stock (SPY) and bond (AGG) portion of the portfolio.\n",
    "spy_shares = 110\n",
    "agg_shares = 200\n"
   ]
  },
  {
   "cell_type": "markdown",
   "metadata": {},
   "source": [
    "#### Step 1: In the `Starter_Code` folder, create an environment file (`.env`) to store the values of your Alpaca API key and Alpaca secret key."
   ]
  },
  {
   "cell_type": "markdown",
   "metadata": {},
   "source": [
    "#### Step 2: Set the variables for the Alpaca API and secret keys. Using the Alpaca SDK, create the Alpaca `tradeapi.REST` object. In this object, include the parameters for the Alpaca API key, the secret key, and the version number."
   ]
  },
  {
   "cell_type": "code",
   "execution_count": 14,
   "metadata": {},
   "outputs": [
    {
     "data": {
      "text/plain": [
       "20"
      ]
     },
     "metadata": {},
     "output_type": "display_data"
    },
    {
     "data": {
      "text/plain": [
       "40"
      ]
     },
     "metadata": {},
     "output_type": "display_data"
    }
   ],
   "source": [
    "# Set the variables for the Alpaca API and secret keys\n",
    "alpaca_api_key = os.getenv(\"ALPACA_API_KEY\")\n",
    "alpaca_secret_key = os.getenv(\"ALPACA_SECRET_KEY\")\n",
    "\n",
    "# Verify keys imported correctly.\n",
    "display(len(alpaca_api_key))\n",
    "display(len(alpaca_secret_key))\n",
    "\n",
    "# Create the Alpaca tradeapi.REST object\n",
    "alpaca = tradeapi.REST(\n",
    "    alpaca_api_key,\n",
    "    alpaca_secret_key,\n",
    "    api_version=\"v2\")\n"
   ]
  },
  {
   "cell_type": "markdown",
   "metadata": {},
   "source": [
    "#### Step 3: Set the following parameters for the Alpaca API call:\n",
    "\n",
    "- `tickers`: Use the tickers for the member’s stock and bond holdings.\n",
    "\n",
    "- `timeframe`: Use a time frame of one day.\n",
    "\n",
    "- `start_date` and `end_date`: Use the same date for these parameters, and format them with the date of the previous weekday (or `2020-08-07`). This is because you want the one closing price for the most-recent trading day.\n"
   ]
  },
  {
   "cell_type": "code",
   "execution_count": 15,
   "metadata": {},
   "outputs": [],
   "source": [
    "# Set the tickers for both the bond and stock portion of the portfolio\n",
    "tickers = [\"SPY\",\"AGG\"]\n",
    "\n",
    "# Set timeframe to 1D \n",
    "timeframe = \"1D\"\n",
    "\n",
    "# Format current date as ISO format\n",
    "# Set both the start and end date at the date of your prior weekday \n",
    "# This will give you the closing price of the previous trading day\n",
    "# Alternatively you can use a start and end date of 2020-08-07\n",
    "start_date = pd.Timestamp(\"2021-09-17\",tz=\"America/New_York\").isoformat()\n",
    "end_date = pd.Timestamp(\"2021-09-17\",tz=\"America/New_York\").isoformat()\n"
   ]
  },
  {
   "cell_type": "markdown",
   "metadata": {},
   "source": [
    "#### Step 4: Get the current closing prices for `SPY` and `AGG` by using the Alpaca `get_barset` function. Format the response as a Pandas DataFrame by including the `df` property at the end of the `get_barset` function."
   ]
  },
  {
   "cell_type": "code",
   "execution_count": 16,
   "metadata": {},
   "outputs": [
    {
     "data": {
      "text/html": [
       "<div>\n",
       "<style scoped>\n",
       "    .dataframe tbody tr th:only-of-type {\n",
       "        vertical-align: middle;\n",
       "    }\n",
       "\n",
       "    .dataframe tbody tr th {\n",
       "        vertical-align: top;\n",
       "    }\n",
       "\n",
       "    .dataframe thead tr th {\n",
       "        text-align: left;\n",
       "    }\n",
       "\n",
       "    .dataframe thead tr:last-of-type th {\n",
       "        text-align: right;\n",
       "    }\n",
       "</style>\n",
       "<table border=\"1\" class=\"dataframe\">\n",
       "  <thead>\n",
       "    <tr>\n",
       "      <th></th>\n",
       "      <th colspan=\"5\" halign=\"left\">AGG</th>\n",
       "      <th colspan=\"5\" halign=\"left\">SPY</th>\n",
       "    </tr>\n",
       "    <tr>\n",
       "      <th></th>\n",
       "      <th>open</th>\n",
       "      <th>high</th>\n",
       "      <th>low</th>\n",
       "      <th>close</th>\n",
       "      <th>volume</th>\n",
       "      <th>open</th>\n",
       "      <th>high</th>\n",
       "      <th>low</th>\n",
       "      <th>close</th>\n",
       "      <th>volume</th>\n",
       "    </tr>\n",
       "    <tr>\n",
       "      <th>time</th>\n",
       "      <th></th>\n",
       "      <th></th>\n",
       "      <th></th>\n",
       "      <th></th>\n",
       "      <th></th>\n",
       "      <th></th>\n",
       "      <th></th>\n",
       "      <th></th>\n",
       "      <th></th>\n",
       "      <th></th>\n",
       "    </tr>\n",
       "  </thead>\n",
       "  <tbody>\n",
       "    <tr>\n",
       "      <th>2021-09-17 00:00:00-04:00</th>\n",
       "      <td>115.8</td>\n",
       "      <td>115.875</td>\n",
       "      <td>115.7428</td>\n",
       "      <td>115.8593</td>\n",
       "      <td>3609025</td>\n",
       "      <td>444.92</td>\n",
       "      <td>445.37</td>\n",
       "      <td>441.02</td>\n",
       "      <td>441.935</td>\n",
       "      <td>69970992</td>\n",
       "    </tr>\n",
       "  </tbody>\n",
       "</table>\n",
       "</div>"
      ],
      "text/plain": [
       "                             AGG                                        \\\n",
       "                            open     high       low     close   volume   \n",
       "time                                                                     \n",
       "2021-09-17 00:00:00-04:00  115.8  115.875  115.7428  115.8593  3609025   \n",
       "\n",
       "                              SPY                                     \n",
       "                             open    high     low    close    volume  \n",
       "time                                                                  \n",
       "2021-09-17 00:00:00-04:00  444.92  445.37  441.02  441.935  69970992  "
      ]
     },
     "execution_count": 16,
     "metadata": {},
     "output_type": "execute_result"
    }
   ],
   "source": [
    "# Use the Alpaca get_barset function to get current closing prices the portfolio\n",
    "# Be sure to set the `df` property after the function to format the response object as a DataFrame\n",
    "df_closing_prices = alpaca.get_barset(\n",
    "    tickers,\n",
    "    timeframe,\n",
    "    start = start_date,\n",
    "    end = end_date).df\n",
    "\n",
    "# Review the first 5 rows of the Alpaca DataFrame\n",
    "df_closing_prices.head()\n"
   ]
  },
  {
   "cell_type": "markdown",
   "metadata": {},
   "source": [
    "#### Step 5: Navigating the Alpaca response DataFrame, select the `SPY` and `AGG` closing prices, and store them as variables."
   ]
  },
  {
   "cell_type": "code",
   "execution_count": 17,
   "metadata": {},
   "outputs": [
    {
     "name": "stdout",
     "output_type": "stream",
     "text": [
      "115.8593\n"
     ]
    }
   ],
   "source": [
    "# Access the closing price for AGG from the Alpaca DataFrame\n",
    "# Converting the value to a floating point number\n",
    "agg_close_price = float(df_closing_prices[\"AGG\"][\"close\"])\n",
    "\n",
    "# Print the AGG closing price\n",
    "print(agg_close_price)\n"
   ]
  },
  {
   "cell_type": "code",
   "execution_count": 18,
   "metadata": {},
   "outputs": [
    {
     "name": "stdout",
     "output_type": "stream",
     "text": [
      "441.935\n"
     ]
    }
   ],
   "source": [
    "# Access the closing price for SPY from the Alpaca DataFrame\n",
    "# Converting the value to a floating point number\n",
    "spy_close_price = float(df_closing_prices[\"SPY\"][\"close\"])\n",
    "\n",
    "# Print the SPY closing price\n",
    "print(spy_close_price)\n"
   ]
  },
  {
   "cell_type": "markdown",
   "metadata": {},
   "source": [
    "#### Step 6: Calculate the value, in US dollars, of the current amount of shares in each of the stock and bond portions of the portfolio, and print the results."
   ]
  },
  {
   "cell_type": "code",
   "execution_count": 19,
   "metadata": {},
   "outputs": [
    {
     "name": "stdout",
     "output_type": "stream",
     "text": [
      "23171.86\n"
     ]
    }
   ],
   "source": [
    "# Calculate the current value of the bond portion of the portfolio\n",
    "agg_value = agg_shares * agg_close_price\n",
    "\n",
    "# Print the current value of the bond portfolio\n",
    "print(agg_value)\n"
   ]
  },
  {
   "cell_type": "code",
   "execution_count": 20,
   "metadata": {},
   "outputs": [
    {
     "name": "stdout",
     "output_type": "stream",
     "text": [
      "48612.85\n"
     ]
    }
   ],
   "source": [
    "# Calculate the current value of the stock portion of the portfolio\n",
    "spy_value = spy_shares * spy_close_price\n",
    "\n",
    "# Print the current value of the stock portfolio\n",
    "print(spy_value)"
   ]
  },
  {
   "cell_type": "code",
   "execution_count": 21,
   "metadata": {},
   "outputs": [
    {
     "name": "stdout",
     "output_type": "stream",
     "text": [
      "71784.70999999999\n"
     ]
    }
   ],
   "source": [
    "# Calculate the total value of the stock and bond portion of the portfolio\n",
    "total_stocks_bonds = spy_value + agg_value\n",
    "\n",
    "# Print the current balance of the stock and bond portion of the portfolio\n",
    "print(total_stocks_bonds)"
   ]
  },
  {
   "cell_type": "code",
   "execution_count": 22,
   "metadata": {},
   "outputs": [
    {
     "name": "stdout",
     "output_type": "stream",
     "text": [
      "$ 146750.59\n"
     ]
    }
   ],
   "source": [
    "# Calculate the total value of the member's entire savings portfolio\n",
    "# Add the value of the cryptocurrency walled to the value of the total stocks and bonds\n",
    "total_portfolio = total_crypto_wallet + total_stocks_bonds\n",
    "\n",
    "# Print current cryptocurrency wallet balance\n",
    "print(f\"${total_portfolio: .2f}\")"
   ]
  },
  {
   "cell_type": "markdown",
   "metadata": {},
   "source": [
    "### Evaluate the Emergency Fund\n",
    "\n",
    "In this section, you’ll use the valuations for the cryptocurrency wallet and for the stock and bond portions of the portfolio to determine if the credit union member has enough savings to build an emergency fund into their financial plan. To do this, complete the following steps:\n",
    "\n",
    "1. Create a Python list named `savings_data` that has two elements. The first element contains the total value of the cryptocurrency wallet. The second element contains the total value of the stock and bond portions of the portfolio.\n",
    "\n",
    "2. Use the `savings_data` list to create a Pandas DataFrame named `savings_df`, and then display this DataFrame. The function to create the DataFrame should take the following three parameters:\n",
    "\n",
    "    - `savings_data`: Use the list that you just created.\n",
    "\n",
    "    - `columns`: Set this parameter equal to a Python list with a single value called `amount`.\n",
    "\n",
    "    - `index`: Set this parameter equal to a Python list with the values of `crypto` and `stock/bond`.\n",
    "\n",
    "3. Use the `savings_df` DataFrame to plot a pie chart that visualizes the composition of the member’s portfolio. The y-axis of the pie chart uses `amount`. Be sure to add a title.\n",
    "\n",
    "4. Using Python, determine if the current portfolio has enough to create an emergency fund as part of the member’s financial plan. Ideally, an emergency fund should equal to three times the member’s monthly income. To do this, implement the following steps:\n",
    "\n",
    "    1. Create a variable named `emergency_fund_value`, and set it equal to three times the value of the member’s `monthly_income` of $12000. (You set this earlier in Part 1).\n",
    "\n",
    "    2. Create a series of three if statements to determine if the member’s total portfolio is large enough to fund the emergency portfolio:\n",
    "\n",
    "        1. If the total portfolio value is greater than the emergency fund value, display a message congratulating the member for having enough money in this fund.\n",
    "\n",
    "        2. Else if the total portfolio value is equal to the emergency fund value, display a message congratulating the member on reaching this important financial goal.\n",
    "\n",
    "        3. Else the total portfolio is less than the emergency fund value, so display a message showing how many dollars away the member is from reaching the goal. (Subtract the total portfolio value from the emergency fund value.)\n"
   ]
  },
  {
   "cell_type": "markdown",
   "metadata": {},
   "source": [
    "#### Step 1: Create a Python list named `savings_data` that has two elements. The first element contains the total value of the cryptocurrency wallet. The second element contains the total value of the stock and bond portions of the portfolio."
   ]
  },
  {
   "cell_type": "code",
   "execution_count": 23,
   "metadata": {},
   "outputs": [
    {
     "data": {
      "text/plain": [
       "list"
      ]
     },
     "metadata": {},
     "output_type": "display_data"
    },
    {
     "data": {
      "text/plain": [
       "[74965.881, 71784.70999999999]"
      ]
     },
     "execution_count": 23,
     "metadata": {},
     "output_type": "execute_result"
    }
   ],
   "source": [
    "# Consolidate financial assets data into a Python list\n",
    "savings_data = [total_crypto_wallet, total_stocks_bonds]\n",
    "# Review the Python list savings_data\n",
    "display(type(savings_data))\n",
    "savings_data    "
   ]
  },
  {
   "cell_type": "markdown",
   "metadata": {},
   "source": [
    "#### Step 2: Use the `savings_data` list to create a Pandas DataFrame named `savings_df`, and then display this DataFrame. The function to create the DataFrame should take the following three parameters:\n",
    "\n",
    "- `savings_data`: Use the list that you just created.\n",
    "\n",
    "- `columns`: Set this parameter equal to a Python list with a single value called `amount`.\n",
    "\n",
    "- `index`: Set this parameter equal to a Python list with the values of `crypto` and `stock/bond`.\n"
   ]
  },
  {
   "cell_type": "code",
   "execution_count": 24,
   "metadata": {},
   "outputs": [
    {
     "data": {
      "text/html": [
       "<div>\n",
       "<style scoped>\n",
       "    .dataframe tbody tr th:only-of-type {\n",
       "        vertical-align: middle;\n",
       "    }\n",
       "\n",
       "    .dataframe tbody tr th {\n",
       "        vertical-align: top;\n",
       "    }\n",
       "\n",
       "    .dataframe thead th {\n",
       "        text-align: right;\n",
       "    }\n",
       "</style>\n",
       "<table border=\"1\" class=\"dataframe\">\n",
       "  <thead>\n",
       "    <tr style=\"text-align: right;\">\n",
       "      <th></th>\n",
       "      <th>amount</th>\n",
       "    </tr>\n",
       "  </thead>\n",
       "  <tbody>\n",
       "    <tr>\n",
       "      <th>crypto</th>\n",
       "      <td>74965.881</td>\n",
       "    </tr>\n",
       "    <tr>\n",
       "      <th>stock/bond</th>\n",
       "      <td>71784.710</td>\n",
       "    </tr>\n",
       "  </tbody>\n",
       "</table>\n",
       "</div>"
      ],
      "text/plain": [
       "               amount\n",
       "crypto      74965.881\n",
       "stock/bond  71784.710"
      ]
     },
     "execution_count": 24,
     "metadata": {},
     "output_type": "execute_result"
    }
   ],
   "source": [
    "# Create a Pandas DataFrame called savings_df\n",
    "column_names = [\"amount\"]\n",
    "savings_index = [\"crypto\",\"stock/bond\"]\n",
    "savings_df = pd.DataFrame(data=savings_data, columns=column_names, index=savings_index)\n",
    "# Display the savings_df DataFrame\n",
    "savings_df"
   ]
  },
  {
   "cell_type": "markdown",
   "metadata": {},
   "source": [
    "#### Step 3: Use the `savings_df` DataFrame to plot a pie chart that visualizes the composition of the member’s portfolio. The y-axis of the pie chart uses `amount`. Be sure to add a title."
   ]
  },
  {
   "cell_type": "code",
   "execution_count": 25,
   "metadata": {},
   "outputs": [
    {
     "data": {
      "text/plain": [
       "<AxesSubplot:title={'center':'Total Value of Portfolio'}, ylabel='amount'>"
      ]
     },
     "execution_count": 25,
     "metadata": {},
     "output_type": "execute_result"
    },
    {
     "data": {
      "image/png": "[encoded data removed]",
      "text/plain": [
       "<Figure size 432x288 with 1 Axes>"
      ]
     },
     "metadata": {},
     "output_type": "display_data"
    }
   ],
   "source": [
    "# Plot the total value of the member's portfolio (crypto and stock/bond) in a pie chart\n",
    "savings_df.plot.pie(y=\"amount\", title=\"Total Value of Portfolio\")\n"
   ]
  },
  {
   "cell_type": "markdown",
   "metadata": {},
   "source": [
    "#### Step 4: Using Python, determine if the current portfolio has enough to create an emergency fund as part of the member’s financial plan. Ideally, an emergency fund should equal to three times the member’s monthly income. To do this, implement the following steps:\n",
    "\n",
    "Step 1. Create a variable named `emergency_fund_value`, and set it equal to three times the value of the member’s `monthly_income` of 12000. (You set this earlier in Part 1).\n",
    "\n",
    "Step 2. Create a series of three if statements to determine if the member’s total portfolio is large enough to fund the emergency portfolio:\n",
    "\n",
    "* If the total portfolio value is greater than the emergency fund value, display a message congratulating the member for having enough money in this fund.\n",
    "\n",
    "* Else if the total portfolio value is equal to the emergency fund value, display a message congratulating the member on reaching this important financial goal.\n",
    "\n",
    "* Else the total portfolio is less than the emergency fund value, so display a message showing how many dollars away the member is from reaching the goal. (Subtract the total portfolio value from the emergency fund value.)\n"
   ]
  },
  {
   "cell_type": "markdown",
   "metadata": {},
   "source": [
    "##### Step 4-1: Create a variable named `emergency_fund_value`, and set it equal to three times the value of the member’s `monthly_income` of 12000. (You set this earlier in Part 1)."
   ]
  },
  {
   "cell_type": "code",
   "execution_count": 26,
   "metadata": {},
   "outputs": [],
   "source": [
    "# Create a variable named emergency_fund_value\n",
    "emergency_fund_value = monthly_income * 3\n"
   ]
  },
  {
   "cell_type": "markdown",
   "metadata": {},
   "source": [
    "##### Step 4-2: Create a series of three if statements to determine if the member’s total portfolio is large enough to fund the emergency portfolio:\n",
    "\n",
    "* If the total portfolio value is greater than the emergency fund value, display a message congratulating the member for having enough money in this fund.\n",
    "\n",
    "* Else if the total portfolio value is equal to the emergency fund value, display a message congratulating the member on reaching this important financial goal.\n",
    "\n",
    "* Else the total portfolio is less than the emergency fund value, so display a message showing how many dollars away the member is from reaching the goal. (Subtract the total portfolio value from the emergency fund value.)"
   ]
  },
  {
   "cell_type": "code",
   "execution_count": 27,
   "metadata": {},
   "outputs": [
    {
     "name": "stdout",
     "output_type": "stream",
     "text": [
      "Congrats - your portfolio has enough money in it to create an emergency fund.\n"
     ]
    }
   ],
   "source": [
    "# Evaluate the possibility of creating an emergency fund with 3 conditions:\n",
    "if total_portfolio > emergency_fund_value:\n",
    "    print(\"Congrats - your portfolio has enough money in it to create an emergency fund.\")\n",
    "elif total_portfolio == emergency_fund_value:\n",
    "    print(\"Congrats - You're portfolio has reached the value you need for an emeregency fund which is an important financial goal.\")\n",
    "else:\n",
    "    print(f\"Your porfolio value is less than the amount needed for a reasonable emergency fund. Currently, it is short ${emergency_fund_value - total_portfolio: .2f} dollars.\")\n"
   ]
  },
  {
   "cell_type": "markdown",
   "metadata": {},
   "source": [
    "## Part 2: Create a Financial Planner for Retirement"
   ]
  },
  {
   "cell_type": "markdown",
   "metadata": {},
   "source": [
    "### Create the Monte Carlo Simulation\n",
    "\n",
    "In this section, you’ll use the MCForecastTools library to create a Monte Carlo simulation for the member’s savings portfolio. To do this, complete the following steps:\n",
    "\n",
    "1. Make an API call via the Alpaca SDK to get 3 years of historical closing prices for a traditional 60/40 portfolio split: 60% stocks (SPY) and 40% bonds (AGG).\n",
    "\n",
    "2. Run a Monte Carlo simulation of 500 samples and 30 years for the 60/40 portfolio, and then plot the results.The following image shows the overlay line plot resulting from a simulation with these characteristics. However, because a random number generator is used to run each live Monte Carlo simulation, your image will differ slightly from this exact image:\n",
    "\n",
    "![A screenshot depicts the resulting plot.](Images/5-4-monte-carlo-line-plot.png)\n",
    "\n",
    "3. Plot the probability distribution of the Monte Carlo simulation. Plot the probability distribution of the Monte Carlo simulation. The following image shows the histogram plot resulting from a simulation with these characteristics. However, because a random number generator is used to run each live Monte Carlo simulation, your image will differ slightly from this exact image:\n",
    "\n",
    "![A screenshot depicts the histogram plot.](Images/5-4-monte-carlo-histogram.png)\n",
    "\n",
    "4. Generate the summary statistics for the Monte Carlo simulation.\n",
    "\n"
   ]
  },
  {
   "cell_type": "markdown",
   "metadata": {},
   "source": [
    "#### Step 1: Make an API call via the Alpaca SDK to get 3 years of historical closing prices for a traditional 60/40 portfolio split: 60% stocks (SPY) and 40% bonds (AGG)."
   ]
  },
  {
   "cell_type": "code",
   "execution_count": 28,
   "metadata": {},
   "outputs": [],
   "source": [
    "# Set start and end dates of 3 years back from your current date\n",
    "# Alternatively, you can use an end date of 2020-08-07 and work 3 years back from that date \n",
    "start_date = pd.Timestamp(\"2018-09-17\",tz=\"America/New_York\").isoformat()\n",
    "end_date = pd.Timestamp(\"2021-09-17\",tz=\"America/New_York\").isoformat()\n",
    "\n",
    "# Set number of rows to 1000 to retrieve the maximum amount of rows\n",
    "limit_rows = 1000"
   ]
  },
  {
   "cell_type": "code",
   "execution_count": 29,
   "metadata": {},
   "outputs": [
    {
     "data": {
      "text/html": [
       "<div>\n",
       "<style scoped>\n",
       "    .dataframe tbody tr th:only-of-type {\n",
       "        vertical-align: middle;\n",
       "    }\n",
       "\n",
       "    .dataframe tbody tr th {\n",
       "        vertical-align: top;\n",
       "    }\n",
       "\n",
       "    .dataframe thead tr th {\n",
       "        text-align: left;\n",
       "    }\n",
       "\n",
       "    .dataframe thead tr:last-of-type th {\n",
       "        text-align: right;\n",
       "    }\n",
       "</style>\n",
       "<table border=\"1\" class=\"dataframe\">\n",
       "  <thead>\n",
       "    <tr>\n",
       "      <th></th>\n",
       "      <th colspan=\"5\" halign=\"left\">AGG</th>\n",
       "      <th colspan=\"5\" halign=\"left\">SPY</th>\n",
       "    </tr>\n",
       "    <tr>\n",
       "      <th></th>\n",
       "      <th>open</th>\n",
       "      <th>high</th>\n",
       "      <th>low</th>\n",
       "      <th>close</th>\n",
       "      <th>volume</th>\n",
       "      <th>open</th>\n",
       "      <th>high</th>\n",
       "      <th>low</th>\n",
       "      <th>close</th>\n",
       "      <th>volume</th>\n",
       "    </tr>\n",
       "    <tr>\n",
       "      <th>time</th>\n",
       "      <th></th>\n",
       "      <th></th>\n",
       "      <th></th>\n",
       "      <th></th>\n",
       "      <th></th>\n",
       "      <th></th>\n",
       "      <th></th>\n",
       "      <th></th>\n",
       "      <th></th>\n",
       "      <th></th>\n",
       "    </tr>\n",
       "  </thead>\n",
       "  <tbody>\n",
       "    <tr>\n",
       "      <th>2018-09-17 00:00:00-04:00</th>\n",
       "      <td>105.65</td>\n",
       "      <td>105.78</td>\n",
       "      <td>105.6000</td>\n",
       "      <td>105.660</td>\n",
       "      <td>5198364</td>\n",
       "      <td>290.82</td>\n",
       "      <td>290.86</td>\n",
       "      <td>289.030</td>\n",
       "      <td>289.34</td>\n",
       "      <td>43382137</td>\n",
       "    </tr>\n",
       "    <tr>\n",
       "      <th>2018-09-18 00:00:00-04:00</th>\n",
       "      <td>105.59</td>\n",
       "      <td>105.60</td>\n",
       "      <td>105.3900</td>\n",
       "      <td>105.430</td>\n",
       "      <td>2194556</td>\n",
       "      <td>289.57</td>\n",
       "      <td>291.58</td>\n",
       "      <td>289.550</td>\n",
       "      <td>290.90</td>\n",
       "      <td>38573521</td>\n",
       "    </tr>\n",
       "    <tr>\n",
       "      <th>2018-09-19 00:00:00-04:00</th>\n",
       "      <td>105.42</td>\n",
       "      <td>105.43</td>\n",
       "      <td>105.2200</td>\n",
       "      <td>105.270</td>\n",
       "      <td>2605609</td>\n",
       "      <td>290.97</td>\n",
       "      <td>291.69</td>\n",
       "      <td>290.825</td>\n",
       "      <td>291.25</td>\n",
       "      <td>34596543</td>\n",
       "    </tr>\n",
       "    <tr>\n",
       "      <th>2018-09-20 00:00:00-04:00</th>\n",
       "      <td>105.23</td>\n",
       "      <td>105.45</td>\n",
       "      <td>105.2300</td>\n",
       "      <td>105.370</td>\n",
       "      <td>2627111</td>\n",
       "      <td>292.64</td>\n",
       "      <td>293.94</td>\n",
       "      <td>292.510</td>\n",
       "      <td>293.55</td>\n",
       "      <td>54097569</td>\n",
       "    </tr>\n",
       "    <tr>\n",
       "      <th>2018-09-21 00:00:00-04:00</th>\n",
       "      <td>105.34</td>\n",
       "      <td>105.47</td>\n",
       "      <td>105.3232</td>\n",
       "      <td>105.465</td>\n",
       "      <td>2420806</td>\n",
       "      <td>293.09</td>\n",
       "      <td>293.22</td>\n",
       "      <td>291.810</td>\n",
       "      <td>292.01</td>\n",
       "      <td>45805544</td>\n",
       "    </tr>\n",
       "  </tbody>\n",
       "</table>\n",
       "</div>"
      ],
      "text/plain": [
       "                              AGG                                         SPY  \\\n",
       "                             open    high       low    close   volume    open   \n",
       "time                                                                            \n",
       "2018-09-17 00:00:00-04:00  105.65  105.78  105.6000  105.660  5198364  290.82   \n",
       "2018-09-18 00:00:00-04:00  105.59  105.60  105.3900  105.430  2194556  289.57   \n",
       "2018-09-19 00:00:00-04:00  105.42  105.43  105.2200  105.270  2605609  290.97   \n",
       "2018-09-20 00:00:00-04:00  105.23  105.45  105.2300  105.370  2627111  292.64   \n",
       "2018-09-21 00:00:00-04:00  105.34  105.47  105.3232  105.465  2420806  293.09   \n",
       "\n",
       "                                                              \n",
       "                             high      low   close    volume  \n",
       "time                                                          \n",
       "2018-09-17 00:00:00-04:00  290.86  289.030  289.34  43382137  \n",
       "2018-09-18 00:00:00-04:00  291.58  289.550  290.90  38573521  \n",
       "2018-09-19 00:00:00-04:00  291.69  290.825  291.25  34596543  \n",
       "2018-09-20 00:00:00-04:00  293.94  292.510  293.55  54097569  \n",
       "2018-09-21 00:00:00-04:00  293.22  291.810  292.01  45805544  "
      ]
     },
     "metadata": {},
     "output_type": "display_data"
    },
    {
     "data": {
      "text/html": [
       "<div>\n",
       "<style scoped>\n",
       "    .dataframe tbody tr th:only-of-type {\n",
       "        vertical-align: middle;\n",
       "    }\n",
       "\n",
       "    .dataframe tbody tr th {\n",
       "        vertical-align: top;\n",
       "    }\n",
       "\n",
       "    .dataframe thead tr th {\n",
       "        text-align: left;\n",
       "    }\n",
       "\n",
       "    .dataframe thead tr:last-of-type th {\n",
       "        text-align: right;\n",
       "    }\n",
       "</style>\n",
       "<table border=\"1\" class=\"dataframe\">\n",
       "  <thead>\n",
       "    <tr>\n",
       "      <th></th>\n",
       "      <th colspan=\"5\" halign=\"left\">AGG</th>\n",
       "      <th colspan=\"5\" halign=\"left\">SPY</th>\n",
       "    </tr>\n",
       "    <tr>\n",
       "      <th></th>\n",
       "      <th>open</th>\n",
       "      <th>high</th>\n",
       "      <th>low</th>\n",
       "      <th>close</th>\n",
       "      <th>volume</th>\n",
       "      <th>open</th>\n",
       "      <th>high</th>\n",
       "      <th>low</th>\n",
       "      <th>close</th>\n",
       "      <th>volume</th>\n",
       "    </tr>\n",
       "    <tr>\n",
       "      <th>time</th>\n",
       "      <th></th>\n",
       "      <th></th>\n",
       "      <th></th>\n",
       "      <th></th>\n",
       "      <th></th>\n",
       "      <th></th>\n",
       "      <th></th>\n",
       "      <th></th>\n",
       "      <th></th>\n",
       "      <th></th>\n",
       "    </tr>\n",
       "  </thead>\n",
       "  <tbody>\n",
       "    <tr>\n",
       "      <th>2021-09-13 00:00:00-04:00</th>\n",
       "      <td>116.00</td>\n",
       "      <td>116.0750</td>\n",
       "      <td>115.9600</td>\n",
       "      <td>116.0300</td>\n",
       "      <td>3289881</td>\n",
       "      <td>448.65</td>\n",
       "      <td>448.92</td>\n",
       "      <td>444.11</td>\n",
       "      <td>446.560</td>\n",
       "      <td>75103627</td>\n",
       "    </tr>\n",
       "    <tr>\n",
       "      <th>2021-09-14 00:00:00-04:00</th>\n",
       "      <td>116.07</td>\n",
       "      <td>116.3800</td>\n",
       "      <td>116.0700</td>\n",
       "      <td>116.2800</td>\n",
       "      <td>4036304</td>\n",
       "      <td>448.12</td>\n",
       "      <td>448.34</td>\n",
       "      <td>443.22</td>\n",
       "      <td>444.180</td>\n",
       "      <td>67959711</td>\n",
       "    </tr>\n",
       "    <tr>\n",
       "      <th>2021-09-15 00:00:00-04:00</th>\n",
       "      <td>116.29</td>\n",
       "      <td>116.2929</td>\n",
       "      <td>116.0900</td>\n",
       "      <td>116.1900</td>\n",
       "      <td>3348036</td>\n",
       "      <td>444.62</td>\n",
       "      <td>448.41</td>\n",
       "      <td>443.44</td>\n",
       "      <td>447.870</td>\n",
       "      <td>69265024</td>\n",
       "    </tr>\n",
       "    <tr>\n",
       "      <th>2021-09-16 00:00:00-04:00</th>\n",
       "      <td>115.95</td>\n",
       "      <td>116.1100</td>\n",
       "      <td>115.9050</td>\n",
       "      <td>115.9900</td>\n",
       "      <td>3673608</td>\n",
       "      <td>447.32</td>\n",
       "      <td>448.36</td>\n",
       "      <td>444.02</td>\n",
       "      <td>447.140</td>\n",
       "      <td>69354318</td>\n",
       "    </tr>\n",
       "    <tr>\n",
       "      <th>2021-09-17 00:00:00-04:00</th>\n",
       "      <td>115.80</td>\n",
       "      <td>115.8750</td>\n",
       "      <td>115.7428</td>\n",
       "      <td>115.8593</td>\n",
       "      <td>3609025</td>\n",
       "      <td>444.92</td>\n",
       "      <td>445.37</td>\n",
       "      <td>441.02</td>\n",
       "      <td>441.935</td>\n",
       "      <td>69970992</td>\n",
       "    </tr>\n",
       "  </tbody>\n",
       "</table>\n",
       "</div>"
      ],
      "text/plain": [
       "                              AGG                                         \\\n",
       "                             open      high       low     close   volume   \n",
       "time                                                                       \n",
       "2021-09-13 00:00:00-04:00  116.00  116.0750  115.9600  116.0300  3289881   \n",
       "2021-09-14 00:00:00-04:00  116.07  116.3800  116.0700  116.2800  4036304   \n",
       "2021-09-15 00:00:00-04:00  116.29  116.2929  116.0900  116.1900  3348036   \n",
       "2021-09-16 00:00:00-04:00  115.95  116.1100  115.9050  115.9900  3673608   \n",
       "2021-09-17 00:00:00-04:00  115.80  115.8750  115.7428  115.8593  3609025   \n",
       "\n",
       "                              SPY                                     \n",
       "                             open    high     low    close    volume  \n",
       "time                                                                  \n",
       "2021-09-13 00:00:00-04:00  448.65  448.92  444.11  446.560  75103627  \n",
       "2021-09-14 00:00:00-04:00  448.12  448.34  443.22  444.180  67959711  \n",
       "2021-09-15 00:00:00-04:00  444.62  448.41  443.44  447.870  69265024  \n",
       "2021-09-16 00:00:00-04:00  447.32  448.36  444.02  447.140  69354318  \n",
       "2021-09-17 00:00:00-04:00  444.92  445.37  441.02  441.935  69970992  "
      ]
     },
     "metadata": {},
     "output_type": "display_data"
    }
   ],
   "source": [
    "# Use the Alpaca get_barset function to make the API call to get the 3 years worth of pricing data\n",
    "# The tickers and timeframe parameters should have been set in Part 1 of this activity \n",
    "# The start and end dates should be updated with the information set above\n",
    "# Remember to add the df property to the end of the call so the response is returned as a DataFrame\n",
    "three_year_pricing_df = alpaca.get_barset(\n",
    "    tickers,\n",
    "    timeframe,\n",
    "    start = start_date,\n",
    "    end = end_date,\n",
    "    limit = limit_rows\n",
    "    ).df\n",
    "\n",
    "\n",
    "# Display both the first and last five rows of the DataFrame\n",
    "display(three_year_pricing_df.head())\n",
    "display(three_year_pricing_df.tail())\n"
   ]
  },
  {
   "cell_type": "markdown",
   "metadata": {},
   "source": [
    "#### Step 2: Run a Monte Carlo simulation of 500 samples and 30 years for the 60/40 portfolio, and then plot the results."
   ]
  },
  {
   "cell_type": "code",
   "execution_count": 30,
   "metadata": {},
   "outputs": [
    {
     "data": {
      "text/html": [
       "<div>\n",
       "<style scoped>\n",
       "    .dataframe tbody tr th:only-of-type {\n",
       "        vertical-align: middle;\n",
       "    }\n",
       "\n",
       "    .dataframe tbody tr th {\n",
       "        vertical-align: top;\n",
       "    }\n",
       "\n",
       "    .dataframe thead tr th {\n",
       "        text-align: left;\n",
       "    }\n",
       "\n",
       "    .dataframe thead tr:last-of-type th {\n",
       "        text-align: right;\n",
       "    }\n",
       "</style>\n",
       "<table border=\"1\" class=\"dataframe\">\n",
       "  <thead>\n",
       "    <tr>\n",
       "      <th></th>\n",
       "      <th colspan=\"6\" halign=\"left\">AGG</th>\n",
       "      <th colspan=\"6\" halign=\"left\">SPY</th>\n",
       "    </tr>\n",
       "    <tr>\n",
       "      <th></th>\n",
       "      <th>open</th>\n",
       "      <th>high</th>\n",
       "      <th>low</th>\n",
       "      <th>close</th>\n",
       "      <th>volume</th>\n",
       "      <th>daily_return</th>\n",
       "      <th>open</th>\n",
       "      <th>high</th>\n",
       "      <th>low</th>\n",
       "      <th>close</th>\n",
       "      <th>volume</th>\n",
       "      <th>daily_return</th>\n",
       "    </tr>\n",
       "    <tr>\n",
       "      <th>time</th>\n",
       "      <th></th>\n",
       "      <th></th>\n",
       "      <th></th>\n",
       "      <th></th>\n",
       "      <th></th>\n",
       "      <th></th>\n",
       "      <th></th>\n",
       "      <th></th>\n",
       "      <th></th>\n",
       "      <th></th>\n",
       "      <th></th>\n",
       "      <th></th>\n",
       "    </tr>\n",
       "  </thead>\n",
       "  <tbody>\n",
       "    <tr>\n",
       "      <th>2018-09-17 00:00:00-04:00</th>\n",
       "      <td>105.65</td>\n",
       "      <td>105.78</td>\n",
       "      <td>105.6000</td>\n",
       "      <td>105.660</td>\n",
       "      <td>5198364</td>\n",
       "      <td>NaN</td>\n",
       "      <td>290.82</td>\n",
       "      <td>290.86</td>\n",
       "      <td>289.030</td>\n",
       "      <td>289.34</td>\n",
       "      <td>43382137</td>\n",
       "      <td>NaN</td>\n",
       "    </tr>\n",
       "    <tr>\n",
       "      <th>2018-09-18 00:00:00-04:00</th>\n",
       "      <td>105.59</td>\n",
       "      <td>105.60</td>\n",
       "      <td>105.3900</td>\n",
       "      <td>105.430</td>\n",
       "      <td>2194556</td>\n",
       "      <td>-0.002177</td>\n",
       "      <td>289.57</td>\n",
       "      <td>291.58</td>\n",
       "      <td>289.550</td>\n",
       "      <td>290.90</td>\n",
       "      <td>38573521</td>\n",
       "      <td>0.005392</td>\n",
       "    </tr>\n",
       "    <tr>\n",
       "      <th>2018-09-19 00:00:00-04:00</th>\n",
       "      <td>105.42</td>\n",
       "      <td>105.43</td>\n",
       "      <td>105.2200</td>\n",
       "      <td>105.270</td>\n",
       "      <td>2605609</td>\n",
       "      <td>-0.001518</td>\n",
       "      <td>290.97</td>\n",
       "      <td>291.69</td>\n",
       "      <td>290.825</td>\n",
       "      <td>291.25</td>\n",
       "      <td>34596543</td>\n",
       "      <td>0.001203</td>\n",
       "    </tr>\n",
       "    <tr>\n",
       "      <th>2018-09-20 00:00:00-04:00</th>\n",
       "      <td>105.23</td>\n",
       "      <td>105.45</td>\n",
       "      <td>105.2300</td>\n",
       "      <td>105.370</td>\n",
       "      <td>2627111</td>\n",
       "      <td>0.000950</td>\n",
       "      <td>292.64</td>\n",
       "      <td>293.94</td>\n",
       "      <td>292.510</td>\n",
       "      <td>293.55</td>\n",
       "      <td>54097569</td>\n",
       "      <td>0.007897</td>\n",
       "    </tr>\n",
       "    <tr>\n",
       "      <th>2018-09-21 00:00:00-04:00</th>\n",
       "      <td>105.34</td>\n",
       "      <td>105.47</td>\n",
       "      <td>105.3232</td>\n",
       "      <td>105.465</td>\n",
       "      <td>2420806</td>\n",
       "      <td>0.000902</td>\n",
       "      <td>293.09</td>\n",
       "      <td>293.22</td>\n",
       "      <td>291.810</td>\n",
       "      <td>292.01</td>\n",
       "      <td>45805544</td>\n",
       "      <td>-0.005246</td>\n",
       "    </tr>\n",
       "  </tbody>\n",
       "</table>\n",
       "</div>"
      ],
      "text/plain": [
       "                              AGG                                      \\\n",
       "                             open    high       low    close   volume   \n",
       "time                                                                    \n",
       "2018-09-17 00:00:00-04:00  105.65  105.78  105.6000  105.660  5198364   \n",
       "2018-09-18 00:00:00-04:00  105.59  105.60  105.3900  105.430  2194556   \n",
       "2018-09-19 00:00:00-04:00  105.42  105.43  105.2200  105.270  2605609   \n",
       "2018-09-20 00:00:00-04:00  105.23  105.45  105.2300  105.370  2627111   \n",
       "2018-09-21 00:00:00-04:00  105.34  105.47  105.3232  105.465  2420806   \n",
       "\n",
       "                                           SPY                           \\\n",
       "                          daily_return    open    high      low   close   \n",
       "time                                                                      \n",
       "2018-09-17 00:00:00-04:00          NaN  290.82  290.86  289.030  289.34   \n",
       "2018-09-18 00:00:00-04:00    -0.002177  289.57  291.58  289.550  290.90   \n",
       "2018-09-19 00:00:00-04:00    -0.001518  290.97  291.69  290.825  291.25   \n",
       "2018-09-20 00:00:00-04:00     0.000950  292.64  293.94  292.510  293.55   \n",
       "2018-09-21 00:00:00-04:00     0.000902  293.09  293.22  291.810  292.01   \n",
       "\n",
       "                                                  \n",
       "                             volume daily_return  \n",
       "time                                              \n",
       "2018-09-17 00:00:00-04:00  43382137          NaN  \n",
       "2018-09-18 00:00:00-04:00  38573521     0.005392  \n",
       "2018-09-19 00:00:00-04:00  34596543     0.001203  \n",
       "2018-09-20 00:00:00-04:00  54097569     0.007897  \n",
       "2018-09-21 00:00:00-04:00  45805544    -0.005246  "
      ]
     },
     "execution_count": 30,
     "metadata": {},
     "output_type": "execute_result"
    }
   ],
   "source": [
    "# Configure the Monte Carlo simulation to forecast 30 years cumulative returns\n",
    "# The weights should be split 40% to AGG and 60% to SPY.\n",
    "# Run 500 samples.\n",
    "MC_30_years = MCSimulation(\n",
    "  portfolio_data = three_year_pricing_df,\n",
    "  weights = [.40,.60],\n",
    "  num_simulation = 500,\n",
    "  num_trading_days = 252*30)\n",
    "\n",
    "# Review the simulation input data\n",
    "MC_30_years.portfolio_data.head()\n"
   ]
  },
  {
   "cell_type": "code",
   "execution_count": 31,
   "metadata": {},
   "outputs": [
    {
     "name": "stdout",
     "output_type": "stream",
     "text": [
      "Running Monte Carlo simulation number 0.\n",
      "Running Monte Carlo simulation number 10.\n",
      "Running Monte Carlo simulation number 20.\n",
      "Running Monte Carlo simulation number 30.\n",
      "Running Monte Carlo simulation number 40.\n",
      "Running Monte Carlo simulation number 50.\n",
      "Running Monte Carlo simulation number 60.\n",
      "Running Monte Carlo simulation number 70.\n",
      "Running Monte Carlo simulation number 80.\n",
      "Running Monte Carlo simulation number 90.\n",
      "Running Monte Carlo simulation number 100.\n",
      "Running Monte Carlo simulation number 110.\n",
      "Running Monte Carlo simulation number 120.\n",
      "Running Monte Carlo simulation number 130.\n",
      "Running Monte Carlo simulation number 140.\n",
      "Running Monte Carlo simulation number 150.\n",
      "Running Monte Carlo simulation number 160.\n",
      "Running Monte Carlo simulation number 170.\n",
      "Running Monte Carlo simulation number 180.\n",
      "Running Monte Carlo simulation number 190.\n",
      "Running Monte Carlo simulation number 200.\n",
      "Running Monte Carlo simulation number 210.\n",
      "Running Monte Carlo simulation number 220.\n",
      "Running Monte Carlo simulation number 230.\n",
      "Running Monte Carlo simulation number 240.\n",
      "Running Monte Carlo simulation number 250.\n",
      "Running Monte Carlo simulation number 260.\n",
      "Running Monte Carlo simulation number 270.\n",
      "Running Monte Carlo simulation number 280.\n",
      "Running Monte Carlo simulation number 290.\n",
      "Running Monte Carlo simulation number 300.\n",
      "Running Monte Carlo simulation number 310.\n",
      "Running Monte Carlo simulation number 320.\n",
      "Running Monte Carlo simulation number 330.\n",
      "Running Monte Carlo simulation number 340.\n",
      "Running Monte Carlo simulation number 350.\n",
      "Running Monte Carlo simulation number 360.\n",
      "Running Monte Carlo simulation number 370.\n",
      "Running Monte Carlo simulation number 380.\n",
      "Running Monte Carlo simulation number 390.\n",
      "Running Monte Carlo simulation number 400.\n",
      "Running Monte Carlo simulation number 410.\n",
      "Running Monte Carlo simulation number 420.\n",
      "Running Monte Carlo simulation number 430.\n",
      "Running Monte Carlo simulation number 440.\n",
      "Running Monte Carlo simulation number 450.\n",
      "Running Monte Carlo simulation number 460.\n",
      "Running Monte Carlo simulation number 470.\n",
      "Running Monte Carlo simulation number 480.\n",
      "Running Monte Carlo simulation number 490.\n"
     ]
    },
    {
     "data": {
      "text/html": [
       "<div>\n",
       "<style scoped>\n",
       "    .dataframe tbody tr th:only-of-type {\n",
       "        vertical-align: middle;\n",
       "    }\n",
       "\n",
       "    .dataframe tbody tr th {\n",
       "        vertical-align: top;\n",
       "    }\n",
       "\n",
       "    .dataframe thead th {\n",
       "        text-align: right;\n",
       "    }\n",
       "</style>\n",
       "<table border=\"1\" class=\"dataframe\">\n",
       "  <thead>\n",
       "    <tr style=\"text-align: right;\">\n",
       "      <th></th>\n",
       "      <th>0</th>\n",
       "      <th>1</th>\n",
       "      <th>2</th>\n",
       "      <th>3</th>\n",
       "      <th>4</th>\n",
       "      <th>5</th>\n",
       "      <th>6</th>\n",
       "      <th>7</th>\n",
       "      <th>8</th>\n",
       "      <th>9</th>\n",
       "      <th>...</th>\n",
       "      <th>490</th>\n",
       "      <th>491</th>\n",
       "      <th>492</th>\n",
       "      <th>493</th>\n",
       "      <th>494</th>\n",
       "      <th>495</th>\n",
       "      <th>496</th>\n",
       "      <th>497</th>\n",
       "      <th>498</th>\n",
       "      <th>499</th>\n",
       "    </tr>\n",
       "  </thead>\n",
       "  <tbody>\n",
       "    <tr>\n",
       "      <th>0</th>\n",
       "      <td>1.000000</td>\n",
       "      <td>1.000000</td>\n",
       "      <td>1.000000</td>\n",
       "      <td>1.000000</td>\n",
       "      <td>1.000000</td>\n",
       "      <td>1.000000</td>\n",
       "      <td>1.000000</td>\n",
       "      <td>1.000000</td>\n",
       "      <td>1.000000</td>\n",
       "      <td>1.000000</td>\n",
       "      <td>...</td>\n",
       "      <td>1.000000</td>\n",
       "      <td>1.000000</td>\n",
       "      <td>1.000000</td>\n",
       "      <td>1.000000</td>\n",
       "      <td>1.000000</td>\n",
       "      <td>1.000000</td>\n",
       "      <td>1.000000</td>\n",
       "      <td>1.000000</td>\n",
       "      <td>1.000000</td>\n",
       "      <td>1.000000</td>\n",
       "    </tr>\n",
       "    <tr>\n",
       "      <th>1</th>\n",
       "      <td>1.005856</td>\n",
       "      <td>1.001227</td>\n",
       "      <td>1.009644</td>\n",
       "      <td>0.993226</td>\n",
       "      <td>1.005702</td>\n",
       "      <td>1.011794</td>\n",
       "      <td>0.997380</td>\n",
       "      <td>0.992720</td>\n",
       "      <td>0.985823</td>\n",
       "      <td>1.001325</td>\n",
       "      <td>...</td>\n",
       "      <td>0.995432</td>\n",
       "      <td>1.008664</td>\n",
       "      <td>0.996281</td>\n",
       "      <td>1.004557</td>\n",
       "      <td>0.992093</td>\n",
       "      <td>1.004635</td>\n",
       "      <td>0.996199</td>\n",
       "      <td>0.999226</td>\n",
       "      <td>0.995741</td>\n",
       "      <td>1.007169</td>\n",
       "    </tr>\n",
       "    <tr>\n",
       "      <th>2</th>\n",
       "      <td>0.990229</td>\n",
       "      <td>1.004788</td>\n",
       "      <td>1.015887</td>\n",
       "      <td>0.989757</td>\n",
       "      <td>1.017323</td>\n",
       "      <td>1.013044</td>\n",
       "      <td>1.005700</td>\n",
       "      <td>0.998569</td>\n",
       "      <td>0.984188</td>\n",
       "      <td>1.005924</td>\n",
       "      <td>...</td>\n",
       "      <td>1.011224</td>\n",
       "      <td>1.006257</td>\n",
       "      <td>0.988617</td>\n",
       "      <td>1.004029</td>\n",
       "      <td>0.991577</td>\n",
       "      <td>1.003266</td>\n",
       "      <td>0.997296</td>\n",
       "      <td>1.008478</td>\n",
       "      <td>0.994832</td>\n",
       "      <td>1.005409</td>\n",
       "    </tr>\n",
       "    <tr>\n",
       "      <th>3</th>\n",
       "      <td>0.983523</td>\n",
       "      <td>0.997121</td>\n",
       "      <td>1.021699</td>\n",
       "      <td>0.989141</td>\n",
       "      <td>1.017994</td>\n",
       "      <td>1.018548</td>\n",
       "      <td>1.021170</td>\n",
       "      <td>0.989996</td>\n",
       "      <td>0.984620</td>\n",
       "      <td>1.001190</td>\n",
       "      <td>...</td>\n",
       "      <td>1.016869</td>\n",
       "      <td>1.007373</td>\n",
       "      <td>0.989595</td>\n",
       "      <td>0.986760</td>\n",
       "      <td>1.005498</td>\n",
       "      <td>1.004856</td>\n",
       "      <td>0.989990</td>\n",
       "      <td>1.011237</td>\n",
       "      <td>0.991104</td>\n",
       "      <td>1.010684</td>\n",
       "    </tr>\n",
       "    <tr>\n",
       "      <th>4</th>\n",
       "      <td>0.976664</td>\n",
       "      <td>0.988604</td>\n",
       "      <td>1.021019</td>\n",
       "      <td>1.001143</td>\n",
       "      <td>1.034924</td>\n",
       "      <td>1.026053</td>\n",
       "      <td>1.029429</td>\n",
       "      <td>1.006176</td>\n",
       "      <td>0.980419</td>\n",
       "      <td>1.004598</td>\n",
       "      <td>...</td>\n",
       "      <td>1.015216</td>\n",
       "      <td>1.017392</td>\n",
       "      <td>0.974233</td>\n",
       "      <td>0.978537</td>\n",
       "      <td>1.006106</td>\n",
       "      <td>1.014000</td>\n",
       "      <td>1.002174</td>\n",
       "      <td>1.012348</td>\n",
       "      <td>0.986491</td>\n",
       "      <td>1.010275</td>\n",
       "    </tr>\n",
       "    <tr>\n",
       "      <th>...</th>\n",
       "      <td>...</td>\n",
       "      <td>...</td>\n",
       "      <td>...</td>\n",
       "      <td>...</td>\n",
       "      <td>...</td>\n",
       "      <td>...</td>\n",
       "      <td>...</td>\n",
       "      <td>...</td>\n",
       "      <td>...</td>\n",
       "      <td>...</td>\n",
       "      <td>...</td>\n",
       "      <td>...</td>\n",
       "      <td>...</td>\n",
       "      <td>...</td>\n",
       "      <td>...</td>\n",
       "      <td>...</td>\n",
       "      <td>...</td>\n",
       "      <td>...</td>\n",
       "      <td>...</td>\n",
       "      <td>...</td>\n",
       "      <td>...</td>\n",
       "    </tr>\n",
       "    <tr>\n",
       "      <th>7556</th>\n",
       "      <td>21.843917</td>\n",
       "      <td>47.086997</td>\n",
       "      <td>8.136814</td>\n",
       "      <td>58.423564</td>\n",
       "      <td>19.000216</td>\n",
       "      <td>52.726071</td>\n",
       "      <td>58.939162</td>\n",
       "      <td>25.016282</td>\n",
       "      <td>12.265623</td>\n",
       "      <td>5.063041</td>\n",
       "      <td>...</td>\n",
       "      <td>70.828099</td>\n",
       "      <td>161.240453</td>\n",
       "      <td>14.880065</td>\n",
       "      <td>4.652951</td>\n",
       "      <td>29.788616</td>\n",
       "      <td>52.969632</td>\n",
       "      <td>11.572095</td>\n",
       "      <td>38.602225</td>\n",
       "      <td>27.547698</td>\n",
       "      <td>17.922607</td>\n",
       "    </tr>\n",
       "    <tr>\n",
       "      <th>7557</th>\n",
       "      <td>22.106079</td>\n",
       "      <td>47.544697</td>\n",
       "      <td>8.156125</td>\n",
       "      <td>58.362012</td>\n",
       "      <td>18.867655</td>\n",
       "      <td>53.355987</td>\n",
       "      <td>58.604986</td>\n",
       "      <td>25.183756</td>\n",
       "      <td>12.331492</td>\n",
       "      <td>5.072381</td>\n",
       "      <td>...</td>\n",
       "      <td>69.933273</td>\n",
       "      <td>163.331777</td>\n",
       "      <td>14.769407</td>\n",
       "      <td>4.581158</td>\n",
       "      <td>29.685162</td>\n",
       "      <td>53.854651</td>\n",
       "      <td>11.514195</td>\n",
       "      <td>38.726230</td>\n",
       "      <td>27.327535</td>\n",
       "      <td>17.998323</td>\n",
       "    </tr>\n",
       "    <tr>\n",
       "      <th>7558</th>\n",
       "      <td>22.172490</td>\n",
       "      <td>47.209881</td>\n",
       "      <td>8.193054</td>\n",
       "      <td>57.659965</td>\n",
       "      <td>18.925843</td>\n",
       "      <td>53.436406</td>\n",
       "      <td>58.677768</td>\n",
       "      <td>25.086980</td>\n",
       "      <td>12.184371</td>\n",
       "      <td>5.096771</td>\n",
       "      <td>...</td>\n",
       "      <td>70.580417</td>\n",
       "      <td>164.854485</td>\n",
       "      <td>14.961024</td>\n",
       "      <td>4.563342</td>\n",
       "      <td>29.665742</td>\n",
       "      <td>53.892653</td>\n",
       "      <td>11.490828</td>\n",
       "      <td>39.240237</td>\n",
       "      <td>27.548414</td>\n",
       "      <td>17.997884</td>\n",
       "    </tr>\n",
       "    <tr>\n",
       "      <th>7559</th>\n",
       "      <td>22.515117</td>\n",
       "      <td>46.680464</td>\n",
       "      <td>8.223403</td>\n",
       "      <td>58.337910</td>\n",
       "      <td>18.829682</td>\n",
       "      <td>53.130440</td>\n",
       "      <td>58.671513</td>\n",
       "      <td>25.124112</td>\n",
       "      <td>12.062712</td>\n",
       "      <td>5.055636</td>\n",
       "      <td>...</td>\n",
       "      <td>70.563607</td>\n",
       "      <td>165.781756</td>\n",
       "      <td>14.902993</td>\n",
       "      <td>4.581582</td>\n",
       "      <td>29.407032</td>\n",
       "      <td>54.051430</td>\n",
       "      <td>11.588618</td>\n",
       "      <td>39.679631</td>\n",
       "      <td>27.295640</td>\n",
       "      <td>18.054760</td>\n",
       "    </tr>\n",
       "    <tr>\n",
       "      <th>7560</th>\n",
       "      <td>22.719338</td>\n",
       "      <td>47.009585</td>\n",
       "      <td>8.296597</td>\n",
       "      <td>58.223634</td>\n",
       "      <td>19.036937</td>\n",
       "      <td>53.244825</td>\n",
       "      <td>58.335737</td>\n",
       "      <td>25.409027</td>\n",
       "      <td>12.052196</td>\n",
       "      <td>5.052341</td>\n",
       "      <td>...</td>\n",
       "      <td>71.440226</td>\n",
       "      <td>164.680924</td>\n",
       "      <td>14.957152</td>\n",
       "      <td>4.685649</td>\n",
       "      <td>29.150261</td>\n",
       "      <td>53.321074</td>\n",
       "      <td>11.508183</td>\n",
       "      <td>39.579564</td>\n",
       "      <td>27.531570</td>\n",
       "      <td>18.044626</td>\n",
       "    </tr>\n",
       "  </tbody>\n",
       "</table>\n",
       "<p>7561 rows × 500 columns</p>\n",
       "</div>"
      ],
      "text/plain": [
       "            0          1         2          3          4          5    \\\n",
       "0      1.000000   1.000000  1.000000   1.000000   1.000000   1.000000   \n",
       "1      1.005856   1.001227  1.009644   0.993226   1.005702   1.011794   \n",
       "2      0.990229   1.004788  1.015887   0.989757   1.017323   1.013044   \n",
       "3      0.983523   0.997121  1.021699   0.989141   1.017994   1.018548   \n",
       "4      0.976664   0.988604  1.021019   1.001143   1.034924   1.026053   \n",
       "...         ...        ...       ...        ...        ...        ...   \n",
       "7556  21.843917  47.086997  8.136814  58.423564  19.000216  52.726071   \n",
       "7557  22.106079  47.544697  8.156125  58.362012  18.867655  53.355987   \n",
       "7558  22.172490  47.209881  8.193054  57.659965  18.925843  53.436406   \n",
       "7559  22.515117  46.680464  8.223403  58.337910  18.829682  53.130440   \n",
       "7560  22.719338  47.009585  8.296597  58.223634  19.036937  53.244825   \n",
       "\n",
       "            6          7          8         9    ...        490         491  \\\n",
       "0      1.000000   1.000000   1.000000  1.000000  ...   1.000000    1.000000   \n",
       "1      0.997380   0.992720   0.985823  1.001325  ...   0.995432    1.008664   \n",
       "2      1.005700   0.998569   0.984188  1.005924  ...   1.011224    1.006257   \n",
       "3      1.021170   0.989996   0.984620  1.001190  ...   1.016869    1.007373   \n",
       "4      1.029429   1.006176   0.980419  1.004598  ...   1.015216    1.017392   \n",
       "...         ...        ...        ...       ...  ...        ...         ...   \n",
       "7556  58.939162  25.016282  12.265623  5.063041  ...  70.828099  161.240453   \n",
       "7557  58.604986  25.183756  12.331492  5.072381  ...  69.933273  163.331777   \n",
       "7558  58.677768  25.086980  12.184371  5.096771  ...  70.580417  164.854485   \n",
       "7559  58.671513  25.124112  12.062712  5.055636  ...  70.563607  165.781756   \n",
       "7560  58.335737  25.409027  12.052196  5.052341  ...  71.440226  164.680924   \n",
       "\n",
       "            492       493        494        495        496        497  \\\n",
       "0      1.000000  1.000000   1.000000   1.000000   1.000000   1.000000   \n",
       "1      0.996281  1.004557   0.992093   1.004635   0.996199   0.999226   \n",
       "2      0.988617  1.004029   0.991577   1.003266   0.997296   1.008478   \n",
       "3      0.989595  0.986760   1.005498   1.004856   0.989990   1.011237   \n",
       "4      0.974233  0.978537   1.006106   1.014000   1.002174   1.012348   \n",
       "...         ...       ...        ...        ...        ...        ...   \n",
       "7556  14.880065  4.652951  29.788616  52.969632  11.572095  38.602225   \n",
       "7557  14.769407  4.581158  29.685162  53.854651  11.514195  38.726230   \n",
       "7558  14.961024  4.563342  29.665742  53.892653  11.490828  39.240237   \n",
       "7559  14.902993  4.581582  29.407032  54.051430  11.588618  39.679631   \n",
       "7560  14.957152  4.685649  29.150261  53.321074  11.508183  39.579564   \n",
       "\n",
       "            498        499  \n",
       "0      1.000000   1.000000  \n",
       "1      0.995741   1.007169  \n",
       "2      0.994832   1.005409  \n",
       "3      0.991104   1.010684  \n",
       "4      0.986491   1.010275  \n",
       "...         ...        ...  \n",
       "7556  27.547698  17.922607  \n",
       "7557  27.327535  17.998323  \n",
       "7558  27.548414  17.997884  \n",
       "7559  27.295640  18.054760  \n",
       "7560  27.531570  18.044626  \n",
       "\n",
       "[7561 rows x 500 columns]"
      ]
     },
     "execution_count": 31,
     "metadata": {},
     "output_type": "execute_result"
    }
   ],
   "source": [
    "# Run the Monte Carlo simulation to forecast 30 years cumulative returns\n",
    "MC_30_years.calc_cumulative_return()\n"
   ]
  },
  {
   "cell_type": "code",
   "execution_count": 32,
   "metadata": {},
   "outputs": [
    {
     "data": {
      "text/plain": [
       "<AxesSubplot:title={'center':'500 Simulations of Cumulative Portfolio Return Trajectories Over the Next 7560 Trading Days.'}>"
      ]
     },
     "execution_count": 32,
     "metadata": {},
     "output_type": "execute_result"
    },
    {
     "data": {
      "image/png": "[encoded data removed]",
      "text/plain": [
       "<Figure size 432x288 with 1 Axes>"
      ]
     },
     "metadata": {
      "needs_background": "light"
     },
     "output_type": "display_data"
    }
   ],
   "source": [
    "# Visualize the 30-year Monte Carlo simulation by creating an\n",
    "# overlay line plot\n",
    "MC_30_years.plot_simulation()"
   ]
  },
  {
   "cell_type": "markdown",
   "metadata": {},
   "source": [
    "#### Step 3: Plot the probability distribution of the Monte Carlo simulation."
   ]
  },
  {
   "cell_type": "code",
   "execution_count": 33,
   "metadata": {},
   "outputs": [
    {
     "data": {
      "text/plain": [
       "<AxesSubplot:title={'center':'Distribution of Final Cumuluative Returns Across All 500 Simulations'}, ylabel='Frequency'>"
      ]
     },
     "execution_count": 33,
     "metadata": {},
     "output_type": "execute_result"
    },
    {
     "data": {
      "image/png": "[encoded data removed]",
      "text/plain": [
       "<Figure size 432x288 with 1 Axes>"
      ]
     },
     "metadata": {
      "needs_background": "light"
     },
     "output_type": "display_data"
    }
   ],
   "source": [
    "# Visualize the probability distribution of the 30-year Monte Carlo simulation \n",
    "# by plotting a histogram\n",
    "MC_30_years.plot_distribution()\n"
   ]
  },
  {
   "cell_type": "markdown",
   "metadata": {},
   "source": [
    "#### Step 4: Generate the summary statistics for the Monte Carlo simulation."
   ]
  },
  {
   "cell_type": "code",
   "execution_count": 34,
   "metadata": {},
   "outputs": [
    {
     "data": {
      "text/plain": [
       "count           500.000000\n",
       "mean             28.508965\n",
       "std              24.429044\n",
       "min               1.525492\n",
       "25%              12.515252\n",
       "50%              21.004493\n",
       "75%              37.092290\n",
       "max             164.680924\n",
       "95% CI Lower      3.881889\n",
       "95% CI Upper     94.190185\n",
       "Name: 7560, dtype: float64"
      ]
     },
     "execution_count": 34,
     "metadata": {},
     "output_type": "execute_result"
    }
   ],
   "source": [
    "# Generate summary statistics from the 30-year Monte Carlo simulation results\n",
    "# Save the results as a variable\n",
    "MC_30_summary = MC_30_years.summarize_cumulative_return()\n",
    "\n",
    "# Review the 30-year Monte Carlo summary statistics\n",
    "MC_30_summary"
   ]
  },
  {
   "cell_type": "markdown",
   "metadata": {},
   "source": [
    "### Analyze the Retirement Portfolio Forecasts\n",
    "\n",
    "Using the current value of only the stock and bond portion of the member's portfolio and the summary statistics that you generated from the Monte Carlo simulation, answer the following question in your Jupyter notebook:\n",
    "\n",
    "-  What are the lower and upper bounds for the expected value of the portfolio with a 95% confidence interval?\n"
   ]
  },
  {
   "cell_type": "code",
   "execution_count": 35,
   "metadata": {},
   "outputs": [
    {
     "name": "stdout",
     "output_type": "stream",
     "text": [
      "71784.70999999999\n"
     ]
    }
   ],
   "source": [
    "# Print the current balance of the stock and bond portion of the members portfolio\n",
    "print(total_stocks_bonds)"
   ]
  },
  {
   "cell_type": "code",
   "execution_count": 45,
   "metadata": {},
   "outputs": [
    {
     "name": "stdout",
     "output_type": "stream",
     "text": [
      " 278660.28\n",
      " 6761415.12\n"
     ]
    }
   ],
   "source": [
    "# Use the lower and upper `95%` confidence intervals to calculate the range of the possible outcomes for the current stock/bond portfolio\n",
    "ci_lower_thirty_cumulative_return = total_stocks_bonds * 3.881889\n",
    "ci_upper_thirty_cumulative_return = total_stocks_bonds * 94.190185\n",
    "\n",
    "# Print the result of your calculations\n",
    "print(f\"{ci_lower_thirty_cumulative_return: .2f}\")\n",
    "print(f\"{ci_upper_thirty_cumulative_return: .2f}\")\n"
   ]
  },
  {
   "cell_type": "markdown",
   "metadata": {},
   "source": [
    "### Forecast Cumulative Returns in 10 Years\n",
    "\n",
    "The CTO of the credit union is impressed with your work on these planning tools but wonders if 30 years is a long time to wait until retirement. So, your next task is to adjust the retirement portfolio and run a new Monte Carlo simulation to find out if the changes will allow members to retire earlier.\n",
    "\n",
    "For this new Monte Carlo simulation, do the following: \n",
    "\n",
    "- Forecast the cumulative returns for 10 years from now. Because of the shortened investment horizon (30 years to 10 years), the portfolio needs to invest more heavily in the riskier asset&mdash;that is, stock&mdash;to help accumulate wealth for retirement. \n",
    "\n",
    "- Adjust the weights of the retirement portfolio so that the composition for the Monte Carlo simulation consists of 20% bonds and 80% stocks. \n",
    "\n",
    "- Run the simulation over 500 samples, and use the same data that the API call to Alpaca generated.\n",
    "\n",
    "- Based on the new Monte Carlo simulation, answer the following questions in your Jupyter notebook:\n",
    "\n",
    "    - Using the current value of only the stock and bond portion of the member's portfolio and the summary statistics that you generated from the new Monte Carlo simulation, what are the lower and upper bounds for the expected value of the portfolio (with the new weights) with a 95% confidence interval?\n",
    "\n",
    "    - Will weighting the portfolio more heavily toward stocks allow the credit union members to retire after only 10 years?\n"
   ]
  },
  {
   "cell_type": "code",
   "execution_count": 37,
   "metadata": {},
   "outputs": [
    {
     "data": {
      "text/html": [
       "<div>\n",
       "<style scoped>\n",
       "    .dataframe tbody tr th:only-of-type {\n",
       "        vertical-align: middle;\n",
       "    }\n",
       "\n",
       "    .dataframe tbody tr th {\n",
       "        vertical-align: top;\n",
       "    }\n",
       "\n",
       "    .dataframe thead tr th {\n",
       "        text-align: left;\n",
       "    }\n",
       "\n",
       "    .dataframe thead tr:last-of-type th {\n",
       "        text-align: right;\n",
       "    }\n",
       "</style>\n",
       "<table border=\"1\" class=\"dataframe\">\n",
       "  <thead>\n",
       "    <tr>\n",
       "      <th></th>\n",
       "      <th colspan=\"6\" halign=\"left\">AGG</th>\n",
       "      <th colspan=\"6\" halign=\"left\">SPY</th>\n",
       "    </tr>\n",
       "    <tr>\n",
       "      <th></th>\n",
       "      <th>open</th>\n",
       "      <th>high</th>\n",
       "      <th>low</th>\n",
       "      <th>close</th>\n",
       "      <th>volume</th>\n",
       "      <th>daily_return</th>\n",
       "      <th>open</th>\n",
       "      <th>high</th>\n",
       "      <th>low</th>\n",
       "      <th>close</th>\n",
       "      <th>volume</th>\n",
       "      <th>daily_return</th>\n",
       "    </tr>\n",
       "    <tr>\n",
       "      <th>time</th>\n",
       "      <th></th>\n",
       "      <th></th>\n",
       "      <th></th>\n",
       "      <th></th>\n",
       "      <th></th>\n",
       "      <th></th>\n",
       "      <th></th>\n",
       "      <th></th>\n",
       "      <th></th>\n",
       "      <th></th>\n",
       "      <th></th>\n",
       "      <th></th>\n",
       "    </tr>\n",
       "  </thead>\n",
       "  <tbody>\n",
       "    <tr>\n",
       "      <th>2018-09-17 00:00:00-04:00</th>\n",
       "      <td>105.65</td>\n",
       "      <td>105.78</td>\n",
       "      <td>105.6000</td>\n",
       "      <td>105.660</td>\n",
       "      <td>5198364</td>\n",
       "      <td>NaN</td>\n",
       "      <td>290.82</td>\n",
       "      <td>290.86</td>\n",
       "      <td>289.030</td>\n",
       "      <td>289.34</td>\n",
       "      <td>43382137</td>\n",
       "      <td>NaN</td>\n",
       "    </tr>\n",
       "    <tr>\n",
       "      <th>2018-09-18 00:00:00-04:00</th>\n",
       "      <td>105.59</td>\n",
       "      <td>105.60</td>\n",
       "      <td>105.3900</td>\n",
       "      <td>105.430</td>\n",
       "      <td>2194556</td>\n",
       "      <td>-0.002177</td>\n",
       "      <td>289.57</td>\n",
       "      <td>291.58</td>\n",
       "      <td>289.550</td>\n",
       "      <td>290.90</td>\n",
       "      <td>38573521</td>\n",
       "      <td>0.005392</td>\n",
       "    </tr>\n",
       "    <tr>\n",
       "      <th>2018-09-19 00:00:00-04:00</th>\n",
       "      <td>105.42</td>\n",
       "      <td>105.43</td>\n",
       "      <td>105.2200</td>\n",
       "      <td>105.270</td>\n",
       "      <td>2605609</td>\n",
       "      <td>-0.001518</td>\n",
       "      <td>290.97</td>\n",
       "      <td>291.69</td>\n",
       "      <td>290.825</td>\n",
       "      <td>291.25</td>\n",
       "      <td>34596543</td>\n",
       "      <td>0.001203</td>\n",
       "    </tr>\n",
       "    <tr>\n",
       "      <th>2018-09-20 00:00:00-04:00</th>\n",
       "      <td>105.23</td>\n",
       "      <td>105.45</td>\n",
       "      <td>105.2300</td>\n",
       "      <td>105.370</td>\n",
       "      <td>2627111</td>\n",
       "      <td>0.000950</td>\n",
       "      <td>292.64</td>\n",
       "      <td>293.94</td>\n",
       "      <td>292.510</td>\n",
       "      <td>293.55</td>\n",
       "      <td>54097569</td>\n",
       "      <td>0.007897</td>\n",
       "    </tr>\n",
       "    <tr>\n",
       "      <th>2018-09-21 00:00:00-04:00</th>\n",
       "      <td>105.34</td>\n",
       "      <td>105.47</td>\n",
       "      <td>105.3232</td>\n",
       "      <td>105.465</td>\n",
       "      <td>2420806</td>\n",
       "      <td>0.000902</td>\n",
       "      <td>293.09</td>\n",
       "      <td>293.22</td>\n",
       "      <td>291.810</td>\n",
       "      <td>292.01</td>\n",
       "      <td>45805544</td>\n",
       "      <td>-0.005246</td>\n",
       "    </tr>\n",
       "  </tbody>\n",
       "</table>\n",
       "</div>"
      ],
      "text/plain": [
       "                              AGG                                      \\\n",
       "                             open    high       low    close   volume   \n",
       "time                                                                    \n",
       "2018-09-17 00:00:00-04:00  105.65  105.78  105.6000  105.660  5198364   \n",
       "2018-09-18 00:00:00-04:00  105.59  105.60  105.3900  105.430  2194556   \n",
       "2018-09-19 00:00:00-04:00  105.42  105.43  105.2200  105.270  2605609   \n",
       "2018-09-20 00:00:00-04:00  105.23  105.45  105.2300  105.370  2627111   \n",
       "2018-09-21 00:00:00-04:00  105.34  105.47  105.3232  105.465  2420806   \n",
       "\n",
       "                                           SPY                           \\\n",
       "                          daily_return    open    high      low   close   \n",
       "time                                                                      \n",
       "2018-09-17 00:00:00-04:00          NaN  290.82  290.86  289.030  289.34   \n",
       "2018-09-18 00:00:00-04:00    -0.002177  289.57  291.58  289.550  290.90   \n",
       "2018-09-19 00:00:00-04:00    -0.001518  290.97  291.69  290.825  291.25   \n",
       "2018-09-20 00:00:00-04:00     0.000950  292.64  293.94  292.510  293.55   \n",
       "2018-09-21 00:00:00-04:00     0.000902  293.09  293.22  291.810  292.01   \n",
       "\n",
       "                                                  \n",
       "                             volume daily_return  \n",
       "time                                              \n",
       "2018-09-17 00:00:00-04:00  43382137          NaN  \n",
       "2018-09-18 00:00:00-04:00  38573521     0.005392  \n",
       "2018-09-19 00:00:00-04:00  34596543     0.001203  \n",
       "2018-09-20 00:00:00-04:00  54097569     0.007897  \n",
       "2018-09-21 00:00:00-04:00  45805544    -0.005246  "
      ]
     },
     "execution_count": 37,
     "metadata": {},
     "output_type": "execute_result"
    }
   ],
   "source": [
    "# Configure a Monte Carlo simulation to forecast 10 years cumulative returns\n",
    "# The weights should be split 20% to AGG and 80% to SPY.\n",
    "# Run 500 samples.\n",
    "MC_10_years = MCSimulation(\n",
    "  portfolio_data = three_year_pricing_df,\n",
    "  weights = [.20,.80],\n",
    "  num_simulation = 500,\n",
    "  num_trading_days = 252*10)\n",
    "\n",
    "# Review the simulation input data\n",
    "MC_10_years.portfolio_data.head()\n"
   ]
  },
  {
   "cell_type": "code",
   "execution_count": 38,
   "metadata": {},
   "outputs": [
    {
     "name": "stdout",
     "output_type": "stream",
     "text": [
      "Running Monte Carlo simulation number 0.\n",
      "Running Monte Carlo simulation number 10.\n",
      "Running Monte Carlo simulation number 20.\n",
      "Running Monte Carlo simulation number 30.\n",
      "Running Monte Carlo simulation number 40.\n",
      "Running Monte Carlo simulation number 50.\n",
      "Running Monte Carlo simulation number 60.\n",
      "Running Monte Carlo simulation number 70.\n",
      "Running Monte Carlo simulation number 80.\n",
      "Running Monte Carlo simulation number 90.\n",
      "Running Monte Carlo simulation number 100.\n",
      "Running Monte Carlo simulation number 110.\n",
      "Running Monte Carlo simulation number 120.\n",
      "Running Monte Carlo simulation number 130.\n",
      "Running Monte Carlo simulation number 140.\n",
      "Running Monte Carlo simulation number 150.\n",
      "Running Monte Carlo simulation number 160.\n",
      "Running Monte Carlo simulation number 170.\n",
      "Running Monte Carlo simulation number 180.\n",
      "Running Monte Carlo simulation number 190.\n",
      "Running Monte Carlo simulation number 200.\n",
      "Running Monte Carlo simulation number 210.\n",
      "Running Monte Carlo simulation number 220.\n",
      "Running Monte Carlo simulation number 230.\n",
      "Running Monte Carlo simulation number 240.\n",
      "Running Monte Carlo simulation number 250.\n",
      "Running Monte Carlo simulation number 260.\n",
      "Running Monte Carlo simulation number 270.\n",
      "Running Monte Carlo simulation number 280.\n",
      "Running Monte Carlo simulation number 290.\n",
      "Running Monte Carlo simulation number 300.\n",
      "Running Monte Carlo simulation number 310.\n",
      "Running Monte Carlo simulation number 320.\n",
      "Running Monte Carlo simulation number 330.\n",
      "Running Monte Carlo simulation number 340.\n",
      "Running Monte Carlo simulation number 350.\n",
      "Running Monte Carlo simulation number 360.\n",
      "Running Monte Carlo simulation number 370.\n",
      "Running Monte Carlo simulation number 380.\n",
      "Running Monte Carlo simulation number 390.\n",
      "Running Monte Carlo simulation number 400.\n",
      "Running Monte Carlo simulation number 410.\n",
      "Running Monte Carlo simulation number 420.\n",
      "Running Monte Carlo simulation number 430.\n",
      "Running Monte Carlo simulation number 440.\n",
      "Running Monte Carlo simulation number 450.\n",
      "Running Monte Carlo simulation number 460.\n",
      "Running Monte Carlo simulation number 470.\n",
      "Running Monte Carlo simulation number 480.\n",
      "Running Monte Carlo simulation number 490.\n"
     ]
    },
    {
     "data": {
      "text/html": [
       "<div>\n",
       "<style scoped>\n",
       "    .dataframe tbody tr th:only-of-type {\n",
       "        vertical-align: middle;\n",
       "    }\n",
       "\n",
       "    .dataframe tbody tr th {\n",
       "        vertical-align: top;\n",
       "    }\n",
       "\n",
       "    .dataframe thead th {\n",
       "        text-align: right;\n",
       "    }\n",
       "</style>\n",
       "<table border=\"1\" class=\"dataframe\">\n",
       "  <thead>\n",
       "    <tr style=\"text-align: right;\">\n",
       "      <th></th>\n",
       "      <th>0</th>\n",
       "      <th>1</th>\n",
       "      <th>2</th>\n",
       "      <th>3</th>\n",
       "      <th>4</th>\n",
       "      <th>5</th>\n",
       "      <th>6</th>\n",
       "      <th>7</th>\n",
       "      <th>8</th>\n",
       "      <th>9</th>\n",
       "      <th>...</th>\n",
       "      <th>490</th>\n",
       "      <th>491</th>\n",
       "      <th>492</th>\n",
       "      <th>493</th>\n",
       "      <th>494</th>\n",
       "      <th>495</th>\n",
       "      <th>496</th>\n",
       "      <th>497</th>\n",
       "      <th>498</th>\n",
       "      <th>499</th>\n",
       "    </tr>\n",
       "  </thead>\n",
       "  <tbody>\n",
       "    <tr>\n",
       "      <th>0</th>\n",
       "      <td>1.000000</td>\n",
       "      <td>1.000000</td>\n",
       "      <td>1.000000</td>\n",
       "      <td>1.000000</td>\n",
       "      <td>1.000000</td>\n",
       "      <td>1.000000</td>\n",
       "      <td>1.000000</td>\n",
       "      <td>1.000000</td>\n",
       "      <td>1.000000</td>\n",
       "      <td>1.000000</td>\n",
       "      <td>...</td>\n",
       "      <td>1.000000</td>\n",
       "      <td>1.000000</td>\n",
       "      <td>1.000000</td>\n",
       "      <td>1.000000</td>\n",
       "      <td>1.000000</td>\n",
       "      <td>1.000000</td>\n",
       "      <td>1.000000</td>\n",
       "      <td>1.000000</td>\n",
       "      <td>1.000000</td>\n",
       "      <td>1.000000</td>\n",
       "    </tr>\n",
       "    <tr>\n",
       "      <th>1</th>\n",
       "      <td>1.002388</td>\n",
       "      <td>0.991174</td>\n",
       "      <td>0.993921</td>\n",
       "      <td>1.014478</td>\n",
       "      <td>0.986316</td>\n",
       "      <td>1.005745</td>\n",
       "      <td>1.009014</td>\n",
       "      <td>0.998572</td>\n",
       "      <td>1.000032</td>\n",
       "      <td>1.000687</td>\n",
       "      <td>...</td>\n",
       "      <td>0.996075</td>\n",
       "      <td>1.010701</td>\n",
       "      <td>1.014767</td>\n",
       "      <td>0.997082</td>\n",
       "      <td>0.986574</td>\n",
       "      <td>0.986262</td>\n",
       "      <td>0.987983</td>\n",
       "      <td>0.981136</td>\n",
       "      <td>1.003208</td>\n",
       "      <td>1.010195</td>\n",
       "    </tr>\n",
       "    <tr>\n",
       "      <th>2</th>\n",
       "      <td>1.006833</td>\n",
       "      <td>0.993102</td>\n",
       "      <td>0.991597</td>\n",
       "      <td>1.023206</td>\n",
       "      <td>0.999619</td>\n",
       "      <td>0.992473</td>\n",
       "      <td>1.009001</td>\n",
       "      <td>0.997661</td>\n",
       "      <td>1.002039</td>\n",
       "      <td>0.986769</td>\n",
       "      <td>...</td>\n",
       "      <td>0.999626</td>\n",
       "      <td>0.988305</td>\n",
       "      <td>1.007119</td>\n",
       "      <td>0.986148</td>\n",
       "      <td>0.980118</td>\n",
       "      <td>0.983918</td>\n",
       "      <td>1.006535</td>\n",
       "      <td>0.982643</td>\n",
       "      <td>1.000201</td>\n",
       "      <td>1.022876</td>\n",
       "    </tr>\n",
       "    <tr>\n",
       "      <th>3</th>\n",
       "      <td>1.027457</td>\n",
       "      <td>0.993429</td>\n",
       "      <td>1.002180</td>\n",
       "      <td>1.037659</td>\n",
       "      <td>0.986675</td>\n",
       "      <td>0.984243</td>\n",
       "      <td>0.994523</td>\n",
       "      <td>0.971034</td>\n",
       "      <td>1.019094</td>\n",
       "      <td>0.980131</td>\n",
       "      <td>...</td>\n",
       "      <td>0.999853</td>\n",
       "      <td>0.978923</td>\n",
       "      <td>1.001844</td>\n",
       "      <td>1.007764</td>\n",
       "      <td>0.963542</td>\n",
       "      <td>0.979252</td>\n",
       "      <td>0.997419</td>\n",
       "      <td>0.983911</td>\n",
       "      <td>0.996662</td>\n",
       "      <td>1.043526</td>\n",
       "    </tr>\n",
       "    <tr>\n",
       "      <th>4</th>\n",
       "      <td>1.010321</td>\n",
       "      <td>1.006603</td>\n",
       "      <td>1.012847</td>\n",
       "      <td>1.040656</td>\n",
       "      <td>0.969885</td>\n",
       "      <td>1.000049</td>\n",
       "      <td>1.000156</td>\n",
       "      <td>0.981524</td>\n",
       "      <td>1.023924</td>\n",
       "      <td>0.972547</td>\n",
       "      <td>...</td>\n",
       "      <td>1.002508</td>\n",
       "      <td>0.960712</td>\n",
       "      <td>0.995873</td>\n",
       "      <td>0.998938</td>\n",
       "      <td>0.962070</td>\n",
       "      <td>0.960378</td>\n",
       "      <td>0.986284</td>\n",
       "      <td>0.975795</td>\n",
       "      <td>1.005000</td>\n",
       "      <td>1.061966</td>\n",
       "    </tr>\n",
       "    <tr>\n",
       "      <th>...</th>\n",
       "      <td>...</td>\n",
       "      <td>...</td>\n",
       "      <td>...</td>\n",
       "      <td>...</td>\n",
       "      <td>...</td>\n",
       "      <td>...</td>\n",
       "      <td>...</td>\n",
       "      <td>...</td>\n",
       "      <td>...</td>\n",
       "      <td>...</td>\n",
       "      <td>...</td>\n",
       "      <td>...</td>\n",
       "      <td>...</td>\n",
       "      <td>...</td>\n",
       "      <td>...</td>\n",
       "      <td>...</td>\n",
       "      <td>...</td>\n",
       "      <td>...</td>\n",
       "      <td>...</td>\n",
       "      <td>...</td>\n",
       "      <td>...</td>\n",
       "    </tr>\n",
       "    <tr>\n",
       "      <th>2516</th>\n",
       "      <td>4.890417</td>\n",
       "      <td>3.153992</td>\n",
       "      <td>4.494360</td>\n",
       "      <td>4.025066</td>\n",
       "      <td>2.953254</td>\n",
       "      <td>3.944839</td>\n",
       "      <td>3.813125</td>\n",
       "      <td>3.208305</td>\n",
       "      <td>1.428185</td>\n",
       "      <td>5.713916</td>\n",
       "      <td>...</td>\n",
       "      <td>2.076389</td>\n",
       "      <td>3.160311</td>\n",
       "      <td>3.496201</td>\n",
       "      <td>4.580827</td>\n",
       "      <td>4.982748</td>\n",
       "      <td>2.916443</td>\n",
       "      <td>3.610175</td>\n",
       "      <td>4.072652</td>\n",
       "      <td>4.666154</td>\n",
       "      <td>1.809849</td>\n",
       "    </tr>\n",
       "    <tr>\n",
       "      <th>2517</th>\n",
       "      <td>4.783056</td>\n",
       "      <td>3.102709</td>\n",
       "      <td>4.568321</td>\n",
       "      <td>4.096255</td>\n",
       "      <td>2.953235</td>\n",
       "      <td>3.956673</td>\n",
       "      <td>3.803484</td>\n",
       "      <td>3.255677</td>\n",
       "      <td>1.429519</td>\n",
       "      <td>5.728755</td>\n",
       "      <td>...</td>\n",
       "      <td>2.049247</td>\n",
       "      <td>3.135978</td>\n",
       "      <td>3.446414</td>\n",
       "      <td>4.632268</td>\n",
       "      <td>5.014528</td>\n",
       "      <td>2.941593</td>\n",
       "      <td>3.628986</td>\n",
       "      <td>4.096497</td>\n",
       "      <td>4.659962</td>\n",
       "      <td>1.789598</td>\n",
       "    </tr>\n",
       "    <tr>\n",
       "      <th>2518</th>\n",
       "      <td>4.750103</td>\n",
       "      <td>3.093186</td>\n",
       "      <td>4.661927</td>\n",
       "      <td>4.113544</td>\n",
       "      <td>2.969697</td>\n",
       "      <td>3.880511</td>\n",
       "      <td>3.804531</td>\n",
       "      <td>3.327516</td>\n",
       "      <td>1.466683</td>\n",
       "      <td>5.861520</td>\n",
       "      <td>...</td>\n",
       "      <td>2.044886</td>\n",
       "      <td>3.131562</td>\n",
       "      <td>3.448316</td>\n",
       "      <td>4.600879</td>\n",
       "      <td>5.014770</td>\n",
       "      <td>2.991306</td>\n",
       "      <td>3.621474</td>\n",
       "      <td>4.009344</td>\n",
       "      <td>4.685263</td>\n",
       "      <td>1.779425</td>\n",
       "    </tr>\n",
       "    <tr>\n",
       "      <th>2519</th>\n",
       "      <td>4.703478</td>\n",
       "      <td>3.092240</td>\n",
       "      <td>4.667938</td>\n",
       "      <td>4.129493</td>\n",
       "      <td>2.930950</td>\n",
       "      <td>3.812091</td>\n",
       "      <td>3.842476</td>\n",
       "      <td>3.368096</td>\n",
       "      <td>1.485196</td>\n",
       "      <td>5.759841</td>\n",
       "      <td>...</td>\n",
       "      <td>2.108444</td>\n",
       "      <td>3.182153</td>\n",
       "      <td>3.457758</td>\n",
       "      <td>4.716779</td>\n",
       "      <td>4.963215</td>\n",
       "      <td>2.944726</td>\n",
       "      <td>3.633583</td>\n",
       "      <td>4.047667</td>\n",
       "      <td>4.731681</td>\n",
       "      <td>1.832113</td>\n",
       "    </tr>\n",
       "    <tr>\n",
       "      <th>2520</th>\n",
       "      <td>4.641700</td>\n",
       "      <td>3.113853</td>\n",
       "      <td>4.708734</td>\n",
       "      <td>4.137409</td>\n",
       "      <td>2.975534</td>\n",
       "      <td>3.771822</td>\n",
       "      <td>3.852678</td>\n",
       "      <td>3.348488</td>\n",
       "      <td>1.484032</td>\n",
       "      <td>5.824151</td>\n",
       "      <td>...</td>\n",
       "      <td>2.104813</td>\n",
       "      <td>3.139163</td>\n",
       "      <td>3.407663</td>\n",
       "      <td>4.676018</td>\n",
       "      <td>4.895151</td>\n",
       "      <td>3.025759</td>\n",
       "      <td>3.697905</td>\n",
       "      <td>4.075125</td>\n",
       "      <td>4.618979</td>\n",
       "      <td>1.834876</td>\n",
       "    </tr>\n",
       "  </tbody>\n",
       "</table>\n",
       "<p>2521 rows × 500 columns</p>\n",
       "</div>"
      ],
      "text/plain": [
       "           0         1         2         3         4         5         6    \\\n",
       "0     1.000000  1.000000  1.000000  1.000000  1.000000  1.000000  1.000000   \n",
       "1     1.002388  0.991174  0.993921  1.014478  0.986316  1.005745  1.009014   \n",
       "2     1.006833  0.993102  0.991597  1.023206  0.999619  0.992473  1.009001   \n",
       "3     1.027457  0.993429  1.002180  1.037659  0.986675  0.984243  0.994523   \n",
       "4     1.010321  1.006603  1.012847  1.040656  0.969885  1.000049  1.000156   \n",
       "...        ...       ...       ...       ...       ...       ...       ...   \n",
       "2516  4.890417  3.153992  4.494360  4.025066  2.953254  3.944839  3.813125   \n",
       "2517  4.783056  3.102709  4.568321  4.096255  2.953235  3.956673  3.803484   \n",
       "2518  4.750103  3.093186  4.661927  4.113544  2.969697  3.880511  3.804531   \n",
       "2519  4.703478  3.092240  4.667938  4.129493  2.930950  3.812091  3.842476   \n",
       "2520  4.641700  3.113853  4.708734  4.137409  2.975534  3.771822  3.852678   \n",
       "\n",
       "           7         8         9    ...       490       491       492  \\\n",
       "0     1.000000  1.000000  1.000000  ...  1.000000  1.000000  1.000000   \n",
       "1     0.998572  1.000032  1.000687  ...  0.996075  1.010701  1.014767   \n",
       "2     0.997661  1.002039  0.986769  ...  0.999626  0.988305  1.007119   \n",
       "3     0.971034  1.019094  0.980131  ...  0.999853  0.978923  1.001844   \n",
       "4     0.981524  1.023924  0.972547  ...  1.002508  0.960712  0.995873   \n",
       "...        ...       ...       ...  ...       ...       ...       ...   \n",
       "2516  3.208305  1.428185  5.713916  ...  2.076389  3.160311  3.496201   \n",
       "2517  3.255677  1.429519  5.728755  ...  2.049247  3.135978  3.446414   \n",
       "2518  3.327516  1.466683  5.861520  ...  2.044886  3.131562  3.448316   \n",
       "2519  3.368096  1.485196  5.759841  ...  2.108444  3.182153  3.457758   \n",
       "2520  3.348488  1.484032  5.824151  ...  2.104813  3.139163  3.407663   \n",
       "\n",
       "           493       494       495       496       497       498       499  \n",
       "0     1.000000  1.000000  1.000000  1.000000  1.000000  1.000000  1.000000  \n",
       "1     0.997082  0.986574  0.986262  0.987983  0.981136  1.003208  1.010195  \n",
       "2     0.986148  0.980118  0.983918  1.006535  0.982643  1.000201  1.022876  \n",
       "3     1.007764  0.963542  0.979252  0.997419  0.983911  0.996662  1.043526  \n",
       "4     0.998938  0.962070  0.960378  0.986284  0.975795  1.005000  1.061966  \n",
       "...        ...       ...       ...       ...       ...       ...       ...  \n",
       "2516  4.580827  4.982748  2.916443  3.610175  4.072652  4.666154  1.809849  \n",
       "2517  4.632268  5.014528  2.941593  3.628986  4.096497  4.659962  1.789598  \n",
       "2518  4.600879  5.014770  2.991306  3.621474  4.009344  4.685263  1.779425  \n",
       "2519  4.716779  4.963215  2.944726  3.633583  4.047667  4.731681  1.832113  \n",
       "2520  4.676018  4.895151  3.025759  3.697905  4.075125  4.618979  1.834876  \n",
       "\n",
       "[2521 rows x 500 columns]"
      ]
     },
     "execution_count": 38,
     "metadata": {},
     "output_type": "execute_result"
    }
   ],
   "source": [
    "# Run the Monte Carlo simulation to forecast 10 years cumulative returns\n",
    "MC_10_years.calc_cumulative_return()"
   ]
  },
  {
   "cell_type": "code",
   "execution_count": 39,
   "metadata": {},
   "outputs": [
    {
     "data": {
      "text/plain": [
       "<AxesSubplot:title={'center':'500 Simulations of Cumulative Portfolio Return Trajectories Over the Next 2520 Trading Days.'}>"
      ]
     },
     "execution_count": 39,
     "metadata": {},
     "output_type": "execute_result"
    },
    {
     "data": {
      "image/png": "[encoded data removed]",
      "text/plain": [
       "<Figure size 432x288 with 1 Axes>"
      ]
     },
     "metadata": {
      "needs_background": "light"
     },
     "output_type": "display_data"
    }
   ],
   "source": [
    "# Visualize the 10-year Monte Carlo simulation by creating an\n",
    "# overlay line plot\n",
    "MC_10_years.plot_simulation()\n"
   ]
  },
  {
   "cell_type": "code",
   "execution_count": 40,
   "metadata": {},
   "outputs": [
    {
     "data": {
      "text/plain": [
       "<AxesSubplot:title={'center':'Distribution of Final Cumuluative Returns Across All 500 Simulations'}, ylabel='Frequency'>"
      ]
     },
     "execution_count": 40,
     "metadata": {},
     "output_type": "execute_result"
    },
    {
     "data": {
      "image/png": "[encoded data removed]",
      "text/plain": [
       "<Figure size 432x288 with 1 Axes>"
      ]
     },
     "metadata": {
      "needs_background": "light"
     },
     "output_type": "display_data"
    }
   ],
   "source": [
    "# Visualize the probability distribution of the 10-year Monte Carlo simulation \n",
    "# by plotting a histogram\n",
    "MC_10_years.plot_distribution()\n"
   ]
  },
  {
   "cell_type": "code",
   "execution_count": 41,
   "metadata": {},
   "outputs": [
    {
     "data": {
      "text/plain": [
       "count           500.000000\n",
       "mean              4.140363\n",
       "std               2.356147\n",
       "min               0.494579\n",
       "25%               2.476565\n",
       "50%               3.694583\n",
       "75%               4.990180\n",
       "max              14.625088\n",
       "95% CI Lower      1.144863\n",
       "95% CI Upper     10.410069\n",
       "Name: 2520, dtype: float64"
      ]
     },
     "execution_count": 41,
     "metadata": {},
     "output_type": "execute_result"
    }
   ],
   "source": [
    "# Generate summary statistics from the 10-year Monte Carlo simulation results\n",
    "# Save the results as a variable\n",
    "MC_10_summary = MC_10_years.summarize_cumulative_return()\n",
    "\n",
    "\n",
    "# Review the 10-year Monte Carlo summary statistics\n",
    "MC_10_summary"
   ]
  },
  {
   "cell_type": "markdown",
   "metadata": {},
   "source": [
    "### Answer the following questions:"
   ]
  },
  {
   "cell_type": "markdown",
   "metadata": {},
   "source": [
    "#### Question: Using the current value of only the stock and bond portion of the member's portfolio and the summary statistics that you generated from the new Monte Carlo simulation, what are the lower and upper bounds for the expected value of the portfolio (with the new weights) with a 95% confidence interval?"
   ]
  },
  {
   "cell_type": "code",
   "execution_count": 42,
   "metadata": {},
   "outputs": [
    {
     "name": "stdout",
     "output_type": "stream",
     "text": [
      "71784.70999999999\n"
     ]
    }
   ],
   "source": [
    "# Print the current balance of the stock and bond portion of the members portfolio\n",
    "print(total_stocks_bonds)"
   ]
  },
  {
   "cell_type": "code",
   "execution_count": 46,
   "metadata": {},
   "outputs": [
    {
     "name": "stdout",
     "output_type": "stream",
     "text": [
      " 278660.28\n",
      " 6761415.12\n"
     ]
    }
   ],
   "source": [
    "# Use the lower and upper `95%` confidence intervals to calculate the range of the possible outcomes for the current stock/bond portfolio\n",
    "ci_lower_ten_cumulative_return = total_stocks_bonds * 1.144863\n",
    "ci_upper_ten_cumulative_return = total_stocks_bonds * 10.410069\n",
    "\n",
    "# Print the result of your calculations\n",
    "print(f\"{ci_lower_thirty_cumulative_return: .2f}\")\n",
    "print(f\"{ci_upper_thirty_cumulative_return: .2f}\")\n"
   ]
  },
  {
   "cell_type": "markdown",
   "metadata": {},
   "source": [
    "#### Question: Will weighting the portfolio more heavily to stocks allow the credit union members to retire after only 10 years?"
   ]
  },
  {
   "cell_type": "raw",
   "metadata": {},
   "source": [
    "**Answer**  No, it will not. Weighting heavier to stocks but only allowing 10-years of returns will not return near the amount that the 30-year, more evenly weighted, portfolio will. Due to the returns compounding on each other, the last 10 years in the 30-year plan is where you see the bulk of the gains made. "
   ]
  },
  {
   "cell_type": "code",
   "execution_count": null,
   "metadata": {},
   "outputs": [],
   "source": []
  }
 ],
 "metadata": {
  "kernelspec": {
   "display_name": "Python 3",
   "language": "python",
   "name": "python3"
  },
  "language_info": {
   "codemirror_mode": {
    "name": "ipython",
    "version": 3
   },
   "file_extension": ".py",
   "mimetype": "text/x-python",
   "name": "python",
   "nbconvert_exporter": "python",
   "pygments_lexer": "ipython3",
   "version": "3.7.10"
  }
 },
 "nbformat": 4,
 "nbformat_minor": 4
}
